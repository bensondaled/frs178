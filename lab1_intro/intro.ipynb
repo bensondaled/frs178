{
 "cells": [
  {
   "cell_type": "markdown",
   "metadata": {},
   "source": [
    "<center>*TA contact info*</center>\n",
    "<center>I am available for all programming and math-related questions throughout the course. The best way to contact me is by email: \n",
    "</center>\n",
    "\n",
    "<center>**deverett@princeton.edu**</center>\n",
    "\n",
    "---\n",
    "\n",
    "# Intro to Python\n",
    "\n",
    "Welcome to FRS178. As part of this course, you will learn to use programming as a tool for collecting and analyzing data.\n",
    "\n",
    "We will do most of our programming in **Python**, which is a multi-purpose programming language used by scientists, software developers, web designers, and more.\n",
    "\n",
    "To start, let's go over the basics of programming to get you moving with Python.\n",
    "But before beginning the tutorial, I leave you with the one and only rule of Python programming:\n",
    "\n",
    "<br/><center>*If you have a question, Google it. 99.9% of your questions have already been answered online.*</center><br/>\n",
    "\n",
    "\n",
    "(Side note: Learning the Python programming language is a large task that could constitute multiple courses in itself. However, this is not a programming course, but rather our goal will be to use programming as a tool for data exploration. Therefore, this overview is highly selective and fast-paced. I strongly encourage you to explore programming on your own to become familiar with it in more depth.)\n",
    "\n",
    "---"
   ]
  },
  {
   "cell_type": "markdown",
   "metadata": {},
   "source": [
    "You are currently looking at a Jupyter notebook. This is simply a program designed to edit and run text and code in a pretty way. The notebook is split into blocks called \"cells.\" A cell can contain text, like this one you are reading, or code, as you'll see soon.\n",
    "\n",
    "There are many keyboard commands available in notebooks, and you can find them by clicking the keyboard icon along the top menu. The most important command to know is:\n",
    "\n",
    "**ctrl + Enter**\n",
    "\n",
    "This command runs a cell. \n",
    "\n",
    "In the case of text cells, it simply formats the text. \n",
    "\n",
    "In the case of code cells, it executes the commands you have written, and displays an output if there is one.\n",
    "\n",
    "---\n",
    "\n",
    "<font color='green'> \n",
    "**Exercise**: in the next cell, write out the following, replacing \"Jen\" for your own name. Then, run the cell and see how the formatting turns out.  \n",
    "<br/><center>\n",
    "My name is Jen.  \n",
    "\\* My name is Jen. \\*  \n",
    "\\*\\* My name is Jen. \\*\\*  \n",
    "\\# My name is Jen.  \n",
    "\\#\\# My name is Jen.\n",
    "</center>\n",
    "\n",
    "<br/>\n",
    "*Hint*: to move to a new line, include 2 spaces at the end of the current line.  \n",
    "\n",
    "<br/>\n",
    "Play around with formatting to get a feel for text editing in notebook cells. If you want to learn more about this, you can visit:\n",
    "\n",
    "http://jupyter-notebook.readthedocs.io/en/latest/examples/Notebook/Working%20With%20Markdown%20Cells.html  \n",
    "\n",
    "</font>"
   ]
  },
  {
   "cell_type": "markdown",
   "metadata": {},
   "source": [
    "hello world!"
   ]
  },
  {
   "cell_type": "markdown",
   "metadata": {},
   "source": [
    "---\n",
    "\n",
    "Now that you can run a notebook cell, let's dive into Python. Our first exercise will teach us how to do some basic manipulations of words and numbers.\n",
    "\n",
    "<font color='green'> \n",
    "**Exercise**: convert the next cell to a code cell, then run it and see what happens. To do this:\n",
    "* select the cell by clicking on it\n",
    "* at the top menu, select Cell → Cell Type → Code\n",
    "* run the cell\n",
    "<br/><center>"
   ]
  },
  {
   "cell_type": "code",
   "execution_count": 1,
   "metadata": {
    "collapsed": false
   },
   "outputs": [
    {
     "name": "stdout",
     "output_type": "stream",
     "text": [
      "hello and welcome to FRS178!\n"
     ]
    }
   ],
   "source": [
    "print('hello and welcome to FRS178!')"
   ]
  },
  {
   "cell_type": "markdown",
   "metadata": {},
   "source": [
    "Congrats, you ran a line of Python code. Now, explore the following cell of Python code, edit it as you please, and re-run it each time you make an edit. The goal here is to get comfortable with editing and running cells of Python code."
   ]
  },
  {
   "cell_type": "code",
   "execution_count": 2,
   "metadata": {
    "collapsed": false
   },
   "outputs": [
    {
     "name": "stdout",
     "output_type": "stream",
     "text": [
      "Today is Thursday.\n",
      "4\n",
      "I have 63 apples.\n",
      "hello hello hello hello hello \n"
     ]
    }
   ],
   "source": [
    "# this line is a comment; Python completely ignores it\n",
    "\n",
    "print('Today is Thursday.')\n",
    "\n",
    "print(2+2)\n",
    "\n",
    "print('I have', 9*7, 'apples.')\n",
    "\n",
    "print(5*'hello ')"
   ]
  },
  {
   "cell_type": "markdown",
   "metadata": {},
   "source": [
    "Now let's learn about **variables**. A variable is just a container for anything: a number, a word or sentence (\"string\"), anything at all. Have a look at these examples."
   ]
  },
  {
   "cell_type": "code",
   "execution_count": 4,
   "metadata": {
    "collapsed": false
   },
   "outputs": [
    {
     "name": "stdout",
     "output_type": "stream",
     "text": [
      "Hello my name is ben and I am 15 years old.\n"
     ]
    }
   ],
   "source": [
    "my_name = 'ben' # the variable called \"my_name\" is given the value 'Ben'\n",
    "my_age = 15 # the variable called \"my_age\" is given the value 15\n",
    "\n",
    "print('Hello my name is', my_name, 'and I am', my_age, 'years old.')"
   ]
  },
  {
   "cell_type": "markdown",
   "metadata": {
    "collapsed": true
   },
   "source": [
    "Multiple variables can be stored in another type of variable called a **list**. Inspect each line of the next code block, and modify it to understand the behavior of lists."
   ]
  },
  {
   "cell_type": "code",
   "execution_count": null,
   "metadata": {
    "collapsed": true
   },
   "outputs": [],
   "source": []
  },
  {
   "cell_type": "code",
   "execution_count": 13,
   "metadata": {
    "collapsed": false
   },
   "outputs": [
    {
     "name": "stdout",
     "output_type": "stream",
     "text": [
      "The list has 5 elements.\n",
      "ben\n",
      "['alex', 'ben', 'cynthia']\n",
      "edward\n",
      "['alex', 'cynthia', 'edward']\n",
      "The first item is alex\n",
      "The first two items are ['alex', 'ben']\n"
     ]
    }
   ],
   "source": [
    "list_of_names = ['alex', my_name, 'cynthia', 'daisy', 'edward']\n",
    "\n",
    "print( 'The list has', len(list_of_names), 'elements.' )\n",
    "\n",
    "print( list_of_names[1] ) # print the **second** name\n",
    "\n",
    "print( list_of_names[0:3] ) # print the first **3** names\n",
    "\n",
    "print( list_of_names[-1] ) # print the last name\n",
    "\n",
    "print( list_of_names[::2] ) # print every other name, synatx is my_list[start:stop:increment]\n",
    "\n",
    "first_item = list_of_names[0]\n",
    "print('The first item is', first_item)\n",
    "\n",
    "first_two_items = list_of_names[0:2] # note the 0 : *2*\n",
    "print('The first two items are', first_two_items)"
   ]
  },
  {
   "cell_type": "code",
   "execution_count": null,
   "metadata": {
    "collapsed": false
   },
   "outputs": [],
   "source": []
  },
  {
   "cell_type": "markdown",
   "metadata": {},
   "source": [
    "You can also edit lists..."
   ]
  },
  {
   "cell_type": "code",
   "execution_count": 18,
   "metadata": {
    "collapsed": false
   },
   "outputs": [
    {
     "name": "stdout",
     "output_type": "stream",
     "text": [
      "Here is the original list: ['alex', 'ben', 'cynthia', 'daisy', 'edward']\n",
      "Here is the new modified list (#1): ['zorba', 'ben', 'cynthia', 'daisy', 'edward']\n",
      "Here is the new modified list (#2): ['zorba', 'ben', 'cynthia', 'daisy', 'edward', 'xavier']\n"
     ]
    }
   ],
   "source": [
    "print('Here is the original list:', list_of_names)\n",
    "\n",
    "list_of_names[0] = 'zorba' #  change the first element of the list\n",
    "print('Here is the new modified list (#1):', list_of_names)\n",
    "\n",
    "list_of_names.append('xavier') # add another item onto the end of the list\n",
    "print('Here is the new modified list (#2):', list_of_names)"
   ]
  },
  {
   "cell_type": "code",
   "execution_count": 24,
   "metadata": {
    "collapsed": false
   },
   "outputs": [
    {
     "name": "stdout",
     "output_type": "stream",
     "text": [
      "[1, 2, 4]\n",
      "['hi', 1, 2, 4]\n"
     ]
    }
   ],
   "source": [
    "my_list = [1, 2, 3] \n",
    "\n",
    "my_list[2] = 4\n",
    "\n",
    "print(my_list)\n",
    "\n",
    "my_list.insert(0, 'hi')\n",
    "\n",
    "print(my_list)"
   ]
  },
  {
   "cell_type": "markdown",
   "metadata": {},
   "source": [
    "The elements of a list can be just about anything, even lists themselves:"
   ]
  },
  {
   "cell_type": "code",
   "execution_count": 26,
   "metadata": {
    "collapsed": false
   },
   "outputs": [
    {
     "name": "stdout",
     "output_type": "stream",
     "text": [
      "[['a', 'b', 5], 'c']\n",
      "3\n"
     ]
    }
   ],
   "source": [
    "my_list_1 = ['a', 'b', 2+3]\n",
    "\n",
    "my_list_2 = [my_list_1, 'c']\n",
    "\n",
    "print(my_list_2)\n",
    "\n",
    "print"
   ]
  },
  {
   "cell_type": "code",
   "execution_count": null,
   "metadata": {
    "collapsed": false
   },
   "outputs": [],
   "source": []
  },
  {
   "cell_type": "markdown",
   "metadata": {},
   "source": [
    "What if you want to do some operation on every item in a list?\n",
    "\n",
    "Answer: **loops**"
   ]
  },
  {
   "cell_type": "code",
   "execution_count": 36,
   "metadata": {
    "collapsed": false
   },
   "outputs": [
    {
     "name": "stdout",
     "output_type": "stream",
     "text": [
      "ZORBA\n",
      "BEN\n",
      "CYNTHIA\n",
      "DAISY\n",
      "EDWARD\n",
      "XAVIER\n"
     ]
    }
   ],
   "source": [
    "for name in list_of_names:\n",
    "    print( name.upper() )"
   ]
  },
  {
   "cell_type": "code",
   "execution_count": 37,
   "metadata": {
    "collapsed": false
   },
   "outputs": [
    {
     "name": "stdout",
     "output_type": "stream",
     "text": [
      "0\n",
      "1\n",
      "2\n",
      "3\n",
      "4\n",
      "5\n",
      "6\n",
      "7\n",
      "8\n",
      "9\n",
      "10\n"
     ]
    }
   ],
   "source": [
    "for index in range(11):\n",
    "    print(index)"
   ]
  },
  {
   "cell_type": "markdown",
   "metadata": {},
   "source": [
    "<font color='green'> \n",
    "**Exercise**: let's generate some fake data on a classroom of students and their test scores.\n",
    "* run the cell below to load 2 lists: *names* contains some names, and *scores* contains some test scores represented as numbers of 0 to 1 (0 means 0% and 1 means 100%).\n",
    "* print out the length of both lists to confirm that you have a test score for every student\n",
    "* using a for loop, print out the students and test scores, with one line per student\n",
    "* repeat the previous exercise, but with the following modifications: (a) run through the list backwards, (b) consider only every 3rd student\n",
    "* define a third list, called *indices*, that contains the indices of 14 specific students you want you insepct. Then, use a for loop to display just these students and their scores.\n",
    "* use your indexing list again, but this time to assign scores randomly to students. Specifically: iterate through 14 student names (could be the first 14, last 14, or anything else of your choosing), but instead of displaying the score associated with that name, display the score corresponding to your index list at the current index.\n",
    "<br/><center>\n",
    "\n",
    "\n"
   ]
  },
  {
   "cell_type": "code",
   "execution_count": 38,
   "metadata": {
    "collapsed": false
   },
   "outputs": [],
   "source": [
    "from students import get_students # this will import the code necessary to load the students\n",
    "names,scores = get_students() # this uses the *get_students* function to load in the data"
   ]
  },
  {
   "cell_type": "code",
   "execution_count": null,
   "metadata": {
    "collapsed": false
   },
   "outputs": [],
   "source": []
  },
  {
   "cell_type": "markdown",
   "metadata": {},
   "source": [
    "---\n",
    "Now you know how to store information in variables, and how to iterate through lists of variables. What if you want to select an action dependent on the value of the variable?\n",
    "\n",
    "**\"if\" statements**"
   ]
  },
  {
   "cell_type": "code",
   "execution_count": 45,
   "metadata": {
    "collapsed": false
   },
   "outputs": [
    {
     "name": "stdout",
     "output_type": "stream",
     "text": [
      "The name is Lisa.\n",
      "The age is less than 25, but it's not 20.\n"
     ]
    }
   ],
   "source": [
    "name = 'lisa'\n",
    "\n",
    "if name == 'lisa':\n",
    "    print('The name is Lisa.')\n",
    "elif name == 'ahmed':\n",
    "    print('The name is Ahmed.')\n",
    "elif name == 'joe':\n",
    "    print('name is joe')\n",
    "else:\n",
    "    print('The name is neither Lisa nor Ahmed.')\n",
    "    \n",
    "\n",
    "age = 19\n",
    "\n",
    "if age == 20:\n",
    "    print('The age is 20.')\n",
    "elif age < 25:\n",
    "    print(\"The age is less than 25, but it's not 20.\")\n",
    "elif age > 30:\n",
    "    print('The age is greater than 30.')\n",
    "else:\n",
    "    print('The age must be between 25 and 30.')"
   ]
  },
  {
   "cell_type": "code",
   "execution_count": 43,
   "metadata": {
    "collapsed": false
   },
   "outputs": [
    {
     "data": {
      "text/plain": [
       "True"
      ]
     },
     "execution_count": 43,
     "metadata": {},
     "output_type": "execute_result"
    }
   ],
   "source": []
  },
  {
   "cell_type": "markdown",
   "metadata": {},
   "source": [
    "Modify the variables in the above code block to become comfortable with the behavior of \"if\" statements."
   ]
  },
  {
   "cell_type": "markdown",
   "metadata": {},
   "source": [
    "<font color='green'> \n",
    "**Exercise**: using the previous data about students and their test scores, do the following:\n",
    "\n",
    "* iterate through the students, and print the name and score of a student if and only if the student's name begins with an 'A'.\n",
    "* iterate through the students, and print the name and score of a student if and only if the student's name is exactly 5 characters long.\n",
    "* iterate through the students, and modify the score of each student based on their name. Specifically, if their name begins with a letter in the first half of the alphabet (A through M), add 5% to their test score. If it begins with a letter from \"P\" to \"U\", add 15% to their test score. Otherwise, leave their score unmodified. Print every student's name and score as you have done before. \n",
    "* bonus: modify the previous solution, if you did not already, so that no score can be above 100%.\n",
    "<br/><center>"
   ]
  },
  {
   "cell_type": "markdown",
   "metadata": {},
   "source": [
    "---\n",
    "Often your data will come in the form of long, complex strings that need to be split up, manipulated, and analyzed. Python is a particularly good programming language for string parsing. \n",
    "\n",
    "In the next block, we will load a variable called *story* into the workspace. This variable is one long string containing a story. Inspect the content of the string. What do you think '\\n' means?"
   ]
  },
  {
   "cell_type": "code",
   "execution_count": 16,
   "metadata": {
    "collapsed": false
   },
   "outputs": [],
   "source": [
    "from stories import story"
   ]
  },
  {
   "cell_type": "markdown",
   "metadata": {},
   "source": [
    "<font color='green'> \n",
    "**Exercise**: \n",
    "\n",
    "* using the *split* function, split the story string into a list of sentences\n",
    "* for each sentence in your list of sentences, replace the first character with the lowercase version of itself\n",
    "* for each sentence in your list of sentences, replace every 'a' with 'X'\n",
    "* filter the list of sentences to include only those than contain the word 'and'\n",
    "* convert your list of sentences into a new single string in which each sentence is separated from the previous by 3 empty lines\n",
    "* print out the final new version of the story\n",
    "<br/><center>"
   ]
  },
  {
   "cell_type": "markdown",
   "metadata": {},
   "source": [
    "Sometimes, you might want to create a list, but instead of the elements being numbered, they are named. In python, this \"named\" type of list is called a *dictionary*.\n",
    "\n",
    "The indices of a dictionary are called \"keys,\" and the corresponding values are \"values.\"\n",
    "\n",
    "Contrast lists and dictionaries by reviewing the code below:"
   ]
  },
  {
   "cell_type": "code",
   "execution_count": 46,
   "metadata": {
    "collapsed": false
   },
   "outputs": [
    {
     "name": "stdout",
     "output_type": "stream",
     "text": [
      "['a', 'b', 'c', 1]\n",
      "2\n",
      "{'a': 1, 'c': 5, 'd': 6, 'b': 2}\n"
     ]
    }
   ],
   "source": [
    "my_list = ['a', 'b', 'c', 1, 2, 3] # list is a normal list\n",
    "\n",
    "print(my_list[0:4])\n",
    "\n",
    "my_dict = {'a':1, 'b':2, 'c':3} # this is a dictionary, where the letters are keys and numbers are values\n",
    "\n",
    "print(my_dict['b'])\n",
    "\n",
    "my_dict['c'] = 5\n",
    "\n",
    "my_dict['d'] = 6\n",
    "\n",
    "print(my_dict)"
   ]
  },
  {
   "cell_type": "markdown",
   "metadata": {},
   "source": [
    "<font color='green'> \n",
    "**Exercise**: convert your *names* and *scores* list from above into a single dictionary, in which the names are the keys, and the scores are the values.\n",
    "<br/><center>"
   ]
  },
  {
   "cell_type": "markdown",
   "metadata": {},
   "source": [
    "---\n",
    "What if you want to perform mathematical operations on your variables?\n",
    "\n",
    "Consider the list of numbers defined in the code block below. Suppose you wanted to multiply all the values in the list by 2. What happens if you simply run `my_list*2`?"
   ]
  },
  {
   "cell_type": "code",
   "execution_count": 27,
   "metadata": {
    "collapsed": true
   },
   "outputs": [],
   "source": [
    "my_list = [1, 5, 11, 3, 90, 62, 8]"
   ]
  },
  {
   "cell_type": "markdown",
   "metadata": {},
   "source": [
    "Because Python is a general purpose programming language, the default behaviors are not necessarily mathematical. Fortunately, there is an excellent package called `numpy` (**num**erical **py**thon) that serves as an engine for mathematics in Python.\n",
    "\n",
    "Here is a basic example of numpy. What happens if you multiply the array defined below by 2?"
   ]
  },
  {
   "cell_type": "code",
   "execution_count": null,
   "metadata": {
    "collapsed": true
   },
   "outputs": [],
   "source": [
    "import numpy as np\n",
    "\n",
    "# a numpy array is like a list, but is more useful for mathematical operations\n",
    "my_array = np.array([1, 5, 11, 3, 90, 62, 8]) "
   ]
  },
  {
   "cell_type": "markdown",
   "metadata": {},
   "source": [
    "---\n",
    "That ends this brief intro to Python programming. You should now be comfortable with the following:\n",
    "\n",
    "* jupyter notebooks\n",
    "* variables (strings, numbers, lists)\n",
    "* for loops\n",
    "* if statements\n",
    "* string manipulation\n",
    "* numpy (know of its existence)"
   ]
  }
 ],
 "metadata": {
  "anaconda-cloud": {},
  "kernelspec": {
   "display_name": "Python [conda root]",
   "language": "python",
   "name": "conda-root-py"
  },
  "language_info": {
   "codemirror_mode": {
    "name": "ipython",
    "version": 3
   },
   "file_extension": ".py",
   "mimetype": "text/x-python",
   "name": "python",
   "nbconvert_exporter": "python",
   "pygments_lexer": "ipython3",
   "version": "3.5.2"
  }
 },
 "nbformat": 4,
 "nbformat_minor": 1
}
