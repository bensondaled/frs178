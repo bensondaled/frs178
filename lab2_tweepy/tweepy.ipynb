{
 "cells": [
  {
   "cell_type": "markdown",
   "metadata": {},
   "source": [
    "<center>*TA contact info*</center>\n",
    "\n",
    "<center>\n",
    "I am available for all programming and math-related questions throughout the course. The best way to contact me is by email:</center>\n",
    "\n",
    "<center>**deverett@princeton.edu**</center>\n",
    "\n",
    "---\n",
    "\n",
    "# Lab #2\n",
    "\n",
    "Last class, we learned about the basics of Python programming, including variables, lists, loops, and if statements. \n",
    "\n",
    "Today, we will build on that knowledge, jumping forward to look at functions, Python packages, and then at the Twitter API.\n",
    "\n",
    "*Note: if you didn't manage to attend the Intro to Plotting session, <a href=\"https://drive.google.com/open?id=0B2N8L8DcfG0NMHFoaXBjZERTY28\">here is the notebook</a>.*"
   ]
  },
  {
   "cell_type": "code",
   "execution_count": 7,
   "metadata": {
    "collapsed": false
   },
   "outputs": [
    {
     "name": "stdout",
     "output_type": "stream",
     "text": [
      "False\n",
      "True\n",
      "['hello', 'this', 'is', 'a', 'sentence']\n",
      "helloXthisXisXaXsentence\n",
      "There are 4 commas in the sentence\n",
      "There are 0 commas in the list of words\n"
     ]
    }
   ],
   "source": [
    "# a couple of useful tricks:\n",
    "\n",
    "print( 5 in [1, 2, 3] )\n",
    "print( 5 in [1, 2, 5] )\n",
    "\n",
    "sentence = 'hello,this,is,a,sentence'\n",
    "\n",
    "split_sentence = sentence.split(',')\n",
    "print ( split_sentence )\n",
    "\n",
    "joined_sentence = 'X'.join(split_sentence)\n",
    "print ( joined_sentence )\n",
    "\n",
    "print( 'There are', sentence.count(','), 'commas in the sentence' )\n",
    "print( 'There are', split_sentence.count(','), 'commas in the list of words' )"
   ]
  },
  {
   "cell_type": "markdown",
   "metadata": {},
   "source": [
    "---\n",
    "\n",
    "## Functions\n",
    "\n",
    "A function is simply a block of general-purpose code that can be run by calling its name.\n",
    "\n",
    "In most cases, this block of code can take some inputs, do its job on them, and then return some outputs.\n",
    "\n",
    "Let's look at a simple function:"
   ]
  },
  {
   "cell_type": "code",
   "execution_count": 2,
   "metadata": {
    "collapsed": true
   },
   "outputs": [],
   "source": [
    "def add(x, y):\n",
    "    result = x + y\n",
    "    return result"
   ]
  },
  {
   "cell_type": "code",
   "execution_count": 3,
   "metadata": {
    "collapsed": false
   },
   "outputs": [
    {
     "name": "stdout",
     "output_type": "stream",
     "text": [
      "7\n"
     ]
    }
   ],
   "source": [
    "a = 3\n",
    "b = 4\n",
    "\n",
    "z = add(a, b)\n",
    "\n",
    "print(z)"
   ]
  },
  {
   "cell_type": "markdown",
   "metadata": {},
   "source": [
    "In the previous example, `x` and `y` are **parameters** (also known as **arguments**) to the `add` function.\n",
    "\n",
    "Two other important concepts about functions:\n",
    "* default values for parameters\n",
    "* returning multiple objects"
   ]
  },
  {
   "cell_type": "code",
   "execution_count": 4,
   "metadata": {
    "collapsed": true
   },
   "outputs": [],
   "source": [
    "def split_string(string, n=2):\n",
    "    \"\"\"Split a string into n chunks\n",
    "    \n",
    "    Parameters\n",
    "    ----------\n",
    "    string : str\n",
    "        the string to be split\n",
    "    n : int\n",
    "        the number of chunks into which to split the string\n",
    "        \n",
    "    Returns\n",
    "    -------\n",
    "    chunks : a list of individual chunks made by splitting string\n",
    "    \"\"\"\n",
    "    if len(string) % n != 0:\n",
    "        print('Length of string is not divisible by n; expect some letters to be cut off.')\n",
    "    \n",
    "    chunk_size = len(string)//n\n",
    "    chunks = []\n",
    "    for i in range(n):\n",
    "        chunk = string[i*chunk_size : i*chunk_size + chunk_size]\n",
    "        chunks.append(chunk)\n",
    "    return chunks"
   ]
  },
  {
   "cell_type": "code",
   "execution_count": 6,
   "metadata": {
    "collapsed": false
   },
   "outputs": [
    {
     "name": "stdout",
     "output_type": "stream",
     "text": [
      "Length of string is not divisible by n; expect some letters to be cut off.\n",
      "['he', 'll', 'o ', 'wo', 'rl']\n"
     ]
    }
   ],
   "source": [
    "print( split_string('hello world!', 5) )"
   ]
  },
  {
   "cell_type": "markdown",
   "metadata": {},
   "source": [
    "  <font color='green'>   \n",
    "**Exercise**: Write a function that takes as parameters 3 strings and returns the answer to the question: \"are the lowercase versions of these 3 strings all the same?\"\n",
    " </font>"
   ]
  },
  {
   "cell_type": "markdown",
   "metadata": {},
   "source": [
    "---\n",
    "\n",
    "## Python packages\n",
    "\n",
    "Technically, it is possible for you to do almost any analysis using just what we have learned already in Python. But as you can imagine, some complex tasks would take years to achieve, including millions of lines of code.\n",
    "\n",
    "Fortunately, many generous developers have wrriten general-purpose code in the form of \"packages.\" Many such packages are free, widely available, and strictly maintained, so that we can use them and rely on them.\n",
    "\n",
    "Today we will look briefly at 2 such packages that are very popular in scientific computing: `numpy` and `pandas`.\n",
    "\n",
    "At the end, we will learn about a relatively new and useful package called `tweepy`, which will allow us to interact with Twitter."
   ]
  },
  {
   "cell_type": "markdown",
   "metadata": {},
   "source": [
    "### NumPy\n",
    "\n",
    "`numpy` is the numerical computing package for numpy. One of the most confusing topics for beginner Python programmers comes with the introduction of `numpy`. In this course, we will only make limited use of `numpy`, but it is very important to know.\n",
    "\n",
    "To import numpy (or any package), we use this syntax:"
   ]
  },
  {
   "cell_type": "code",
   "execution_count": null,
   "metadata": {
    "collapsed": false
   },
   "outputs": [],
   "source": [
    "import numpy as np"
   ]
  },
  {
   "cell_type": "markdown",
   "metadata": {},
   "source": [
    "This command makes all of the `numpy` functionality available to us under the shortcut name `np`.\n",
    "\n",
    "The primary concept to understand with `numpy` is the `array`. Arrays act very much like Python lists, which we learned last week. But, arrays are specialized for math.\n",
    "\n",
    "A `numpy` array can be created from any list, like this:"
   ]
  },
  {
   "cell_type": "code",
   "execution_count": 9,
   "metadata": {
    "collapsed": true
   },
   "outputs": [],
   "source": [
    "my_list = [5, 10, 11, 32]\n",
    "my_array = np.array(my_list)\n",
    "\n",
    "# or, equivalently:\n",
    "\n",
    "my_array = np.array([5, 10, 11, 32])"
   ]
  },
  {
   "cell_type": "markdown",
   "metadata": {},
   "source": [
    "To understand the difference between lists and arrays, consider the following cells:"
   ]
  },
  {
   "cell_type": "code",
   "execution_count": 10,
   "metadata": {
    "collapsed": false
   },
   "outputs": [
    {
     "name": "stdout",
     "output_type": "stream",
     "text": [
      "[5, 10, 11, 32, 5, 10, 11, 32]\n"
     ]
    }
   ],
   "source": [
    "print( my_list * 2 )"
   ]
  },
  {
   "cell_type": "code",
   "execution_count": 11,
   "metadata": {
    "collapsed": false
   },
   "outputs": [
    {
     "name": "stdout",
     "output_type": "stream",
     "text": [
      "[10 20 22 64]\n"
     ]
    }
   ],
   "source": [
    "print( my_array * 2 )"
   ]
  },
  {
   "cell_type": "code",
   "execution_count": 12,
   "metadata": {
    "collapsed": false
   },
   "outputs": [
    {
     "ename": "TypeError",
     "evalue": "can only concatenate list (not \"int\") to list",
     "output_type": "error",
     "traceback": [
      "\u001b[0;31m---------------------------------------------------------------------------\u001b[0m",
      "\u001b[0;31mTypeError\u001b[0m                                 Traceback (most recent call last)",
      "\u001b[0;32m<ipython-input-12-f8b2d01e71e4>\u001b[0m in \u001b[0;36m<module>\u001b[0;34m()\u001b[0m\n\u001b[0;32m----> 1\u001b[0;31m \u001b[0mprint\u001b[0m\u001b[0;34m(\u001b[0m \u001b[0mmy_list\u001b[0m \u001b[0;34m+\u001b[0m \u001b[0;36m2\u001b[0m \u001b[0;34m)\u001b[0m\u001b[0;34m\u001b[0m\u001b[0m\n\u001b[0m",
      "\u001b[0;31mTypeError\u001b[0m: can only concatenate list (not \"int\") to list"
     ]
    }
   ],
   "source": [
    "print( my_list + 2 )"
   ]
  },
  {
   "cell_type": "code",
   "execution_count": 13,
   "metadata": {
    "collapsed": false
   },
   "outputs": [
    {
     "name": "stdout",
     "output_type": "stream",
     "text": [
      "[ 7 12 13 34]\n"
     ]
    }
   ],
   "source": [
    "print( my_array + 2 )"
   ]
  },
  {
   "cell_type": "markdown",
   "metadata": {},
   "source": [
    "You now understand the claim that `numpy` arrays are specialized for math.\n",
    "\n",
    "You can always check the size and dimensions of an array using the `shape` attribute."
   ]
  },
  {
   "cell_type": "code",
   "execution_count": 14,
   "metadata": {
    "collapsed": false
   },
   "outputs": [
    {
     "name": "stdout",
     "output_type": "stream",
     "text": [
      "(4,)\n"
     ]
    }
   ],
   "source": [
    "print( my_array.shape )"
   ]
  },
  {
   "cell_type": "markdown",
   "metadata": {},
   "source": [
    "`numpy` offers a function similar to `range`, but that handles decimal numbers:"
   ]
  },
  {
   "cell_type": "code",
   "execution_count": 15,
   "metadata": {
    "collapsed": false
   },
   "outputs": [
    {
     "name": "stdout",
     "output_type": "stream",
     "text": [
      "[  0.00000000e+00   1.00000000e-01   2.00000000e-01 ...,   9.99700000e+02\n",
      "   9.99800000e+02   9.99900000e+02]\n"
     ]
    }
   ],
   "source": [
    "my_range = np.arange(0, 1000, 0.1)\n",
    "\n",
    "print(my_range)"
   ]
  },
  {
   "cell_type": "markdown",
   "metadata": {},
   "source": [
    "`numpy` also has functions for producing arrays of random numbers:"
   ]
  },
  {
   "cell_type": "code",
   "execution_count": 17,
   "metadata": {
    "collapsed": false
   },
   "outputs": [],
   "source": [
    "my_rand = np.random.random(10000)\n",
    "\n",
    "my_normal = np.random.normal(0, 1., size=10000)"
   ]
  },
  {
   "cell_type": "code",
   "execution_count": 19,
   "metadata": {
    "collapsed": false
   },
   "outputs": [
    {
     "data": {
      "application/javascript": [
       "/* Put everything inside the global mpl namespace */\n",
       "window.mpl = {};\n",
       "\n",
       "\n",
       "mpl.get_websocket_type = function() {\n",
       "    if (typeof(WebSocket) !== 'undefined') {\n",
       "        return WebSocket;\n",
       "    } else if (typeof(MozWebSocket) !== 'undefined') {\n",
       "        return MozWebSocket;\n",
       "    } else {\n",
       "        alert('Your browser does not have WebSocket support.' +\n",
       "              'Please try Chrome, Safari or Firefox ≥ 6. ' +\n",
       "              'Firefox 4 and 5 are also supported but you ' +\n",
       "              'have to enable WebSockets in about:config.');\n",
       "    };\n",
       "}\n",
       "\n",
       "mpl.figure = function(figure_id, websocket, ondownload, parent_element) {\n",
       "    this.id = figure_id;\n",
       "\n",
       "    this.ws = websocket;\n",
       "\n",
       "    this.supports_binary = (this.ws.binaryType != undefined);\n",
       "\n",
       "    if (!this.supports_binary) {\n",
       "        var warnings = document.getElementById(\"mpl-warnings\");\n",
       "        if (warnings) {\n",
       "            warnings.style.display = 'block';\n",
       "            warnings.textContent = (\n",
       "                \"This browser does not support binary websocket messages. \" +\n",
       "                    \"Performance may be slow.\");\n",
       "        }\n",
       "    }\n",
       "\n",
       "    this.imageObj = new Image();\n",
       "\n",
       "    this.context = undefined;\n",
       "    this.message = undefined;\n",
       "    this.canvas = undefined;\n",
       "    this.rubberband_canvas = undefined;\n",
       "    this.rubberband_context = undefined;\n",
       "    this.format_dropdown = undefined;\n",
       "\n",
       "    this.image_mode = 'full';\n",
       "\n",
       "    this.root = $('<div/>');\n",
       "    this._root_extra_style(this.root)\n",
       "    this.root.attr('style', 'display: inline-block');\n",
       "\n",
       "    $(parent_element).append(this.root);\n",
       "\n",
       "    this._init_header(this);\n",
       "    this._init_canvas(this);\n",
       "    this._init_toolbar(this);\n",
       "\n",
       "    var fig = this;\n",
       "\n",
       "    this.waiting = false;\n",
       "\n",
       "    this.ws.onopen =  function () {\n",
       "            fig.send_message(\"supports_binary\", {value: fig.supports_binary});\n",
       "            fig.send_message(\"send_image_mode\", {});\n",
       "            if (mpl.ratio != 1) {\n",
       "                fig.send_message(\"set_dpi_ratio\", {'dpi_ratio': mpl.ratio});\n",
       "            }\n",
       "            fig.send_message(\"refresh\", {});\n",
       "        }\n",
       "\n",
       "    this.imageObj.onload = function() {\n",
       "            if (fig.image_mode == 'full') {\n",
       "                // Full images could contain transparency (where diff images\n",
       "                // almost always do), so we need to clear the canvas so that\n",
       "                // there is no ghosting.\n",
       "                fig.context.clearRect(0, 0, fig.canvas.width, fig.canvas.height);\n",
       "            }\n",
       "            fig.context.drawImage(fig.imageObj, 0, 0);\n",
       "        };\n",
       "\n",
       "    this.imageObj.onunload = function() {\n",
       "        this.ws.close();\n",
       "    }\n",
       "\n",
       "    this.ws.onmessage = this._make_on_message_function(this);\n",
       "\n",
       "    this.ondownload = ondownload;\n",
       "}\n",
       "\n",
       "mpl.figure.prototype._init_header = function() {\n",
       "    var titlebar = $(\n",
       "        '<div class=\"ui-dialog-titlebar ui-widget-header ui-corner-all ' +\n",
       "        'ui-helper-clearfix\"/>');\n",
       "    var titletext = $(\n",
       "        '<div class=\"ui-dialog-title\" style=\"width: 100%; ' +\n",
       "        'text-align: center; padding: 3px;\"/>');\n",
       "    titlebar.append(titletext)\n",
       "    this.root.append(titlebar);\n",
       "    this.header = titletext[0];\n",
       "}\n",
       "\n",
       "\n",
       "\n",
       "mpl.figure.prototype._canvas_extra_style = function(canvas_div) {\n",
       "\n",
       "}\n",
       "\n",
       "\n",
       "mpl.figure.prototype._root_extra_style = function(canvas_div) {\n",
       "\n",
       "}\n",
       "\n",
       "mpl.figure.prototype._init_canvas = function() {\n",
       "    var fig = this;\n",
       "\n",
       "    var canvas_div = $('<div/>');\n",
       "\n",
       "    canvas_div.attr('style', 'position: relative; clear: both; outline: 0');\n",
       "\n",
       "    function canvas_keyboard_event(event) {\n",
       "        return fig.key_event(event, event['data']);\n",
       "    }\n",
       "\n",
       "    canvas_div.keydown('key_press', canvas_keyboard_event);\n",
       "    canvas_div.keyup('key_release', canvas_keyboard_event);\n",
       "    this.canvas_div = canvas_div\n",
       "    this._canvas_extra_style(canvas_div)\n",
       "    this.root.append(canvas_div);\n",
       "\n",
       "    var canvas = $('<canvas/>');\n",
       "    canvas.addClass('mpl-canvas');\n",
       "    canvas.attr('style', \"left: 0; top: 0; z-index: 0; outline: 0\")\n",
       "\n",
       "    this.canvas = canvas[0];\n",
       "    this.context = canvas[0].getContext(\"2d\");\n",
       "\n",
       "    var backingStore = this.context.backingStorePixelRatio ||\n",
       "\tthis.context.webkitBackingStorePixelRatio ||\n",
       "\tthis.context.mozBackingStorePixelRatio ||\n",
       "\tthis.context.msBackingStorePixelRatio ||\n",
       "\tthis.context.oBackingStorePixelRatio ||\n",
       "\tthis.context.backingStorePixelRatio || 1;\n",
       "\n",
       "    mpl.ratio = (window.devicePixelRatio || 1) / backingStore;\n",
       "\n",
       "    var rubberband = $('<canvas/>');\n",
       "    rubberband.attr('style', \"position: absolute; left: 0; top: 0; z-index: 1;\")\n",
       "\n",
       "    var pass_mouse_events = true;\n",
       "\n",
       "    canvas_div.resizable({\n",
       "        start: function(event, ui) {\n",
       "            pass_mouse_events = false;\n",
       "        },\n",
       "        resize: function(event, ui) {\n",
       "            fig.request_resize(ui.size.width, ui.size.height);\n",
       "        },\n",
       "        stop: function(event, ui) {\n",
       "            pass_mouse_events = true;\n",
       "            fig.request_resize(ui.size.width, ui.size.height);\n",
       "        },\n",
       "    });\n",
       "\n",
       "    function mouse_event_fn(event) {\n",
       "        if (pass_mouse_events)\n",
       "            return fig.mouse_event(event, event['data']);\n",
       "    }\n",
       "\n",
       "    rubberband.mousedown('button_press', mouse_event_fn);\n",
       "    rubberband.mouseup('button_release', mouse_event_fn);\n",
       "    // Throttle sequential mouse events to 1 every 20ms.\n",
       "    rubberband.mousemove('motion_notify', mouse_event_fn);\n",
       "\n",
       "    rubberband.mouseenter('figure_enter', mouse_event_fn);\n",
       "    rubberband.mouseleave('figure_leave', mouse_event_fn);\n",
       "\n",
       "    canvas_div.on(\"wheel\", function (event) {\n",
       "        event = event.originalEvent;\n",
       "        event['data'] = 'scroll'\n",
       "        if (event.deltaY < 0) {\n",
       "            event.step = 1;\n",
       "        } else {\n",
       "            event.step = -1;\n",
       "        }\n",
       "        mouse_event_fn(event);\n",
       "    });\n",
       "\n",
       "    canvas_div.append(canvas);\n",
       "    canvas_div.append(rubberband);\n",
       "\n",
       "    this.rubberband = rubberband;\n",
       "    this.rubberband_canvas = rubberband[0];\n",
       "    this.rubberband_context = rubberband[0].getContext(\"2d\");\n",
       "    this.rubberband_context.strokeStyle = \"#000000\";\n",
       "\n",
       "    this._resize_canvas = function(width, height) {\n",
       "        // Keep the size of the canvas, canvas container, and rubber band\n",
       "        // canvas in synch.\n",
       "        canvas_div.css('width', width)\n",
       "        canvas_div.css('height', height)\n",
       "\n",
       "        canvas.attr('width', width * mpl.ratio);\n",
       "        canvas.attr('height', height * mpl.ratio);\n",
       "        canvas.attr('style', 'width: ' + width + 'px; height: ' + height + 'px;');\n",
       "\n",
       "        rubberband.attr('width', width);\n",
       "        rubberband.attr('height', height);\n",
       "    }\n",
       "\n",
       "    // Set the figure to an initial 600x600px, this will subsequently be updated\n",
       "    // upon first draw.\n",
       "    this._resize_canvas(600, 600);\n",
       "\n",
       "    // Disable right mouse context menu.\n",
       "    $(this.rubberband_canvas).bind(\"contextmenu\",function(e){\n",
       "        return false;\n",
       "    });\n",
       "\n",
       "    function set_focus () {\n",
       "        canvas.focus();\n",
       "        canvas_div.focus();\n",
       "    }\n",
       "\n",
       "    window.setTimeout(set_focus, 100);\n",
       "}\n",
       "\n",
       "mpl.figure.prototype._init_toolbar = function() {\n",
       "    var fig = this;\n",
       "\n",
       "    var nav_element = $('<div/>')\n",
       "    nav_element.attr('style', 'width: 100%');\n",
       "    this.root.append(nav_element);\n",
       "\n",
       "    // Define a callback function for later on.\n",
       "    function toolbar_event(event) {\n",
       "        return fig.toolbar_button_onclick(event['data']);\n",
       "    }\n",
       "    function toolbar_mouse_event(event) {\n",
       "        return fig.toolbar_button_onmouseover(event['data']);\n",
       "    }\n",
       "\n",
       "    for(var toolbar_ind in mpl.toolbar_items) {\n",
       "        var name = mpl.toolbar_items[toolbar_ind][0];\n",
       "        var tooltip = mpl.toolbar_items[toolbar_ind][1];\n",
       "        var image = mpl.toolbar_items[toolbar_ind][2];\n",
       "        var method_name = mpl.toolbar_items[toolbar_ind][3];\n",
       "\n",
       "        if (!name) {\n",
       "            // put a spacer in here.\n",
       "            continue;\n",
       "        }\n",
       "        var button = $('<button/>');\n",
       "        button.addClass('ui-button ui-widget ui-state-default ui-corner-all ' +\n",
       "                        'ui-button-icon-only');\n",
       "        button.attr('role', 'button');\n",
       "        button.attr('aria-disabled', 'false');\n",
       "        button.click(method_name, toolbar_event);\n",
       "        button.mouseover(tooltip, toolbar_mouse_event);\n",
       "\n",
       "        var icon_img = $('<span/>');\n",
       "        icon_img.addClass('ui-button-icon-primary ui-icon');\n",
       "        icon_img.addClass(image);\n",
       "        icon_img.addClass('ui-corner-all');\n",
       "\n",
       "        var tooltip_span = $('<span/>');\n",
       "        tooltip_span.addClass('ui-button-text');\n",
       "        tooltip_span.html(tooltip);\n",
       "\n",
       "        button.append(icon_img);\n",
       "        button.append(tooltip_span);\n",
       "\n",
       "        nav_element.append(button);\n",
       "    }\n",
       "\n",
       "    var fmt_picker_span = $('<span/>');\n",
       "\n",
       "    var fmt_picker = $('<select/>');\n",
       "    fmt_picker.addClass('mpl-toolbar-option ui-widget ui-widget-content');\n",
       "    fmt_picker_span.append(fmt_picker);\n",
       "    nav_element.append(fmt_picker_span);\n",
       "    this.format_dropdown = fmt_picker[0];\n",
       "\n",
       "    for (var ind in mpl.extensions) {\n",
       "        var fmt = mpl.extensions[ind];\n",
       "        var option = $(\n",
       "            '<option/>', {selected: fmt === mpl.default_extension}).html(fmt);\n",
       "        fmt_picker.append(option)\n",
       "    }\n",
       "\n",
       "    // Add hover states to the ui-buttons\n",
       "    $( \".ui-button\" ).hover(\n",
       "        function() { $(this).addClass(\"ui-state-hover\");},\n",
       "        function() { $(this).removeClass(\"ui-state-hover\");}\n",
       "    );\n",
       "\n",
       "    var status_bar = $('<span class=\"mpl-message\"/>');\n",
       "    nav_element.append(status_bar);\n",
       "    this.message = status_bar[0];\n",
       "}\n",
       "\n",
       "mpl.figure.prototype.request_resize = function(x_pixels, y_pixels) {\n",
       "    // Request matplotlib to resize the figure. Matplotlib will then trigger a resize in the client,\n",
       "    // which will in turn request a refresh of the image.\n",
       "    this.send_message('resize', {'width': x_pixels, 'height': y_pixels});\n",
       "}\n",
       "\n",
       "mpl.figure.prototype.send_message = function(type, properties) {\n",
       "    properties['type'] = type;\n",
       "    properties['figure_id'] = this.id;\n",
       "    this.ws.send(JSON.stringify(properties));\n",
       "}\n",
       "\n",
       "mpl.figure.prototype.send_draw_message = function() {\n",
       "    if (!this.waiting) {\n",
       "        this.waiting = true;\n",
       "        this.ws.send(JSON.stringify({type: \"draw\", figure_id: this.id}));\n",
       "    }\n",
       "}\n",
       "\n",
       "\n",
       "mpl.figure.prototype.handle_save = function(fig, msg) {\n",
       "    var format_dropdown = fig.format_dropdown;\n",
       "    var format = format_dropdown.options[format_dropdown.selectedIndex].value;\n",
       "    fig.ondownload(fig, format);\n",
       "}\n",
       "\n",
       "\n",
       "mpl.figure.prototype.handle_resize = function(fig, msg) {\n",
       "    var size = msg['size'];\n",
       "    if (size[0] != fig.canvas.width || size[1] != fig.canvas.height) {\n",
       "        fig._resize_canvas(size[0], size[1]);\n",
       "        fig.send_message(\"refresh\", {});\n",
       "    };\n",
       "}\n",
       "\n",
       "mpl.figure.prototype.handle_rubberband = function(fig, msg) {\n",
       "    var x0 = msg['x0'] / mpl.ratio;\n",
       "    var y0 = (fig.canvas.height - msg['y0']) / mpl.ratio;\n",
       "    var x1 = msg['x1'] / mpl.ratio;\n",
       "    var y1 = (fig.canvas.height - msg['y1']) / mpl.ratio;\n",
       "    x0 = Math.floor(x0) + 0.5;\n",
       "    y0 = Math.floor(y0) + 0.5;\n",
       "    x1 = Math.floor(x1) + 0.5;\n",
       "    y1 = Math.floor(y1) + 0.5;\n",
       "    var min_x = Math.min(x0, x1);\n",
       "    var min_y = Math.min(y0, y1);\n",
       "    var width = Math.abs(x1 - x0);\n",
       "    var height = Math.abs(y1 - y0);\n",
       "\n",
       "    fig.rubberband_context.clearRect(\n",
       "        0, 0, fig.canvas.width, fig.canvas.height);\n",
       "\n",
       "    fig.rubberband_context.strokeRect(min_x, min_y, width, height);\n",
       "}\n",
       "\n",
       "mpl.figure.prototype.handle_figure_label = function(fig, msg) {\n",
       "    // Updates the figure title.\n",
       "    fig.header.textContent = msg['label'];\n",
       "}\n",
       "\n",
       "mpl.figure.prototype.handle_cursor = function(fig, msg) {\n",
       "    var cursor = msg['cursor'];\n",
       "    switch(cursor)\n",
       "    {\n",
       "    case 0:\n",
       "        cursor = 'pointer';\n",
       "        break;\n",
       "    case 1:\n",
       "        cursor = 'default';\n",
       "        break;\n",
       "    case 2:\n",
       "        cursor = 'crosshair';\n",
       "        break;\n",
       "    case 3:\n",
       "        cursor = 'move';\n",
       "        break;\n",
       "    }\n",
       "    fig.rubberband_canvas.style.cursor = cursor;\n",
       "}\n",
       "\n",
       "mpl.figure.prototype.handle_message = function(fig, msg) {\n",
       "    fig.message.textContent = msg['message'];\n",
       "}\n",
       "\n",
       "mpl.figure.prototype.handle_draw = function(fig, msg) {\n",
       "    // Request the server to send over a new figure.\n",
       "    fig.send_draw_message();\n",
       "}\n",
       "\n",
       "mpl.figure.prototype.handle_image_mode = function(fig, msg) {\n",
       "    fig.image_mode = msg['mode'];\n",
       "}\n",
       "\n",
       "mpl.figure.prototype.updated_canvas_event = function() {\n",
       "    // Called whenever the canvas gets updated.\n",
       "    this.send_message(\"ack\", {});\n",
       "}\n",
       "\n",
       "// A function to construct a web socket function for onmessage handling.\n",
       "// Called in the figure constructor.\n",
       "mpl.figure.prototype._make_on_message_function = function(fig) {\n",
       "    return function socket_on_message(evt) {\n",
       "        if (evt.data instanceof Blob) {\n",
       "            /* FIXME: We get \"Resource interpreted as Image but\n",
       "             * transferred with MIME type text/plain:\" errors on\n",
       "             * Chrome.  But how to set the MIME type?  It doesn't seem\n",
       "             * to be part of the websocket stream */\n",
       "            evt.data.type = \"image/png\";\n",
       "\n",
       "            /* Free the memory for the previous frames */\n",
       "            if (fig.imageObj.src) {\n",
       "                (window.URL || window.webkitURL).revokeObjectURL(\n",
       "                    fig.imageObj.src);\n",
       "            }\n",
       "\n",
       "            fig.imageObj.src = (window.URL || window.webkitURL).createObjectURL(\n",
       "                evt.data);\n",
       "            fig.updated_canvas_event();\n",
       "            fig.waiting = false;\n",
       "            return;\n",
       "        }\n",
       "        else if (typeof evt.data === 'string' && evt.data.slice(0, 21) == \"data:image/png;base64\") {\n",
       "            fig.imageObj.src = evt.data;\n",
       "            fig.updated_canvas_event();\n",
       "            fig.waiting = false;\n",
       "            return;\n",
       "        }\n",
       "\n",
       "        var msg = JSON.parse(evt.data);\n",
       "        var msg_type = msg['type'];\n",
       "\n",
       "        // Call the  \"handle_{type}\" callback, which takes\n",
       "        // the figure and JSON message as its only arguments.\n",
       "        try {\n",
       "            var callback = fig[\"handle_\" + msg_type];\n",
       "        } catch (e) {\n",
       "            console.log(\"No handler for the '\" + msg_type + \"' message type: \", msg);\n",
       "            return;\n",
       "        }\n",
       "\n",
       "        if (callback) {\n",
       "            try {\n",
       "                // console.log(\"Handling '\" + msg_type + \"' message: \", msg);\n",
       "                callback(fig, msg);\n",
       "            } catch (e) {\n",
       "                console.log(\"Exception inside the 'handler_\" + msg_type + \"' callback:\", e, e.stack, msg);\n",
       "            }\n",
       "        }\n",
       "    };\n",
       "}\n",
       "\n",
       "// from http://stackoverflow.com/questions/1114465/getting-mouse-location-in-canvas\n",
       "mpl.findpos = function(e) {\n",
       "    //this section is from http://www.quirksmode.org/js/events_properties.html\n",
       "    var targ;\n",
       "    if (!e)\n",
       "        e = window.event;\n",
       "    if (e.target)\n",
       "        targ = e.target;\n",
       "    else if (e.srcElement)\n",
       "        targ = e.srcElement;\n",
       "    if (targ.nodeType == 3) // defeat Safari bug\n",
       "        targ = targ.parentNode;\n",
       "\n",
       "    // jQuery normalizes the pageX and pageY\n",
       "    // pageX,Y are the mouse positions relative to the document\n",
       "    // offset() returns the position of the element relative to the document\n",
       "    var x = e.pageX - $(targ).offset().left;\n",
       "    var y = e.pageY - $(targ).offset().top;\n",
       "\n",
       "    return {\"x\": x, \"y\": y};\n",
       "};\n",
       "\n",
       "/*\n",
       " * return a copy of an object with only non-object keys\n",
       " * we need this to avoid circular references\n",
       " * http://stackoverflow.com/a/24161582/3208463\n",
       " */\n",
       "function simpleKeys (original) {\n",
       "  return Object.keys(original).reduce(function (obj, key) {\n",
       "    if (typeof original[key] !== 'object')\n",
       "        obj[key] = original[key]\n",
       "    return obj;\n",
       "  }, {});\n",
       "}\n",
       "\n",
       "mpl.figure.prototype.mouse_event = function(event, name) {\n",
       "    var canvas_pos = mpl.findpos(event)\n",
       "\n",
       "    if (name === 'button_press')\n",
       "    {\n",
       "        this.canvas.focus();\n",
       "        this.canvas_div.focus();\n",
       "    }\n",
       "\n",
       "    var x = canvas_pos.x * mpl.ratio;\n",
       "    var y = canvas_pos.y * mpl.ratio;\n",
       "\n",
       "    this.send_message(name, {x: x, y: y, button: event.button,\n",
       "                             step: event.step,\n",
       "                             guiEvent: simpleKeys(event)});\n",
       "\n",
       "    /* This prevents the web browser from automatically changing to\n",
       "     * the text insertion cursor when the button is pressed.  We want\n",
       "     * to control all of the cursor setting manually through the\n",
       "     * 'cursor' event from matplotlib */\n",
       "    event.preventDefault();\n",
       "    return false;\n",
       "}\n",
       "\n",
       "mpl.figure.prototype._key_event_extra = function(event, name) {\n",
       "    // Handle any extra behaviour associated with a key event\n",
       "}\n",
       "\n",
       "mpl.figure.prototype.key_event = function(event, name) {\n",
       "\n",
       "    // Prevent repeat events\n",
       "    if (name == 'key_press')\n",
       "    {\n",
       "        if (event.which === this._key)\n",
       "            return;\n",
       "        else\n",
       "            this._key = event.which;\n",
       "    }\n",
       "    if (name == 'key_release')\n",
       "        this._key = null;\n",
       "\n",
       "    var value = '';\n",
       "    if (event.ctrlKey && event.which != 17)\n",
       "        value += \"ctrl+\";\n",
       "    if (event.altKey && event.which != 18)\n",
       "        value += \"alt+\";\n",
       "    if (event.shiftKey && event.which != 16)\n",
       "        value += \"shift+\";\n",
       "\n",
       "    value += 'k';\n",
       "    value += event.which.toString();\n",
       "\n",
       "    this._key_event_extra(event, name);\n",
       "\n",
       "    this.send_message(name, {key: value,\n",
       "                             guiEvent: simpleKeys(event)});\n",
       "    return false;\n",
       "}\n",
       "\n",
       "mpl.figure.prototype.toolbar_button_onclick = function(name) {\n",
       "    if (name == 'download') {\n",
       "        this.handle_save(this, null);\n",
       "    } else {\n",
       "        this.send_message(\"toolbar_button\", {name: name});\n",
       "    }\n",
       "};\n",
       "\n",
       "mpl.figure.prototype.toolbar_button_onmouseover = function(tooltip) {\n",
       "    this.message.textContent = tooltip;\n",
       "};\n",
       "mpl.toolbar_items = [[\"Home\", \"Reset original view\", \"fa fa-home icon-home\", \"home\"], [\"Back\", \"Back to  previous view\", \"fa fa-arrow-left icon-arrow-left\", \"back\"], [\"Forward\", \"Forward to next view\", \"fa fa-arrow-right icon-arrow-right\", \"forward\"], [\"\", \"\", \"\", \"\"], [\"Pan\", \"Pan axes with left mouse, zoom with right\", \"fa fa-arrows icon-move\", \"pan\"], [\"Zoom\", \"Zoom to rectangle\", \"fa fa-square-o icon-check-empty\", \"zoom\"], [\"\", \"\", \"\", \"\"], [\"Download\", \"Download plot\", \"fa fa-floppy-o icon-save\", \"download\"]];\n",
       "\n",
       "mpl.extensions = [\"eps\", \"jpeg\", \"pdf\", \"png\", \"ps\", \"raw\", \"svg\", \"tif\"];\n",
       "\n",
       "mpl.default_extension = \"png\";var comm_websocket_adapter = function(comm) {\n",
       "    // Create a \"websocket\"-like object which calls the given IPython comm\n",
       "    // object with the appropriate methods. Currently this is a non binary\n",
       "    // socket, so there is still some room for performance tuning.\n",
       "    var ws = {};\n",
       "\n",
       "    ws.close = function() {\n",
       "        comm.close()\n",
       "    };\n",
       "    ws.send = function(m) {\n",
       "        //console.log('sending', m);\n",
       "        comm.send(m);\n",
       "    };\n",
       "    // Register the callback with on_msg.\n",
       "    comm.on_msg(function(msg) {\n",
       "        //console.log('receiving', msg['content']['data'], msg);\n",
       "        // Pass the mpl event to the overriden (by mpl) onmessage function.\n",
       "        ws.onmessage(msg['content']['data'])\n",
       "    });\n",
       "    return ws;\n",
       "}\n",
       "\n",
       "mpl.mpl_figure_comm = function(comm, msg) {\n",
       "    // This is the function which gets called when the mpl process\n",
       "    // starts-up an IPython Comm through the \"matplotlib\" channel.\n",
       "\n",
       "    var id = msg.content.data.id;\n",
       "    // Get hold of the div created by the display call when the Comm\n",
       "    // socket was opened in Python.\n",
       "    var element = $(\"#\" + id);\n",
       "    var ws_proxy = comm_websocket_adapter(comm)\n",
       "\n",
       "    function ondownload(figure, format) {\n",
       "        window.open(figure.imageObj.src);\n",
       "    }\n",
       "\n",
       "    var fig = new mpl.figure(id, ws_proxy,\n",
       "                           ondownload,\n",
       "                           element.get(0));\n",
       "\n",
       "    // Call onopen now - mpl needs it, as it is assuming we've passed it a real\n",
       "    // web socket which is closed, not our websocket->open comm proxy.\n",
       "    ws_proxy.onopen();\n",
       "\n",
       "    fig.parent_element = element.get(0);\n",
       "    fig.cell_info = mpl.find_output_cell(\"<div id='\" + id + \"'></div>\");\n",
       "    if (!fig.cell_info) {\n",
       "        console.error(\"Failed to find cell for figure\", id, fig);\n",
       "        return;\n",
       "    }\n",
       "\n",
       "    var output_index = fig.cell_info[2]\n",
       "    var cell = fig.cell_info[0];\n",
       "\n",
       "};\n",
       "\n",
       "mpl.figure.prototype.handle_close = function(fig, msg) {\n",
       "    var width = fig.canvas.width/mpl.ratio\n",
       "    fig.root.unbind('remove')\n",
       "\n",
       "    // Update the output cell to use the data from the current canvas.\n",
       "    fig.push_to_output();\n",
       "    var dataURL = fig.canvas.toDataURL();\n",
       "    // Re-enable the keyboard manager in IPython - without this line, in FF,\n",
       "    // the notebook keyboard shortcuts fail.\n",
       "    IPython.keyboard_manager.enable()\n",
       "    $(fig.parent_element).html('<img src=\"' + dataURL + '\" width=\"' + width + '\">');\n",
       "    fig.close_ws(fig, msg);\n",
       "}\n",
       "\n",
       "mpl.figure.prototype.close_ws = function(fig, msg){\n",
       "    fig.send_message('closing', msg);\n",
       "    // fig.ws.close()\n",
       "}\n",
       "\n",
       "mpl.figure.prototype.push_to_output = function(remove_interactive) {\n",
       "    // Turn the data on the canvas into data in the output cell.\n",
       "    var width = this.canvas.width/mpl.ratio\n",
       "    var dataURL = this.canvas.toDataURL();\n",
       "    this.cell_info[1]['text/html'] = '<img src=\"' + dataURL + '\" width=\"' + width + '\">';\n",
       "}\n",
       "\n",
       "mpl.figure.prototype.updated_canvas_event = function() {\n",
       "    // Tell IPython that the notebook contents must change.\n",
       "    IPython.notebook.set_dirty(true);\n",
       "    this.send_message(\"ack\", {});\n",
       "    var fig = this;\n",
       "    // Wait a second, then push the new image to the DOM so\n",
       "    // that it is saved nicely (might be nice to debounce this).\n",
       "    setTimeout(function () { fig.push_to_output() }, 1000);\n",
       "}\n",
       "\n",
       "mpl.figure.prototype._init_toolbar = function() {\n",
       "    var fig = this;\n",
       "\n",
       "    var nav_element = $('<div/>')\n",
       "    nav_element.attr('style', 'width: 100%');\n",
       "    this.root.append(nav_element);\n",
       "\n",
       "    // Define a callback function for later on.\n",
       "    function toolbar_event(event) {\n",
       "        return fig.toolbar_button_onclick(event['data']);\n",
       "    }\n",
       "    function toolbar_mouse_event(event) {\n",
       "        return fig.toolbar_button_onmouseover(event['data']);\n",
       "    }\n",
       "\n",
       "    for(var toolbar_ind in mpl.toolbar_items){\n",
       "        var name = mpl.toolbar_items[toolbar_ind][0];\n",
       "        var tooltip = mpl.toolbar_items[toolbar_ind][1];\n",
       "        var image = mpl.toolbar_items[toolbar_ind][2];\n",
       "        var method_name = mpl.toolbar_items[toolbar_ind][3];\n",
       "\n",
       "        if (!name) { continue; };\n",
       "\n",
       "        var button = $('<button class=\"btn btn-default\" href=\"#\" title=\"' + name + '\"><i class=\"fa ' + image + ' fa-lg\"></i></button>');\n",
       "        button.click(method_name, toolbar_event);\n",
       "        button.mouseover(tooltip, toolbar_mouse_event);\n",
       "        nav_element.append(button);\n",
       "    }\n",
       "\n",
       "    // Add the status bar.\n",
       "    var status_bar = $('<span class=\"mpl-message\" style=\"text-align:right; float: right;\"/>');\n",
       "    nav_element.append(status_bar);\n",
       "    this.message = status_bar[0];\n",
       "\n",
       "    // Add the close button to the window.\n",
       "    var buttongrp = $('<div class=\"btn-group inline pull-right\"></div>');\n",
       "    var button = $('<button class=\"btn btn-mini btn-primary\" href=\"#\" title=\"Stop Interaction\"><i class=\"fa fa-power-off icon-remove icon-large\"></i></button>');\n",
       "    button.click(function (evt) { fig.handle_close(fig, {}); } );\n",
       "    button.mouseover('Stop Interaction', toolbar_mouse_event);\n",
       "    buttongrp.append(button);\n",
       "    var titlebar = this.root.find($('.ui-dialog-titlebar'));\n",
       "    titlebar.prepend(buttongrp);\n",
       "}\n",
       "\n",
       "mpl.figure.prototype._root_extra_style = function(el){\n",
       "    var fig = this\n",
       "    el.on(\"remove\", function(){\n",
       "\tfig.close_ws(fig, {});\n",
       "    });\n",
       "}\n",
       "\n",
       "mpl.figure.prototype._canvas_extra_style = function(el){\n",
       "    // this is important to make the div 'focusable\n",
       "    el.attr('tabindex', 0)\n",
       "    // reach out to IPython and tell the keyboard manager to turn it's self\n",
       "    // off when our div gets focus\n",
       "\n",
       "    // location in version 3\n",
       "    if (IPython.notebook.keyboard_manager) {\n",
       "        IPython.notebook.keyboard_manager.register_events(el);\n",
       "    }\n",
       "    else {\n",
       "        // location in version 2\n",
       "        IPython.keyboard_manager.register_events(el);\n",
       "    }\n",
       "\n",
       "}\n",
       "\n",
       "mpl.figure.prototype._key_event_extra = function(event, name) {\n",
       "    var manager = IPython.notebook.keyboard_manager;\n",
       "    if (!manager)\n",
       "        manager = IPython.keyboard_manager;\n",
       "\n",
       "    // Check for shift+enter\n",
       "    if (event.shiftKey && event.which == 13) {\n",
       "        this.canvas_div.blur();\n",
       "        // select the cell after this one\n",
       "        var index = IPython.notebook.find_cell_index(this.cell_info[0]);\n",
       "        IPython.notebook.select(index + 1);\n",
       "    }\n",
       "}\n",
       "\n",
       "mpl.figure.prototype.handle_save = function(fig, msg) {\n",
       "    fig.ondownload(fig, null);\n",
       "}\n",
       "\n",
       "\n",
       "mpl.find_output_cell = function(html_output) {\n",
       "    // Return the cell and output element which can be found *uniquely* in the notebook.\n",
       "    // Note - this is a bit hacky, but it is done because the \"notebook_saving.Notebook\"\n",
       "    // IPython event is triggered only after the cells have been serialised, which for\n",
       "    // our purposes (turning an active figure into a static one), is too late.\n",
       "    var cells = IPython.notebook.get_cells();\n",
       "    var ncells = cells.length;\n",
       "    for (var i=0; i<ncells; i++) {\n",
       "        var cell = cells[i];\n",
       "        if (cell.cell_type === 'code'){\n",
       "            for (var j=0; j<cell.output_area.outputs.length; j++) {\n",
       "                var data = cell.output_area.outputs[j];\n",
       "                if (data.data) {\n",
       "                    // IPython >= 3 moved mimebundle to data attribute of output\n",
       "                    data = data.data;\n",
       "                }\n",
       "                if (data['text/html'] == html_output) {\n",
       "                    return [cell, data, j];\n",
       "                }\n",
       "            }\n",
       "        }\n",
       "    }\n",
       "}\n",
       "\n",
       "// Register the function which deals with the matplotlib target/channel.\n",
       "// The kernel may be null if the page has been refreshed.\n",
       "if (IPython.notebook.kernel != null) {\n",
       "    IPython.notebook.kernel.comm_manager.register_target('matplotlib', mpl.mpl_figure_comm);\n",
       "}\n"
      ],
      "text/plain": [
       "<IPython.core.display.Javascript object>"
      ]
     },
     "metadata": {},
     "output_type": "display_data"
    },
    {
     "data": {
      "text/html": [
       "<img src=\"data:image/png;base64,iVBORw0KGgoAAAANSUhEUgAABGAAAANICAYAAACIVpl8AAAgAElEQVR4XuzdCZR1XVkf+H8E3k8ERW1ASQPiSCIajYoaNSDOCtLGFlQCKoitBhG1QVl0OibapBE0RlSMNgq2RATBKaIJohISlzKIEyJiWkAjDqgIBPD9mHptPIXFS1XtU3effab7u2tlmY979t7P/j276t76v3f4O3EjQIAAAQIECBAgQIAAAQIECBDoKvB3us5ucgIECBAgQIAAAQIECBAgQIAAgQhgHAICBAgQIECAAAECBAgQIECAQGcBAUxnYNMTIECAAAECBAgQIECAAAECBAQwzgABAgQIECBAgAABAgQIECBAoLOAAKYzsOkJECBAgAABAgQIECBAgAABAgIYZ4AAAQIECBAgQIAAAQIECBAg0FlAANMZ2PQECBAgQIAAAQIECBAgQIAAAQGMM0CAAAECBAgQIECAAAECBAgQ6CwggOkMbHoCBAgQIECAAAECBAgQIECAgADGGSBAgAABAgQIECBAgAABAgQIdBYQwHQGNj0BAgQIECBAgAABAgQIECBAQADjDBAgQIAAAQIECBAgQIAAAQIEOgsIYDoDm54AAQIECBAgQIAAAQIECBAgIIBxBggQIECAAAECBAgQIECAAAECnQUEMJ2BTU+AAAECBAgQIECAAAECBAgQEMA4AwQIECBAgAABAgQIECBAgACBzgICmM7ApidAgAABAgQIECBAgAABAgQICGCcAQIECBAgQIAAAQIECBAgQIBAZwEBTGdg0xMgQIAAAQIECBAgQIAAAQIEBDDOAAECBAgQIECAAAECBAgQIECgs4AApjOw6QkQIECAAAECBAgQIECAAAECAhhngAABAgQIECBAgAABAgQIECDQWUAA0xnY9AQIECBAgAABAgQIECBAgAABAYwzQIAAAQIECBAgQIAAAQIECBDoLCCA6QxsegIECBAgQIAAAQIECBAgQICAAMYZIECAAAECBAgQIECAAAECBAh0FhDAdAY2PQECBAgQIECAAAECBAgQIEBAAOMMECBAgAABAgQIECBAgAABAgQ6CwhgOgObngABAgQIECBAgAABAgQIECAggHEGCBAgQIAAAQIECBAgQIAAAQKdBQQwnYFNT4AAAQIECBAgQIAAAQIECBAQwDgDBAgQIECAAAECBAgQIECAAIHOAgKYzsCmJ0CAAAECBAgQIECAAAECBAgIYJwBAgQIECBAgAABAgQIECBAgEBnAQFMZ2DTEyBAgAABAgQIECBAgAABAgQEMM4AAQIECBAgQIAAAQIECBAgQKCzgACmM7DpCRAgQIAAAQIECBAgQIAAAQICGGeAAAECBAgQIECAAAECBAgQINBZQADTGdj0BAgQIECAAAECBAgQIECAAAEBjDNAgAABAgQIECBAgAABAgQIEOgsIIDpDGx6AgQIECBAgAABAgQIECBAgIAAxhkgQIAAAQIECBAgQIAAAQIECHQWEMB0BjY9AQIECBAgQIAAAQIECBAgQEAA4wwQIECAAAECBAgQIECAAAECBDoLCGA6A5ueAAECBAgQIECAAAECBAgQICCAcQYIECBAgAABAgQIECBAgAABAp0FBDCdgU1PgAABAgQIECBAgAABAgQIEBDAOAMECBAgQIAAAQIECBAgQIAAgc4CApjOwKYnQIAAAQIECBAgQIAAAQIECAhgnAECBAgQIECAAAECBAgQIECAQGcBAUxnYNMTIECAAAECBAgQIECAAAECBAQwzgABAgQIECBAgAABAgQIECBAoLOAAKYzsOkJECBAgAABAgQIECBAgAABAgIYZ4AAAQIECBAgQIAAAQIECBAg0FlAANMZ2PQECBAgQIAAAQIECBAgQIAAAQGMM0CAAAECBAgQIECAAAECBAgQ6CwggOkMbHoCBAgQIECAAAECBAgQIECAgADGGSBAgAABAgQIECBAgAABAgQIdBYQwHQGNj0BAgQIECBAgAABAgQIECBAQADjDBAgQIAAAQIECBAgQIAAAQIEOgsIYDoDm54AAQIECBAgQIAAAQIECBAgIIBxBggQIECAAAECBAgQIECAAAECnQUEMJ2BTU+AAAECBAgQIECAAAECBAgQEMA4AwQIECBAgAABAgQIECBAgACBzgICmM7ApidAgAABAgQIECBAgAABAgQICGCcAQIECBAgQIAAAQIECBAgQIBAZwEBTGdg0xMgQIAAAQIECBAgQIAAAQIEBDDOAAECBAgQIECAAAECBAgQIECgs4AApjOw6QkQIECAAAECBAgQIECAAAECAhhngAABAgQIECBAgAABAgQIECDQWUAA0xnY9AQIECBAgAABAgQIECBAgAABAYwzQIAAAQIECBAgQIAAAQIECBDoLCCA6QxsegIECBAgQIAAAQIECBAgQICAAMYZIECAAAECBAgQIECAAAECBAh0FhDAdAY2PQECBAgQIECAAAECBAgQIEBAAOMMECBAgAABAgQIECBAgAABAgQ6CwhgOgObngABAgQIECBAgAABAgQIECAggHEGCBAgQIAAAQIECBAgQIAAAQKdBQQwnYFNT4AAAQIECBAgQIAAAQIECBAQwDgDBAgQIECAAAECBAgQIECAAIHOAgKYzsCmJ0CAAAECBAgQIECAAAECBAgIYJwBAgQIECBAgAABAgQIECBAgEBnAQFMZ2DTEyBAgAABAgQIECBAgAABAgQEMM4AAQIECBAgQIAAAQIECBAgQKCzgACmM7DpCRAgQIAAAQIECBAgQIAAAQICGGeAAAECBAgQIECAAAECBAgQINBZQADTGdj0BAgQIECAAAECBAgQIECAAAEBjDNAgAABAgQIECBAgAABAgQIEOgsIIDpDGx6AgQIECBAgAABAgQIECBAgIAAxhkgQIAAAQIECBAgQIAAAQIECHQWEMB0BjY9AQIECBAgQIAAAQIECBAgQEAA4wwQIECAAAECBAgQIECAAAECBDoLCGA6A5ueAAECBAgQIECAAAECBAgQICCAcQYIECBAgAABAgQIECBAgAABAp0FBDCdgU1PgAABAgQIECBAgAABAgQIEBDAOAMECBAgQIAAAQIECBAgQIAAgc4CApjOwKYnQIAAAQIECBAgQIAAAQIECAhgnAECBAgQIECAAAECBAgQIECAQGcBAUxnYNMTIECAAAECBAgQIECAAAECBAQwzsBlBN4yXHz9ZQa5lgABAgQIECBAgAABAgSaBa4MM/g7vplymQk0bhn3ra761gDmypWTn/utbkPdBAgQIECAAAECBAgQ2JbA9de/7d/B/R2/rda9rVqN22jjFir76pUrV65cvXp1oeUtS4AAAQIECBAgQIAAgeMUuO6663L936Qw1x2nwPZ3LYDZfg/n3IEAZk5taxEgQIAAAQIECBAgQGAQEMBs/ygIYNp7+K5JPjHJR536f7ccpr1Lkmees8Q7J/msJJ+R5KOTvP+QZL4iyXOS/ECS/3BBeY9P8sWV8p+W5G7tW3zbDAKYCTFNRYAAAQIECBAgQIAAgbECApixUuu9TgDT3pvPSfLj50xzUQDzc0k+5dS48lKy8t6eEuic3H4kyX2SvPGM+U8CmL9O8qpz1i9rlPFT3QQwU0mahwABAgQIECBAgAABApcQEMBcAmullwpg2htTApjvS/KrSZ6X5IVJfniY9qIAprwy5jZJHpvkp4Zx5UNub53knyf58mGOb0ny0AsCmB9M8iXt2xg1gwBmFJOLCBAgQIAAAQIECBAgMK2AAGZazyVmE8C0q98gyZtOTXPTJK8ZEcB8fJJfuWbs6WpKsPJFSV6X5OZJXn9NqSevgBHAtPfQDAQIECBAgAABAgQIEFi1gABm1e0ZVZwAZhTTpS4aG8DUJi2fK/OLw0UfkeTXBDA1MvcTIECAAAECBAgQIEBgnwICmO33VQAzfQ+nCmA+JMlvDeWVD+l9rgBm+maZkQABAgQIECBAgAABAlsQEMBsoUsX1yiAmb6HUwUwD0jyXUnekOQWZ3zQ7slbkP57kvJBvLcd3qb0u8O3J313kldOvD2fATMxqOkIECBAgAABAgQIECAwRkAAM0Zp3dcIYKbvzxQBTJnjd4YP5H1Ski84o8zTX0NdQpr/keTdk5z09OVJ/pfhg4Gn2qUAZipJ8xAgQIAAAQIECBAgQOASAgKYS2Ct9FIBzPSNmSKAKV8//fnDq14+LMnLzijzq5OUr65+WpI/SvLmIYAp4x4x/P//LEl5K9MrRm6zfA32RbcrV65cydWrtctGruYyAgQIECBAgAABAgQIEBglIIAZxbTqiwQw07enNYD5V0n+RZLyldSfl+THDijxHw7fsHQlyXlfY33WtLVkRQBzQDMMIUCAAAECBAgQIECAQKuAAKZVcPnxApjpe9ASwDw4yaOGkv5Zku9pKO/ka6x/e3gVTMNUbxvqLUhTKJqDAAECBAgQIECAAAEClxQQwFwSbIWXC2Cmb8qhAcxXJfnOoZyHJPnWxtJKgFM+iPd1SW7SONfJcAHMRJCmIUCAAAECBAgQaBe43UPLu/HPv730EXdtX8QMBFYiIIBZSSMayhDANOCdM/SQAObLk/y7Yb5vTPJNE5QlgJkA0RQECBAgQIAAAQLrFRDArLc3KpteQAAzvencMwpgphe/bABz3yTfP3x70WU+r6VWubcgXSPkAbp2ZNxPgAABAgQIENiWgOd32+qXatsEBDBtfmsYLYCZvguXCWC+MMkTkrxTku9I8jUjyyl9Kx/Se96tfHPSc5KUD+F9ZJJvGDlv7bJNvwXJA3Stve4nQIAAAQIECGxLwPO7bfVLtW0CApg2vzWMFsBM04Wbn5qmfN7KS4f//pwkv3Tqvr8cvi66/E+fm+RJSW44fNhuecvQ2Nt9ktwtyf87zP9Xw8CbJbnn8DXU75nksl9DXVtfAFMTcj8BAgQIECBAgMBsAgKY2agttAIBAcwKmtBYggCmEXAYftGrUU6v8L6nwpnfT1L+u9xKUHLRHA8awpqTub4kyeNOTfzqJG9M8h7DW5nKXX+Q5J8kef40W3zrLAKYCTFNRYAAAQIECBAg0CYggGnzM3pbAgKYbfXrrGoFMNP08JAAprxK5n1GLl8+J+bxp64t48qrYD4+ye2TlFfg3DjJK5P8VpKfSvIDSV4zcv6xlwlgxkq5jgABAgQIECBAoLuAAKY7sQVWJCCAWVEzDixFAHMg3JEOE8AcaeNtmwABAgQIECCwRgEBzBq7oqZeAgKYXrLzzSuAmc96DysJYPbQRXsgQIAAAQIECOxEQACzk0baxigBAcwoplVfJIBZdXtWV5wAZnUtURABAgQIENiHwEV/SL/0EXfdxybtYnIBAczkpCZcsYAAZsXNGVmaAGYklMveKiCAcRAIECBAgACBLgICmC6su59UALP7FtvgKQEBzPaPgwBm+z2ccwcCmDm1rUWAAAECBI5IQABzRM2ecKsCmAkxTbV6AQHM6ltULVAAUyVywSkBAYzjQIAAAQIECHQREMB0Yd39pAKY3bfYBk8JCGC2fxwEMNvv4Zw7EMDMqW2tWQQ8cZuF2SIECBCoCghgqkQuOENgz4/je96bw3yYgADmMLc1jRLArKkb669FALP+HqnwkgKe3FwSzOUECBDoJCCA6QS782n3/Di+573t/Fh2254AphvtbBMLYGaj3sVCAphdtNEmTgt4cuM8ECBAYB0CAph19GFrVez5cXzPe9vaOVtLvQKYtXTi8DoEMIfbHeNIAcwxdn3ne/bkZucN3un2nNudNvbItyWAOfIDcOD29/z7cM97O7DdRz9MALP9IyCA2X4P59yBAGZObWvNIuDJzSzMFplYwLmdGNR0qxAQwKyiDZsrYs+/D/e8t80dtJUULIBZSSMayhDANOAd4VABTEPTPYg24HUcqi8dcU3dTcC57UZr4gUFBDAL4m946T3/Ptzz3jZ85BYtXQCzKP8kiwtgJmE8mkkEMA2t9iDagNdxqL50xDV1NwHnthutiRcUEMAsiL/hpff8+3DPe9vwkVu0dAHMovyTLC6AmYTxaCYRwDS0uvVBtHV8Q+m7Hrp217XXt+vDseLNORcrbo7SDhYQwBxMd9QD9/z7cMt723Lta/6BEsCsuTvjahPAjHNy1d8ICGAaTkLrA1Hr+IbSdz107a5rr2/Xh2PFm3MuVtwcpR0sIIA5mO6oB+759+GW97bl2tf8AyWAWXN3xtUmgBnn5CoBTPMZaH0gah3fvIGdTrB217XXt9NjsfptORerb9EuC+x97gQwuzw23TfV+1x238AFC2x5b0vXvvT6vc6NAKaX7HzzCmDms97DSl4B09DF1geC1vENpe966Npd117frg/HijfnXKy4OTsurfe5E8Ds+PB03Frvc9mx9OrUW97b0rUvvX61uQdeIIA5EG5FwwQwK2rGBkoRwDQ0qfWBoHV8Q+m7Hrp217XXt+vDseLNORcrbs6OS+t97gQwOz48HbfW+1x2LL069Zb3tnTtS69fbe6BFwhgDoRb0TABzIqasYFSBDANTWp9IGgd31D66oe22LSMnQNm7fXNYWCNdxRwLpyKJQR6nzsBzBJd3f6avc/lkkJb3tvStS+9fq9zI4DpJTvfvAKY+az3sJIApqGLrQ8EreMbSl/90BablrFzwKy9vjkMrCGAcQbWIdD795EAZh193loVvc/lkh5b3tvStS+9fq9zI4DpJTvfvAKY+az3sJIApqGLrQ8EreMbSl/90BablrFzwKy9vhaDPe+txWXMWHZjlJa5Zs+96b03AcwyZ3brq/Y+l0v6bHlvS9e+9Pq9zo0AppfsfPMKYOaz3sNKApiGLrY+ELSObyh99UNbbFrGzgGz9vpaDPa8txaXMWPZjVFa5po996b33gQwy5zZra/a+1wu6bPlvS1d+9Lr9zo3AphesvPNK4CZz3oPKwlgGrrY+kDQOr6h9NUPbbFpGTsHzNrrazHY895aXMaMZXe+0tI2S68/5vwcek3vvQlgDu3McY+rncuLdF76iLuuGq+2t1r9LeNbxhbU1vGtjVl6/db6zxsvgOklO9+8Apj5rPewkgCmoYutDwSt4xtKX/3QFpuWsXPArL2+FoM9763FZcxYdgKYMedk6mt6nzsBzNQdO475audSAHO+wEUBTs21Z/gzxcltrX+KGnrMIYDpoTrvnAKYeb23vtqqA5jaL9oafu2BpDa+dn+tvtr6LeNbxtb2tYb7W/bXMnaOva+9vhaDPe+txWXMWHYCmDHnZOprep87AczUHTuO+WrnskWh9tysZe4xY2t7q9VXGz+mhvOuaV27Nr6ltjK2tvfe67fWf954AUwv2fnmFcDMZ72HlQQwDV1sfSBoGd8ytmHLsw1t2V/L2Dk2uPb6Wgz2vLcWlzFj2QlgxpyTqa/pfe4EMFN37Djmq53LFoWl/0iv7a1WX218T5va2rXaW2oTwLTqGd9TQADTU3d/cwtgGnra+kDUMr5lbMOWZxvasr+WsXNscO31tRjseW8tLmPGshPAjDknU1/T+9wJYKbu2HHMVzuXLQq9Q4JabbW91eqrja+tf9H9rWvXxrfUJoBp1TO+p4AApqfu/uYWwDT0tPYgWHsgahnfMrZhy7MNbdlfy9g5Nrj2+loM9ry3FpcxY3vb9Z5/zB4PvWbp2pde/1C3MeN6700AM6YLrrlWoHYuW8Rqz81a5h4ztra3Wn218WNqOO+a1rVr41tqE8C06hnfU0AA01N3f3MLYBp6WnsQrD0QtYxvGduw5dmGtuyvZewcG1x7fS0Ge95bi8uYsb3tes8/Zo+HXrN07Uuvf6jbmHG99yaAGdMF1whg/lag9bljy2lqXbs2vqU2AUyrnvE9BQQwPXX3N7cApqGnrU9cW8a3jG3Y8mxDW/bXMnaODa69vhaDPe+txWXM2N52PefvOfcannT33t+Y83HeNa21tY6v1S6AqQm5/yyB2rlsUesdEtRqq+2tVl9tfG39i+5vXbs2vqW2NTwWtNZ/3ngfwttLdr55BTDzWe9hJQFMQxdrD4K1B6KW8S1jG7Y829CW/bWMnWODa6+vxWDPe2txGTO2t13P+XvOvYYn3b33N+Z8CGBalIzdmkDtZ65lP7XnZi1zjxlb21utvtr4MTWcd03r2rXxLbWt4bGgtX4BTC/B5ecVwCzfgy1VIIBp6FbtQbD2QNQyvmVsw5ZnG9qyv5axc2xw7fW1GOx5by0uY8b2tus5f8+51/Cku+f+WueujR9z9i66pvY4Vpt/za+Aqdm17r1m4/7zBWq9abFbuq+1vdXqq43vaVNbu1Z7S21reCxorV8A00tw+XkFMMv3YEsVCGAautX6QNQyvmVsw5ZnG9qyv5axc2xw7fW1GOx5by0uY8b2tus5f8+51/Cku+f+WueujR9z9gQwZwv0/mOytTd7Ht/zXC/d19reavXVxreci9a1a+NbalvDY0Fr/QKYXoLLzyuAWb4HW6pAANPQrdqDYO2BqGV8y9iGLU82tFZ/baGLbGtz1/pSW7v1/rXX17K/3nvrPX/L3lvH9t5bz/l7zr2GJ90999c6d21867ls/X15UX2tc9f21mrTu75a/cd8f2vveoaKrX2p7a127mrjW+prXbs2vqW2NTwWtNYvgOkluPy8Apjle7ClCgQwDd2qPQjWHohaxreMbdjyZENr9dcWEsDUhJa5v9bX2s9Erere89fW73l/7731nL/n3Gt40t1zf61z18a3ntmeP7Otc9f21mrTu75a/cd8f2vvBDCHnZ7ama/1pTb+sKr+dtTS67fWL4DpJbj8vAKY5XuwpQoEMA3dan0gaBnfMrZhy5MNrdVfW0gAUxNa5v5aX1ufnPWefxm1v1m19956zt9z7jlsan3vub/WuWvja3ur3d/zZ7Z17lrtrTa966vVf8z3t/ZOAHPY6amd+VpfauMPq0oA0+pmfH8BAUx/4z2tIIBp6GbrA1HL+NrY2rZ6P0jW1u9Zf23ute996fpqvbvo/pp9be7a3mvz18bX1l/y/t576zl/z7kFMHe98FjW7FvPdOvP1EX19Zy7dd9lfGt9U9RwrHP0PNdL97W2t1p9tfEtZ6Z17bWPb7HpOdbXUPfUnWduAcw8zntZRQDT0Mnag2DPB6La2rVt1WqrjW+9v2f9tbnXvvel62vpbc2+Nndt77X5a+Nr6y95f++99Zy/59wCGAHMeT+XtXPX+vO85d8nrXtfenzP3i7d19reavXVxrf0rnXttY9vsek5VgDTU3eeuQUw7c7vmuQTk3zUqf93y2HauyR5ZmWJ0oP7JrlfkjskuZLkJUmekuRRSV5bGf/hSR4y1HDzJK8Y1ixjf6N9e283gwDmAtDWB7meD0S9a5v4nL3DdK31t9RX60vL3GPG1va+dH1j9tDrD6La3o/ZrmZT61tPu55zC2AEML1+39R+Zlp/5mrzu/98gdrvlBa7pfta21utvtr4njY91y51t+69Nr7FpudYAUxP3XnmFsC0O39Okh8/Z5paAHPDJE9Ncvdh/BuSXJ/kJsN/vzjJnZL86Tnz3yvJ45PcaLj/VUluNvz/yzxflORJ7Vt82wwCGAHMhMdp/FS9H8QvqmTpB+ja3peub3wX3/HK2t5qc9f2Xpu/Nr62/pL3995bz/l7zi2AEcAIYJb8zbTM2rXfKS1VLf04Udtbrb7a+J42PdcWwFxf/s67rqV/xi4nIIBpty8BzPcl+dUkz0vywiQ/PExbC2AenuRhSa4meeAQppQQ5s5JnpDk1kmeNfz3tZWWV8s8f3jFzJOTfE2SP05yqyTfkeQew7zlFTIvat/mW2cQwAhgJjpKl5um94N4SwBTq6325Kgm0Xv+2vo976/trbZ2zbY2f218bf0l7++9t57z95x7igCmtb7W8Redq9a5a+Nbz3Trz9RF9fWcu3XfY/4YrK1R603r/mvrb/n+ml3L3pZ2r+2tVl9tfE+bnmuP+ZmrrV+za7HpOdYrYHrqzjO3AKbd+QZJ3nRqmpsmec2IAKa8TemlSW6c5MFJvu2aUu6Y5NlJSo/KP2n9zDX3l1fOfG6SX09Srn3jqfvLK2uem6SELz+a5J7t23zrDAKYCyBrv+hrPag9ENTmv2h8bWxrbbXxrfe31t+yfs++jKmrtvdafWPWWOqa2t5qddX2Xpu/Nr62/pL3995bz/l7zl160jr/0uMvOle9a2s9060/UwKY8zvQatva2zWPr/1ctNS+tHttb7X6auN72vRcu9Tduvfa+BabnmMFMD1155lbADO989gA5iuTPCbJq4dXrbzujFKekeSTkzwxSXm70cmtvM3oz4ZXv9xneLXMtcPvneSHhlfB3OJUKNSyYwHMBXqtDzS1B4La/AKYlqN9+JPelr6Mqbj3/GNqOO+a1tpq42u19fyZqa3den9t70vvrbW+niFCzb619qXHt9jVbHrfXzu3tfUFMIc/FtVs13x/75+5lr23numWtcvYLdvUam+1qfWmtn5tfGt9vcYLYHrJzjevAGZ667EBTHllyucleVqSu51TRvlw3UcOYct7nbqmvCLmp4f/Lq+kKR+8e+2thC4lpCm3z0rysxNsVQBzAWLtF33Nv/ZAUJtfAFMTPuz+nn0ZU1FL38fM33JNa2218bXalu5Nrb6L7q/tfem9tdbXc+8199balx7fYlez6X1/7dzW1hfAnC/UaluzX/L+3j9zLXtb2n3LNrXaW/pSxtZ6U1u/Nr61vl7jBTC9ZOebVwAzvfXYAOa3k3xwkm9J8tBzyvjMU289Kt9w9BfDdSfBTPlw3ve+YAvl/hLQnPUWp0N2LoARwBxybprH1B5Emxe4YILaA3Stttr4Wu2956+t3/LHYG3vtb3Vamudvza+tn7L/bW912prHV+rvef8Pecu+2qdf+nxLT9ztb72vr92bmvrC2AEMGcJ1M5V7We2du4uur+2dsvcY8bW9larrzZ+TA3nXbPk2qWm1vVr41tseo4VwPTUnWduARbr4YEAACAASURBVMz0zmMDmL9M8h5JHpTk0eeU8WHDZ7yUuz80yQuG6/5Nkq9N8mtJPuKCLZT7y+fAlM+XKSFM6+2oA5ieD2K9H0haa1/6Qaq1/paDX9t7rbba+Fptveevrd/yx2Bt77W91Wprnb82vrZ+y/21vddqax1fq73n/D3nLvtqnX/p8S0/c7W+9r6/dm5r6wtgzhdqtW05Vz3XnuNntnbuLrq/995rtfX+fVRbv8WmVnvL2r2fN7fW1nO8AKan7jxzC2Cmdx4bwJSvDytfH/1lSR57ThkfmKR8FXW5fVySXx7+/+Vbl8q4X0ryCRdsodxfxpXrv3zEVsu3MV10u3LlypVcvVq7bMRKHS5p/UVfe5Btnb+25db1LxrfWnutttreWu9vrb9l/drea7XVxtdq6z1/bf2L7m+trTa+VlvNtjZ/bXxt/Zb7W2trHV+rvef8Pecu+2qdf+nxLT9ztb72vr/1Z0oAc36HWm1bzlXPtef4mW059733Xqut9++j2voX3V+zqdXesnYZ27p+bXxrfb3GC2B6yc43rwBmemsBzPSmo2Zs/UVf+0XcOn9tE63rC2BqwsvcX+trrarauWudv7Z+zyfttb211DZm7J7tWvfW2puW30e9a6/NX9t77/EtP3Njzn3Pa2o2tbUFMAKYswRq56r2M1s7dy0hQ8vcY8b23NuY9Vtsetfeei5q41t9eo0XwPSSnW9eAcz01mMDGG9Bmti+9Rd97Rdx6/y17bau3/IHT2tttfGt9/e2b62v5QlKbe3a3mvnpjZ/y/2ttdXGt9Q2Zuye7Vr31tqblt9HvWuvzV/be+/xApizBWrutZ/5Wl9r42v3966vdf6Wc9Vz7VJXrTe19Wvja73r+RjesvYYm9b5W8Yv2ZdSd+v6tfEtNj3HCmB66s4ztwBmeuexAUz5PJc7HPghvOXzXB6VxIfwnupf6wNw7Rdx6/y1o9a6fssfPK211cbX7u9tW1u/5/21vtbWrtm0zl9bv+eT9treWmobM3bPdq17a+3Nkr+ParXXbJYe3/IzN+bc97ymZltb2ytgzhdqtW05V61r136maueitn7r/AKYWgfOvn/Jvghgri8fZXHdYZ0zamkBAcz0HRgbwDw5yT2Gr5P+7HPKOAlaytdJn/4a6vK10uXrq8utfN30n58x3tdQX7K3e34gaX1yUrO5JPU7XN5aX+v6Pce32tVsWudv2XtrbbXxLbWNGbtnu9a9tfZGANPnD+nWvoz5uWi5pue56zl3y55Pxvaur3V+AcxhXe7pPqaiNf/M12x61966fm38mP4scY1XwCyhPu2aAphpPctsYwOYr0jyPUlePXyV9OvPKOXnknxKkicmudep+98tySuSXEly7yT//oyx/zTJE5KUT8wtYcxrJtiqb0GaAPG8KWoPBLUHsiX/4Gllqe2tdf4lx9f6WqutZtM6f239nk/aa3trqW3M2D3bte6ttTdL/j6q1V6zWXp8y8/cmHPf85qabW1tr4DpE9y1uJexPftaq23M+rWf2TFrHPrcrGXuMWN77m3M+hddUzsXvWtvXb82vtWn13gBTC/Z+eYVwExvPTaAuWV5TEty4yRfl+TbrynlI5M8N0np0V2T/Mw19z81yecmeX6Sj07yplP33zDJs4evqP7RJPecaJsCmIkgz5qm9kBQeyBb8g+eVpba3lrnX3J8ra+12mo2rfPX1m/5Y7BWW21vLbWNGVurb8wch15T23utttbxtbpr89fGL/n7qFZ7b9vW9Vt+5mp96X1/zba2fs1uy38Mtu691bblXLWu3dLXUndt/db5lzxXS+6tdiZr9y9de+v6tfG1/S91vwBmKfnp1hXATGN581PT3GQIVsr/9DnDV0Wf3F0+ePfNp659eJKHDa9SeUCSH0zyxiR3Gl69cpskz0py5zPKLJ8fU8KX8iqYJyX5miR/Mrya5t8m+fxh3g9P8qJpthkBzESQZ01TeyCoPcFY8g+eVpba3lrnX3J8ra+12mo2rfPX1u/5pL22t5baxozds13r3lp7s+Tvo1rtNZulx7f8zI059z2vqdnW1q7ZL/mHcq323ntvnb/lXLWu3dJXAczJJw7UTuD899fORWvfaztqXb82vrb+UvcLYJaSn25dAcw0lm8ZOc37ngpnypDySpXySpa7D+PLByq9IUkJccrtxUP4UoKVs27lbUmPT3KjJKWGVyV591NzfXGSHxlZ25jLBDBjlA68pvZAUHsgW/IPngO3/LZhtb21zr/k+Fpfa7XVbFrnr63f80l7bW8ttY0Ze8x2tb239mbJ30e12lv33nt8y8/cmHPf85qaTW3tWu8uGl9bu2XuWt3l/tr6tTlq9bXMX5u7VlvL2mXu3uu3zr/kuarZ9txbre+1+5euvXX92vja/pe6XwCzlPx06wpgprE8NIApq5ce3DfJ/ZJ8yBCmvCTJU4ZvOnptpcTyCpevH4Ka8kqc8oG8z0zyyCS/Mc323jaLAGZi0NPT1R4Iag/CS/7B08pS21vr/EuOr/W1VlvNpnX+2votfwzWaqvtraW2MWNr9Y2Z49Branuv1VYbX6tryfmXrr11773Ht/zM1fre+/6aTW39lrNRW7tl7lrd5f7a+rU5avW1zF+bu1Zby9pl7t7rt85/0f5re29du/f8td623L907a3r18a32PQcK4DpqTvP3AKYeZz3sooApmMnaw8EtQd5AUzH5nScumffO5b91qlbzuSY8b3rr9n3XH/rdjWbJX8f9batnZvW9QUwtdN19v2tfTls1b8dVVu/Nv+az03vvdVsauvX7GrzC2AOE1qyL4dV/PajavVPsUaPOQQwPVTnnVMAM6/31lcTwHTsYO2BoPYEY8k/eFpZantrnX/N43v2vfe+a31r3Vvv+mv19Vx/63Y1myV/H/W2rZ2b1vUFMLXTJYC5rFDtTNbmq5352vje67fOL4CpdXCdP3OHVT1daNq6/qHjBTCHyq1nnABmPb3YQiUCmI5dqj3B6fkEo7atWm218bX7l9xbrbbe99dsaza18T3rr9XWc+0p5l6zXa22tdsLYM4/obXeCmAO++muufb+mamtX9tVrb6W+Wtz12qr3V+rrXX93vMLYGodFsAcJtRnlACmj+ucswpg5tTe/loCmI49XPIJRm1btdpq42v3tz45q82/5vtrtjWb2viee6/V1nPtKeZes12ttrXbC2AEMIf8jLac66V/Zmrr1zxqe2+ZvzZ3rbba/bXaWtfvPb8AptZhAcxhQn1GCWD6uM45qwBmTu3tryWA6djDJZ9g1LZVq602vnZ/65Oz2vxrvr9mW7Opje+591ptPdeeYu4129VqW7u9AEYAc8jPaMu5XvpnprZ+zaO295b5a3PXaqvdX6utdf3e8wtgah0WwBwm1GeUAKaP65yzCmDm1N7+WgKYjj1c8glGbVu12mrja/e3Pjmrzb/m+2u2NZulx6/ZtlZbza42vuX+3n1tqW2KsT0DmNb6an1fsjettbXatI6v1V+bv2a/5B/Ktdp7771l/hbX2r7L/bXaWtfvPf+YPfa6Zst723LtY85tr563ziuAaRVcfrwAZvkebKkCAUzHbq35gaxWWytL65Oz1vWXHF+zrdksPX5Ju9a1a3at8180vndfe9Y+Zm4BzBild7ymdiZr5+awVacbVau/tlLL/mprt8xdq3uKP+Zq9dX21/L7Zsz+lgy/anuv2bXur+f4Le9ty7VP8TPb81xcNLcAZin56dYVwExneQwzCWA6dnnND2SttbWO78i++NStNkuPXxywoYCaXcPU1aG1PxhqtdXGVwvofIEA5jDgPfd9jEjLuV7arrZ+bf+1vbfMX5u7Vlvt/lptrev3nr+2v573b3lvW659TE9r+xszR49rBDA9VOedUwAzr/fWVxPAdOxg7Rd96xOYltJba2sd31L72se22iw9fu2+F9VXs+u5t9rPc6222vietY+ZWwAzRukdr9lz38eItJzrpe1q69f2X9t7y/y1uWu11e6v1da6fu/5a/vref+W97bl2sf0tLa/MXP0uEYA00N13jkFMPN6b301AUzHDtZ+0bc+gWkpvbW21vEtta99bKvN0uPX7ttSX4tty9hSc+v4ln1PMVYAc5jinvteRHo+jq3drrW+2viLTlxP9zl+X9X23nt/h/00jxu15b1tufYx3antb8wcPa4RwPRQnXdOAcy83ltfTQDTsYO1X/RLPsFora11fEf2xadutVl6/OKAHQtosW0ZO8cfNB3Z3jq1AOYw4dZzc9iq041asv4l1x4j2FpfbbwAZkwX1ndNra9LPveraW259treao9jY8b3ukYA00t2vnkFMPNZ72ElAUzHLq75gay1ttbxHdkXn7rVZunxiwOutIBj74sA5rCD2XpuDlt1ulFL1r/k2mMEW+urjRfAjOnC+q6p9VUAs1zPar1ZqjIBzFLy060rgJnO8hhmEsB07HLtF/2SD8KttbWO78i++NStNkuPXxxwpQUce18EMIcdzNZzc9iq041asv4l1x4j2FpfbbwAZkwX1ndNra9LPveraW259treyv21/Y2Zo8c1ApgeqvPOKYCZ13vrqwlgOnaw9ot+yQfh1tpax3dkX3zqVpulxy8OuNICjr0vApjDDmbruTls1elGLVn/kmuPEWytrzZeADOmC+u7ptbXJZ/71bS2XHttbwKYMUKuOVRAAHOo3HGO23UAs3RL1/xA1lpb6/ile9Nz/Vabpcf3tDH3dgUEMIf1rvXn+bBVpxu19fqnk3jHmVptauMFMD2712/uWl8FMP3sazPXelMb3+t+r4DpJTvfvAKY+az3sJIApmMXa7/ol3wQbq2tdXxH9sWnbrVZevzigApYpYAA5rC2tP48H7bqdKO2Xv90EgKY0wKtz1/2fK62vLct1z7mZ722vzFz9LhGANNDdd45BTDzem99NQHM1jt4YP21B6Hak6vW8QeWvYlhrTZLj98EsiJnFxDAHEbe+vN82KrTjdp6/dNJHFcA09OtzL3nc7XlvW259jFntra/MXP0uEYA00N13jkFMPN6b301AczWO3hg/bUHIQHMgbATPLHUm8PtjewnIIA5zLb15/mwVacbtfX6p5MQwExpuedzteW9bbn2Meeztr8xc/S4RgDTQ3XeOQUw83pvfTUBzNY7eGD9tQchAcyBsAKYw+GMXLWAAOaw9rT+rj1s1elGbb3+6SSmD2Auqm3v7nve35731vPnaY65a72Zo4az1hDALCU/3boCmOksj2EmAcwxdPmMPdYehAQwhx+MpW1b1z9850buWUAAc1h3t/7zuPX6D+vauFE9bXrOPW53fa/a8/72vLe+p6L/7LXe9K/g7BUEMEvJT7euAGY6y2OYSQBzDF3usMfag1gtwOlQ0mqmXNpm6fVX0wiFTCoggDmM08/jYW5bGNWztz3nXoPtnve3572t4ey01FDrTcvcLWMFMC166xgrgFlHH7ZShQBmK51aWZ21BzEBzPkN622jNyv7YdlJOQKYwxrp5/Ewty2M6tnbnnOvwXbP+9vz3tZwdlpqqPWmZe6WsQKYFr11jBXArKMPW6lCALOVTq2sztqDWO+QYWUcb1fO0jZLr7/m3qjtcAEBzGF2fh4Pc9vCqJ697Tn3Gmz3vL89720NZ6elhlpvWuZuGSuAadFbx1gBzDr6sJUqBDBb6dTK6qw9iB1zALN0q/Rm6Q7sc30BzGF99fN4mNsWRuntFro0f43OxfzmY1es9WbsPFNfJ4CZWnT++QQw85tveUUBzJa7t2DttQcxAcxyzdGb5ez3vLIA5rDu+nk8zG0Lo/R2C12av0bnYn7zsSvWejN2nqmvE8BMLTr/fAKY+c23vKIAZsvdW7D22oOYAGbB5liaQAcBAcxhqH5XHua2hVF6u4UuzV+jczG/+dgVa70ZO8/U1wlgphadfz4BzPzmW15RALPl7i1Ye+1BTACzYHMsTaCDgADmMFS/Kw9z28Iovd1Cl+av0bmY33zsirXejJ1n6usEMFOLzj+fAGZ+8y2vKIDZcvfUToAAgZkE1hzAtBLUnpS3BMo9527dt/FtAnrb5rfX0c7Fejtb681SlQtglpKfbl0BzHSWxzCTAOYYumyPBAgQaBQQwBwGWHvC3xLuHFaRUVMJ6O1Ukvuax7lYbz9rvVmqcgHMUvLTrSuAmc7yGGYSwBxDl+2RAAECBM4VqD0pbwlJes6tpcsK6O2y/mtd3blYa2eSWm+WqlwAs5T8dOsKYKazPIaZBDDH0GV7JECAAAEBjDMwqUDtj7mW4G7SQk02q4BzMSv3pRar9eZSk014sQBmQsyFphLALAS/0WUFMBttnLIJECBAYBqB2pPylj+ke849ze7NcqiA3h4qt+9xzsV6+1vrzVKVC2CWkp9uXQHMdJbHMJMA5hi6bI8ECBAgcK5A7Um5AMbhOUug57khToDA9AK1n9npVxw3owBmnNOarxLArLk766tNALO+nqiIAAECBGYUqD0pF8DM2IwNLdXz3GyIQakENiNQ+5ldaiMCmKXkp1tXADOd5THMJIA5hi7bIwECBAicK1B7Ui6AcXjOEuh5bogTIDC9QO1ndvoVx80ogBnntOarBDBr7s76ahPArK8nKiJAgACBGQVqT8oFMDM2Y0NL9Tw3G2JQKoHNCNR+ZpfaiABmKfnp1hXATGd5DDMJYI6hy/ZIgAABAosI1J7wt4Q7i2zIom8T0FuHgcC2BGo/s0vtRgCzlPx06wpgprM8hpkEMMfQZXskQIAAgUUEak/4BTCLtGWSRfV2EkaTEJhNoPYzO1sh1ywkgFlKfrp1BTDTWR7DTAKYY+iyPRIgQIDAIgK1J/wCmEXaMsmiejsJo0kIzCZQ+5mdrRABzFLU3dYVwHSjrU78luoVf3vBlyT5wWuuHzP+Hkmecol1apcKYGpC7idAgAABAgcK1J7wC2AOhF3BML1dQROUQOASArWf2UtMNemlXgEzKecikwlgFmF/66J/Uln6pkluMlzzoUlecE4A88ok158z1/2T/PSEWxTATIhpKgIECBAgcFqg9oRfALPd86K32+2dyo9ToPYzu5SKAGYp+enWFcBMZzn1TE9P8qlJnpfkjmdMfvIKmLskeebUi58znwBmJmjLECBAgMDxCdSe8Atgtnsm9Ha7vVP5cQrUfmaXUhHALCU/3boCmOksp5zp1kleluSdknxVku8WwNR5PTGtG7mCAAECBNYrUHvC73Fuvb2rVaa3NSH3E1iXQO1ndqlqBTBLyU+3rgBmOsspZ3pYkocnuZrkVknK24yuvXkFzDUinphOeQTNRYAAAQIECEwlUPtjznOYqaTNQ2AagdrP7DSrXH4WAczlzdY2QgCzto78TT2/m+SDkvxoknueU6IARgCzztOrKgIECBAgQODtBGp/zAlgHBgC6xKo/cwuVa0AZin56dYVwExnOdVMH5fkl4bJPivJz1YCmF9PUt6y9G5J/iLJc5M8PslPJBnzTUmXqdtnwFxGy7UECBAgQIAAgSS1P+YEMI4JgXUJ1H5ml6pWALOU/HTrCmCms5xqpu9L8mVJXp7ktkneVAlgyt2vGT4v5uRbk8r/9pNJviDJX1+isPKWp4tuV65cuZKrV2uXXWLFCS/15GVCTFMRIECAAAECkwnU/pjzHGYyahMRmESg9jM7ySIHTCKAOQBtZUMEMOtqyI2Hr6cur2b5liQPvaC88iqXJyZ5dpK/Gq77e0m+Psl9h/9+XJL7XWKLtWRFAHMJTJcSIECAAAECBIpA7Y85AYxzQmBdArWf2aWqFcAsJT/dugKY6SynmOmfJnnCMNHfT/KiAyd9ZJKHDG9BukOS3zlwnmuHeQvSRJCmIUCAAAECBI5HoPbHnADmeM6CnW5DoPYzu9QuBDBLyU+3rgBmOsspZvq5JJ+S5FeS/KOGCctbkV6RpLyipgQx39ow1+mhApiJIE1DgAABAgQIHI9A7Y85AczxnAU73YZA7Wd2qV0IYJaSn25dAcx0lq0z3aa8QnX4LJevSPK9jRM+J8kdkzwmyQMa5zoZLoCZCNI0BAgQIECAAAECBAisU0AAs86+7KEqAcx6uvh/JPm/krw+ya2SvKqxNAFMI6DhBAgQIECAAAECBAgcn4AA5vh6PteOBTBzSdfX+b0kHzB8sO696pdfeIW3IDUCGk6AAAECBAgQIECAwHEKCGCOs+9z7FoAM4dyfY1PSPJfhss+LUn5LJiLbqVvb7nggkck+Ybhmg9J8sJ6CaOu8BakUUwuIkCAAAECBAgQIEBgqwICmK12bv11C2DW0aPHJvnSJH+Y5HZJ3lwp68nDNyT9WJIXJHnjcP3tkzw4yf2H/y5fVX3yldRT7FQAM4WiOQgQIECAAAECBAgQWK2AAGa1rdl8YQKY5Vv4Lkn+OMm7JXl4kn8+oqRnJrnzcN2bhs+LuS5JeevRye0pSe6d5OqI+cZeIoAZK+U6AgQIECBAgAABAgQ2KSCA2WTbNlG0AGb5NpWQ5IeGMj4wyX8bUVJ5m9Ldknxsklsnec/hVTN/MnyFdXnly9NHzHPZSwQwlxVzPQECBAgQIECAAAECmxIQwGyqXZsqVgCzqXYtXqwAZvEWKIAAAQIECBAgQIAAgZ4CApieusc9twDmuPt/2d0LYC4r5noCBAgQIECAAAECBDYlIIDZVLs2VawAZlPtWrxYAcziLVAAAQIECBAgQIAAAQI9BQQwPXWPe24BzHH3/7K7F8BcVsz1BAgQIECAAAECBAhsSkAAs6l2bapYAcym2rV4sQKYxVugAAIECBAgQIAAAQIEegoIYHrqHvfcApjj7v9ldy+AuayY6wkQIECAAAECBAgQ2JSAAGZT7dpUsQKYTbVr8WIFMIu3QAEECBAgQIAAAQIECPQUEMD01D3uuQUwx93/y+5eAHNZMdcTIECAAAECBAgQILApAQHMptq1qWIFMJtq1+LFCmAWb4ECCBAgQIAAAQIECBDoKSCA6al73HMLYI67/5fdvQDmsmKuJ0CAAAECBAgQIEBgUwICmE21a1PFCmA21a7FixXALN4CBRAgQIAAAQIECBAg0FNAANNT97jnFsAcd/8vu3sBzGXFXE+AAAECBAgQIECAwKYEBDCbatemihXAbKpdixcrgFm8BQogQIAAAQIECBAgQKCngACmp+5xzy2AOe7+X3b3ApjLirmeAAECBAgQIECAAIFNCQhgNtWuTRUrgNlUuxYvVgCzeAsUQIAAAQIECBAgQIBATwEBTE/d455bAHPc/b/s7gUwlxVzPQECBAgQIECAAAECmxIQwGyqXZsqVgCzqXYtXqwAZvEWKIAAAQIECBAgQIAAgZ4CApieusc9twDmuPt/2d0LYC4r5noCBAgQIECAAAECBDYlIIDZVLs2VawAZlPtWrxYAcziLVAAAQIECBAgQIAAAQI9BQQwPXWPe24BzHH3/7K7F8BcVsz1BAgQIECAAAECBAhsSkAAs6l2bapYAcym2rV4sQKYxVugAAIECBAgQIAAAQIEegoIYHrqHvfcApjj7v9ldy+AuayY6wkQIECAAAECBAgQ2JSAAGZT7dpUsQKYTbVr8WIFMIu3QAEECBAgQIAAAQIECPQUEMD01D3uuQUwx93/y+5eAHNZMdcTIECAAAECBAgQILApAQHMptq1qWIFMJtq1+LFCmAWb4ECCBAgQIAAAQIECBDoKSCA6al73HMLYI67/5fdvQDmsmKuJ0CAAAECBAgQIEBgUwICmE21a1PFCmA21a7FixXALN4CBRAgQIAAAQIECBAg0FNAANNT97jnFsAcd/8vu3sBzGXFXE+AAAECBAgQIECAwKYEBDCbatemihXAbKpdixcrgFm8BQogQIAAAQIECBAgQKCngACmp+5xzy2AOe7+X3b3ApjLirmeAAECBAgQIECAAIFNCQhgNtWuTRUrgNlUuxYvVgCzeAsUQIAAAQIECBAgQIBATwEBTE/d455bAHPc/b/s7gUwlxVzPQECBAgQIECAAAECmxIQwGyqXZsqVgCzqXYtXqwAZvEWKIAAAQIECBAgQIAAgZ4CApieusc9twDmuPt/2d0LYC4r5noCBAgQIECAAAECBDYlIIDZVLs2VawAZlPtWrxYAcziLVAAAQIECBAgQIAAAQI9BQQwPXWPe24BzHH3/7K7F8BcVsz1BAgQIECAAAECBAhsSkAAs6l2bapYAcym2rV4sQKYxVugAAIECBAgQIAAAQIEegoIYHrqHvfcApjj7v9ldy+AuayY6wkQIECAAAECBAgQ2JSAAGZT7dpUsQKYZdv1JUkeVynhtUlues41pX/3TXK/JHdIciXJS5I8JcmjkpSxU94EMFNqmosAAQIECBAgQIAAgdUJCGBW15LdFCSAWbaVJwHMm5O84pxSSojy/mfcd8MkT01y9+G+NyS5PslNhv9+cZI7JfnTCbcogJkQ01QECBAgQIAAAQIECKxPQACzvp7spSIBzLKdPAlgXpbkdpcs5eFJHpbkapIHJnl8khLC3DnJE5LcOsmzhv++5NTnXi6AmUrSPAQIECBAgAABAgQIrFJAALPKtuyiKAHMsm08NIC5ZZKXJrlxkgcn+bZrtnHHJM9OUvp71yQ/M9E2BTATQZqGAAECBAgQIECAAIF1Cghg1tmXPVQlgFm2i4cGMF+Z5DFJXp3kVkled8Y2npHkk5M8Mcm9JtqmAGYiSNMQIECAAAECBAgQILBOAQHMOvuyh6oEMMt28dAA5keTfF6SpyW52zlbeEiSRyb5syTvNdE2BTATQZqGAAECBAgQIECAAIF1Cghg1tmXPVQlgFm2iycBTHkFy+8muX2StyT5wyQ/n+Q7kvzeGSX+dpIPTvItSR56zhY+89Rbj26e5C8m2KoAZgJEUxAgQIAAAQIECBAgsF4BAcx6e7P1ygQwy3bw9NdQl+DllUneLUn5hqNyOXhDjQAAIABJREFUKx+w+xXDB+yervQvk7xHkgclefQ5W/iwJL8+3PehSV4wwVYFMBMgmoIAAQIECBAgQIAAgfUKCGDW25utVyaAWbaDn5bkY4evky6vdClfI33d8Nktjxpe5VK+ovpTkvziqVLLdTdK8mVJHnvOFj4wSfkq6nL7uCS/PGKrJfC56HblypUruXq1dtmIlTpccruHlndkuREgQIAAAQIECBAgQOBwAQHM4XZGXiwggFnvCblZkucl+YDhG41KUHNyE8Cc0TcBzHoPs8oIECBAgAABAgQIbEVAALOVTm2vTgHMunt23yQ/MHwuTPkg3VcM5XoLkgBm3SdXdQQIECBAgAABAgQ2KiCA2WjjNlC2AGbdTSoftFs+cLfcPjrJc4f/f/k8lzv4EN63b55XwKz7MKuOAAECBAgQIECAwBYEBDBb6NI2axTArLtv5wUwT05yjyQ/neSzz9nCg5OUz5HxNdTr7rHqCBAgQIAAAQIECBBYkYAAZkXN2FkpAph1N/TkLUilylueegtS+Wak70ny6iTvneT1Z2zj54YP731ikntNtE3fgjQRpGkIECBAgAABAgQIEFingABmnX3ZQ1UCmOW6WOzLV0+fdytfR13ecvRBSZ6T5GNOXVjCmJcmuXGSr0vy7ddM8pHD2LLGXZP8zETbFMBMBGkaAgQIECBAgAABAgTWKSCAWWdf9lCVAGa5Lt4uyQ8n+d4kz0jyR0MpV5J80vD2oQ9JUr6G+lOT/MI1pT48ycOSlO+EfkCSH0zyxiR3SvKEJLdJ8qwkd55wiwKYCTFNRYAAAQIECBAgQIDA+gQEMOvryV4qEsAs18kSwLzk1PLlbUSvTVK+fvpGw//+uiTl7UY/dEaZN0zy1CR3H+4rX039hiQ3Gf77xUP48icTblEAMyGmqQgQIECAAAECBAgQWJ+AAGZ9PdlLRQKY5TpZ3j50/ySfkOTDktwiSXnbUQlhfi/Jzw+f8/KyC0os/SufE3O/JOXVMiW4KaHOU4ZX0JS5prwJYKbUNBcBAgQIECBAgAABAqsTEMCsriW7KUgAs5tWzrIRAcwszBYhQIAAAQIECBAgQGApAQHMUvL7X1cAs/8eT7lDAcyUmuYiQIAAAQIECBAgQGB1AgKY1bVkNwUJYHbTylk2IoCZhdkiBAgQIECAAAECBAgsJSCAWUp+/+sKYPbf4yl3KICZUtNcBAgQIECAAAECBAisTkAAs7qW7KYgAcxuWjnLRgQwszBbhAABAgQIECBAgACBpQQEMEvJ739dAcz+ezzlDgUwU2qaiwABAgQIECBAgACB1QkIYFbXkt0UJIDZTStn2YgAZhZmixAgQIAAAQIECBAgsJSAAGYp+f2vK4DZf4+n3KEAZkpNcxEgQIAAAQIECBAgsDoBAczqWrKbggQwu2nlLBsRwMzCbBECBAgQIECAAAECBJYSEMAsJb//dQUw++/xlDsUwEypaS4CBAgQIECAAAECBFYnIIBZXUt2U5AAZjetnGUjAphZmC1CgAABAgQIECBAgMBSAgKYpeT3v64AZv89nnKHApgpNc1FgAABAgQIECBAgMDqBAQwq2vJbgoSwOymlbNsRAAzC7NFCBAgQIAAAQIECBBYSkAAs5T8/tcVwOy/x1PuUAAzpaa5CBAgQIAAAQIECBBYnYAAZnUt2U1BApjdtHKWjQhgZmG2CAECBAgQIECAAAECSwkIYJaS3/+6Apj993jKHQpgptQ0FwECBAgQIECAAAECqxMQwKyuJbspSACzm1bOshEBzCzMFiFAgAABAgQIECBAYCkBAcxS8vtfVwCz/x5PuUMBzJSa5iJAgAABAgQIECBAYHUCApjVtWQ3BQlgdtPKWTYigJmF2SIECBAgQIAAAQIECCwlIIBZSn7/6wpg9t/jKXcogJlS01wECBAgQIAAAQIECKxOQACzupbspiABzG5aOctGBDCzMFuEAAECBAgQIECAAIGlBAQwS8nvf10BzP57POUOBTBTapqLAAECBAgQIECAAIHVCQhgVteS3RQkgNlNK2fZiABmFmaLECBAgAABAgQIECCwlIAAZin5/a8rgNl/j6fcoQBmSk1zESBAgAABAgQIECCwOgEBzOpaspuCBDC7aeUsGxHAzMJsEQIECBAgQIAAAQIElhIQwCwlv/91BTD77/GUOxTATKlpLgIECBAgQIAAAQIEVicggFldS3ZTkABmN62cZSMCmFmYLUKAAAECBAgQIECAwFICApil5Pe/rgBm/z2ecocCmCk1zUWAAAECBAgQIECAwOoEBDCra8luChLA7KaVs2xEADMLs0UIECBAgAABAgQIEFhKQACzlPz+1xXA7L/HU+5QADOlprkIECBAgAABAgQIEFidgABmdS3ZTUECmN20cpaNCGBmYbYIAQIECBAgQIAAAQJLCQhglpLf/7oCmP33eModCmCm1DQXAQIECBAgQIAAAQKrExDArK4luylIALObVs6yEQHMLMwWIUCAAAECBAgQIEBgKQEBzFLy+19XALP/Hk+5QwHMlJrmIkCAAAECBAgQIEBgdQICmNW1ZDcFCWB208pZNiKAmYXZIgQIECBAgAABAgQILCUggFlKfv/rCmD23+MpdyiAmVLTXAQIECBAgAABAgQIrE5AALO6luymIAHMblo5y0YEMLMwW4QAAQIECBAgQIAAgaUEBDBLye9/XQHM/ns85Q4FMFNqmosAAQIECBAgQIAAgdUJCGBW15LdFCSA2U0rZ9mIAGYWZosQIECAAAECBAgQILCUgABmKfn9ryuAWbbHt0nyuUk+KcmHJblVkjckeVmSZyT5jiS/f06JbxlR+j2SPGXEdWMvEcCMlXIdAQIECBAgQIAAAQKbFBDAbLJtmyhaALNcm0r4UoKW0z14dZIbJ7nRUNbrk3xJkiefUeZJAPPKJNefs437J/npCbcogJkQ01QECBAgQIAAAQIECKxPQACzvp7spSIBzHKdvN3w6pb/lOQHh1e8/HmSGyb5uCTfmeQfDK+I+cgkv3VNqScBzF2SPHOmbQhgZoK2DAECBAgQIECAAAECywgIYJZxP4ZVBTDLdflmSd43ya+fU8J7DaHLLZI8Lsn9BDAXN+t2D33act20MgECBAgQIECAAAECuxAQwOyijavchABmlW15W1GPT/LFSX5z+IyY09V6Bcw1vRPArPswq44AAQIECBAgQIDAFgQEMFvo0jZrFMCsu2/fmuR/T/LCJHe4plQBjABm3adXdQQIECBAgAABAgQ2KCCA2WDTNlKyAGbdjXpuko8aPoT3888JYMpbmG6d5N2S/EWSMqa8cuYnkoz5pqTLCPgMmMtouZYAAQIECBAgQIAAgc0JCGA217LNFCyAWW+rPifJjw/lfWaS/3hOAFP+59ckeackNzl1zU8m+YIkf32JLV6tXHvlypUruXq1dtklVpzwUm9BmhDTVAQIECBAgAABAgSOVEAAc6SNn2HbApgZkA9Y4rZJnpekfABvCVJKGHPtrbzK5YlJnp3kr4Y7/16Sr09y3+G/z/rw3ovKqSUrApgDmmkIAQIECBAgQIAAAQLbERDAbKdXW6tUALO+jr17kv88fAX17ye5Y5K/vGSZj0zykOEtSOWzY37nkuPPu9xbkCaCNA0BAgQIECBAgAABAusUEMCssy97qEoAs64u3jTJzyX52CQvT/KPk5QQ5rK38lakVyS58RDElA/zneImgJlC0RwECBAgQIAAAQIECKxWQACz2tZsvjABzHpa+C5JfjbJnYbw5M6Nr1x5zvDqmcckecBE2xTATARpGgIECBAgQIAAAQIE1ikggFlnX/ZQlQBmHV185yRPS/JJSV6Z5C5JfqOxNAFMI6DhBAgQIECAAAECBAgcn4AA5vh6PteOBTBzSZ+/znXDB+1+epJXJ/nUJCU8abl5C1KLnrEECBAgQIAAAQIECBytgADmaFvffeMCmO7EFy5woyRPSXL3JK9NUkKYXxpRUunbWy647hFJvmG45kOSvHDEnGMu8RakMUquIUCAAAECBAgQIEBgswICmM22bvWFC2CWa9ENhq+RvkeS1ye5a5JfHFnOk5O8KMmPJXlBkjcO426f5MFJ7j/8d/mq6pOvpB459YWXCWCmUDQHAQIECBAgQIAAAQKrFRDArLY1my9MALNcC8uH7Zavmy63q0n+qlLKe5+6/5lJyof0ltubkrwqSXkrU3nr0cmtvLLm3sPcU+1SADOVpHkIECBAgAABAgQIEFilgABmlW3ZRVECmOXa+ImXeMVLqfJ0rz4tyd2Gr6u+dZL3TPLmJH+S5FeSlFe+PL3D1gQwHVBNSYAAAQIECBAgQIDAegQEMOvpxd4qEcDsraN99yOA6etrdgIECBAgQIAAAQIEFhYQwCzcgB0vL4DZcXM7bE0A0wHVlAQIECBAgAABAgQIrEdAALOeXuytEgHM3jradz8CmL6+ZidAgAABAgQIECBAYGEBAczCDdjx8gKYHTe3w9YEMB1QTUmAAAECBAgQIECAwHoEBDDr6cXeKhHA7K2jffcjgOnra3YCBAgQIECAAAECBBYWEMAs3IAdLy+A2XFzO2xNANMB1ZQECBAgQIAAAQIECKxHQACznl7srRIBzN462nc/Api+vmYnQIAAAQIECBAgQGBhAQHMwg3Y8fICmB03t8PWBDAdUE1JgAABAgQIECBAgMB6BAQw6+nF3ioRwOyto333I4Dp62t2AgQIECBAgAABAgQWFhDALNyAHS8vgNlxcztsTQDTAdWUBAgQIECAAAECBAisR0AAs55e7K0SAczeOtp3PwKYvr5mJ0CAAAECBAgQIEBgYQEBzMIN2PHyApgdN7fD1gQwHVBNSYAAAQIECBAgQIDAegQEMOvpxd4qEcDsraN99yOA6etrdgIECBAgQIAAAQIEFhYQwCzcgB0vL4DZcXM7bE0A0wHVlAQIECBAgAABAgQIrEdAALOeXuytEgHM3jradz8CmL6+ZidAgAABAgQIECBAYGEBAczCDdjx8gKYHTe3w9YEMB1QTUmAAAECBAgQIECAwHoEBDDr6cXeKhHA7K2jffcjgOnra3YCBAgQIECAAAECBBYWEMAs3IAdLy+A2XFzO2xNANMB1ZQECBAgQIAAAQIECKxHQACznl7srRIBzN462nc/Api+vmYnQIAAAQIECBAgQGBhAQHMwg3Y8fICmB03t8PWBDAdUE1JgAABAgQIECBAgMB6BAQw6+nF3ioRwOyto333I4Dp62t2AgQIECBAgAABAgQWFhDALNyAHS8vgNlxcztsTQDTAdWUBAgQIECAAAECBAisR0AAs55e7K0SAczeOtp3PwKYvr5mJ0CAAAECBAgQIEBgYQEBzMIN2PHyApgdN7fD1gQwHVBNSYAAAQIECBAgQIDAegQEMOvpxd4qEcDsraN99yOA6etrdgIECBAgQIAAAQIEFhYQwCzcgB0vL4DZcXM7bE0A0wHVlAQIECBAgAABAgQIrEdAALOeXuytEgHM3jradz8CmL6+ZidAgAABAgQIECBAYGEBAczCDdjx8gKYHTe3w9YEMB1QTUmAAAECBAgQIECAwHoEBDDr6cXeKhHA7K2jffcjgOnra3YCBAgQIECAAAECBBYWEMAs3IAdLy+A2XFzO2xNANMB1ZQECBAgQIAAAQIECKxHQACznl7srRIBzN462nc/Api+vmYnQIAAAQIECBAgQGBhAQHMwg3Y8fICmB03t8PWBDAdUE1JgAABAgQIECBAgMB6BAQw6+nF3ioRwOyto333I4Dp62t2AgQIECBAgAABAgQWFhDALNyAHS8vgNlxcztsTQDTAdWUBAgQIECAAAECBAisR0AAs55e7K0SAczeOtp3PwKYvr5mJ0CAAAECBAgQIEBgYQEBzMIN2PHyApgdN7fD1gQwHVBNSYAAAQIECBAgQIDAegQEMOvpxd4qEcDsraN99yOA6etrdgIECBAgQIAAAQIEFhYQwCzcgB0vL4DZcXM7bE0A0wHVlAQIECBAgAABAgQIrEdAALOeXuytEgHM9jt6iyQPTXL3JLdO8tokz0/ymCQ/MfH2BDATg5qOAAECBAgQIECAAIF1CQhg1tWPPVUjgNl2N++Q5BeS3HLYxmuSvEuSGwz//egkD5pwiwKYCTFNRYAAAQIECBAgQIDA+gQEMOvryV4qEsBst5PXJXlhkvdL8oIk907yG0MA87VJvjlJ6e/9kjxuom0KYCaCNA0BAgQIECBAgAABAusUEMCssy97qEoAs90uPjBJeYXL65L8/SR/cM1WvivJA5K8PMntkrxhgq0KYCZANAUBAgQIECBAgAABAusVEMCstzdbr0wAs90OPjvJRyf5/iT3P2Mbt03y0uFVMJ+e5OkTbFUAMwGiKQgQIECAAAECBAgQWK+AAGa9vdl6ZQKYbXbwpklePYQr90jylHO28dtJPjjJI5N8wwRbFcBMgGgKAgQIECBAgAABAgTWKyCAWW9vtl6ZAGabHbxjkucMpZe3H73onG08Kck9k/x0ks+eYKsCmAkQTUGAAAECBAgQIECAwHoFBDDr7c3WKxPAbLOD5Sunf3Io/WbDq2HO2sm3J/maJL+a5KMm2KoAZgJEUxAgQIAAAQIECBAgsF4BAcx6e7P1ygQw2+zgvZL8+6H0GyV54znbeHiShyV5cZLbj9jq1co1V8r9V6689f+s7nb9m968upoURIAAAQIECBAgQIDAtgSu3OCdVlnw9ddff1KXv+NX2aF6URpXN1rjFYsGMEne9pO/IpyTVGiNta2ISSkTCzh3E4OabpSAczeKyUUTCzh3E4OabpSAczeKyUUTC6z53J3U5u/4iZs+13QaN5f0tOss9RakaXcx7Wwnr965btppzUbgQgHnzgFZQsC5W0Ldms6dM7CEgHO3hLo1nTtnoJuAAKYbbdeJy+e5PHdYYc4P4e26qcbJ/aJsBDT8IAHn7iA2gxoFnLtGQMMPEnDuDmIzqFHAuWsENPwgAefuIDaDxggIYMYore+a019D/XlJnnpOiS9IcocJv4Z6fRJ/W5FflGvuzn5rc+7229s178y5W3N39lubc7ff3q55Z87dmruz39qcu/32dvGdCWAWb8HBBfxKko9J8tgkX3bGLLdO8gdJSo8/PcnTD15pGwP9otxGn/ZWpXO3t45uYz/O3Tb6tLcqnbu9dXQb+3HuttGnvVXp3O2toyvajwBmRc24ZCkPTPLoJK9NUt6G9IfXjC/3lWtenuR2Sd5wyfm3drlflFvr2D7qde720cet7cK521rH9lGvc7ePPm5tF87d1jq2j3qdu330cZW7EMCssi2jiiofNvvCJO+X5DeT3Gf4vzdO8qAk/3p49cv9kjxu1Izbvsgvym33b6vVO3db7dy263butt2/rVbv3G21c9uu27nbdv+2Wr1zt9XObaBuAcwGmnRBieXzXX4hyS2Ha16d5CZJbjD893cm+eptb3F09X5RjqZy4YQCzt2EmKYaLeDcjaZy4YQCzt2EmKYaLeDcjaZy4YQCzt2EmKZ6ewEBzPZPRAlfHprks5PcZnhL0vOTfHeSn9j+9kbvwC/K0VQunFDAuZsQ01SjBZy70VQunFDAuZsQ01SjBZy70VQunFDAuZsQ01QCGGeAAAECBAgQIECAAAECBAgQIDCrgFfAzMptMQIECBAgQIAAAQIECBAgQOAYBQQwx9h1eyZAgAABAgQIECBAgAABAgRmFRDAzMptMQIECBAgQIAAAQIECBAgQOAYBQQwx9h1eyZAgAABAgQIECBAgAABAgRmFRDAzMptMQIECBAgQIAAAQIECBAgQOAYBQQwx9h1eyZAgAABAgQIECBAgAABAgRmFRDAzMptMQIECBAgQIAAAQIECBAgQOAYBQQwx9h1eyZAgAABAgQIECBAgAABAgRmFRDAzMptsZECt0jy0CR3T3LrJK9N8vwkj0nyEyPnOOuymyZ5cJLPS/K+Sa5P8ttJvj/J45O8pWFuQ7cvMPW5K/P9kySfnOQjhrNcztgfJfnPSb4zyW9sn80OGgSmPnPnlfKTw+/Tcv8PJvmShpoN3b5Az3P3rkn+WZLPSfKBScrj7p8Oj7XPSPJvts9nBwcK9Dp35bnilya5Y5KbD8/tXpbk55P82yS/f2C9hm1boPwu+sQkH3Xq/91y2NJdkjyzcXv+pmgEPObhAphj7v46936HJL+Q5OSX5GuSvEuSGwzlPjrJgw4o/VZJnpXkA4axJdS5kuRGw3//eJJ7JHnTAXMbsn2BHufuDUlueIrmdUneKck7D/9bOWslECxPEN2OT6DHmTtLsQTOP3rqDgHM8Z210zvuee4+JsmPJfm7w4LlHzlen+Rmp37nnf6deNydOK7d9zh35fH0cUm+6BRlec5YHmNPntuV83fPJD99XNx2O4TA5bn9WbfWAMbfFI5Yk4AAponP4IkFrkvywiTvl+QFSe49vEKgBDBfm+Sbk5Qze7/hQfcyy//XJB+f5L8P85ZXIJQH6PIvweWVCGXtb0ryjZeZ1LW7EOh17sqrXX4pyQ8k+U/DK1/KE8YPG0KXOw16n5nkP+5C0ibGCvQ6c9euX/7w/Z0hxP7jJH/PK2DGtmiX1/U8dx8y/L57tyQ/m+RfJnnu8MrS8i/FHzm8IvBrdilrUxcJ9Dp3X5bk+4aFvyvJv05Sfs+Vf7D7uOFV0+VcvirJ7ZL8lTYdlUB5FV45H7+a5HnD3xc/PAi0BjD+pjiqozT9ZgUw05ua8XCBByYpr3AprxT4+0n+4JqpygPsA5K8fHgwLa8wGHP77CQ/NTwRLP9CV54Unr6VVyE8alj3fZL8+ZhJXbMbgV7n7s7DW43OgiqhYnlSUP4g/sUkn7QbTRsZI9DrzF279vcm+d+SfNXwCr9yJr0CZkyH9nlNr3NXguXyuFreavmkJF/oLb37PEAH7qrXuStvISm/08r/LX9QX3sr/5j3/w3/Y3mF81MOrN+wbQqUIO70q9pLEFxeIVVuLQGMvym2eR5WVbUAZlXtOPpinp3ko4fPZLn/GRq3TfLS4VUwn57k6SPFyhPC8hLU8n7gTzljTPlj+E+SlPeLfvmpf1EZOb3LNi7Q69zVWMq/EJdXXL361Ev0a2Pcvw+BOc7cJwxvuyz/8vexw1s7BTD7OD+H7qLXubtbkv+Q5K+Hz7r6i0MLNG6XAr3O3YuS3D7Jtw1v5z0Lr5zF9xxe7VzCZ7fjFZgqgPE3xfGeocl2LoCZjNJEjQLlF2P5Q7ScyYv+paJ8aO4HJ3lkkm8YueYrhg9me0iSbz1nzNOSfFaSJyf5/JHzumz7Aj3PXU2nvCqhvP2tvOLrJrWL3b8bgTnOXPl8q/IBz+VDUEuoXT7E/ORfi70CZjdH6VIb6XnufmR43Cwf9lxe9u9G4ESg57krb3X7jJGvgClv/f1NbTlqgakCGH9THPUxmmbzAphpHM3SLlA+vf45wzTl7UflXzbOup0kz+UD1crLAGu38qn7fzZcdNFnbXxLkq8fPnvmQ2uTun83Ar3O3Rig8sGo5QNSy7kvb41zOw6BOc7cyaurTn9ouQDmOM7Xebvsee7K24VvM7yi7/8Z/u9dhw/TL69AKJ+FVb796JePuwVHufue566EfScfslr+MaN8Bkx5NXN5S1z5DJjvSVI+A6Z8UG/57EC34xaYIoDxN8Vxn6HJdi+AmYzSRI0C5WsEy7+elVv54Mjyapizbt+epHyIX/n8jPLVcrXbPzj1Vb8X/QtI+Wal8m005cli+RpDt+MQ6HXuanrlAynLy7LLe5S/Msm/qw1w/24Eep+5EmD/+vBZVuUzhk7e8y6A2c0ROmgjvc5d+YDV8tajciuPz/c59VXA5dV97z7cVz6UvHyY/nccVL1BWxXode5OPMoroR9+6psyT38L0kuSfPcQ/pXz53bcAlMEMP6mOO4zNNnuBTCTUZqoUeBeSf79MEf5dqI3njNfeaB9WJIXD+/9rS1b/hWk/OtbuZWX4/+3cwacfJp++drM8oTS7TgEep27i/RKwFhe9fJBwyfz/6MLzvtxdOG4dtnzzJXH9GclKZ//Uj736vTXTwtgjuucXbvbXufuvYdvninrvXl4S+VXDG/nLR+U//7DH8Hlc9vK/Z+Y5L8cdyuOave9zt0JYvmdV942Xr7tpnyO3+lbeTXMY4dv0CzP7dyOW2CKAMbfFMd9hibbvQBmMkoTNQr0epD2y7KxMTsf3uvcncdWPpujvH3uU4dXW5W3Hp18S8POqW1vEOh55sqHiJdXU5XPRiifaXX6JoA57iPY69z93SR/dIr2rA+yv3GS30vyPyf5mSTl7UluxyHQ69wVvfLZaeVrhcurbP5jkn81fNVw+Sr0EvSVt5aX81l+95XH3PP+Ye84OmGXAhhnYDUCApjVtOLoC+n1MlUvFzz6o3UhQK9zd9aiNxxekVDet15eJl2+kevkc4906XgEep25WyX5nSQl5Cufe/D7ApjjOVQjdtrr3JVXHZy8Zbj83/KNM6e/+vWktPLK1fIK1vK2pPIH8lnXjNiGSzYm0OvcFYYSNpfA7xeTfPIZX31e3oL5a0neOUl5Vdb3bsxOudMKTBHA+Jti2p4c7WwCmKNt/eo2Xj7P5blDVVN+CG/5PJfyieXl5kN4V9f2xQvqde6u3Vj5rJfyFrvyUunyB0g5i+WtIm7HJ9DrzD0+yRcPH0T5f5/BWl4VU96aVM5h+WOk3F57xh8tx9eR49hxr3NX9ErwUoKY8m1b5fOtzrp9bpKnDne816kPxz8O/ePdZa9zV87bK4fPfilfyFBeWXrWrZy5cvb+0/CNScfbCTufIoDxN4VzNImAAGYSRpNMIHD6qwrLN8OcPFG7duoXJLnDJb+GunwLUvnk8gcn+bZzai0P3uVl0b6GeoJmbmiKnufuhKF8I0P56t97J7k6vFz66RsyUuq0Ar3O3Mma56AUAAAgAElEQVRbjC5T7fsmeellBrh2swK9zl0BKd9u9LGXCGBueeofRjYLqvBRAr3OXQn6njdUUJ4TvvCcah41PPf73STlFTFuxyswRQBT9PxNcbxnaLKdC2AmozTRBAK/Mnwdb/nQtPKhuNfebp2kfN1lObflA/3G/hH7I8MrD54xvA/42nnL+9PLh7WVl0Wf9f71CbZmihUL9Dp3ZcvlrJbzXL4Cs3wg5f+a5D+s2EJp8wj0OHMCmHl6t+VVepy74vFNSf7P4ZUw/9M5n7Vx8hak8vbL8s1I5QN53Y5DoMe5+4dD4FcEL3p185OGDyQvr7D+6OPgtstzBKYKYPxN4Yg1CwhgmglNMKHAA5M8enhZfHkb0h9eM3e5r1zz8iS3G/6gHbN8eXnqTw0vtb/j8BXWp8d93fDKmPLWkPcZvr51zLyu2YdAr3NXdB4zfM10+byDL0jylH2Q2UWjQM8zd15pPoS3sWk7GN7r3N0+yW8Pbwc567M2Tn8Ib/lmrvINXW7HI9Dj3JUz9ZfD57v8ZJLy2WrX3m6bpLxqurxd6buG54/Ho26n1wpMFcD4m8LZahYQwDQTmmBCgfL1z+VlpO+X5DeT3Gf4v+WB9kHDZxuUM1teTfC4a9Z9y/Df5VPw/+UZNf3XJB8/vIKmzFs+f6N8KGr5zITvHr56uvwr3jdOuB9TbUOg17krb3cr4V75l95y5sq3NbgRKAK9ztxFugIYZ6/nuTsJm//H8ErSErScfA11+eP3M4a3YJZXIZTHd7fjEeh17r7n1OdZlc/AKs//ylsqyweR/+Mk35mk/GNe+faj8uGp5UPK3Y5LoHxmy8mtfGvWyVtuS2D3S6fuK2He6Vfl+ZviuM7J7LsVwMxObsGKQHkv7y8kKe8RL7fy4X7ll2b5ENNyKw+oX33GHLVfluUbQkro8gHD2PLhkzcaHqjL//TjSe7hmxmO9nxOfe7Kv7y9bNAsT/7+oiJbXpl17Su+jrYZR7Lxqc9cjU0AUxM6jvt7nbvyR3Z5JUJ5e3C5lc+7Kq8qfY/hv/86yRcN3wR3HNJ2eVqgx7krzw2fluTOpxYqz+3Ktx6dPGe8PsmXJnmCdhylwMnfBrXNX/t5aP6mqIm5v0lAANPEZ3AngRK+PDRJeZnfbYa3JJVvVyivVPmJc9as/bIsw8rLDx8yfA5H+WVb/nWuvDz1B4ZX1Iz9Rd1p26ZdWGDKc1feIveSS+zHh6FeAmtHl0555mosApia0PHc3+vcnbxCtbyytHwVevkD+Y+S/HySb01SPgjV7XgFepy78iH35QPuvzBJ+VyY8jXo5bld+QeN8o955R/tvPLleM/c2Of1lw1g/E1xvGdqkp0LYCZhNAkBAgQIECBAgAABAgQIECBA4HwBAYzTQYAAAQIECBAgQIAAAQIECBDoLCCA6QxsegIECBAgQIAAAQIECBAgQICAAMYZIECAAAECBAgQIECAAAECBAh0FhDAdAY2PQECBAgQIECAAAECBAgQIEBAAOMMECBAgAABAgQIECBAgAABAgQ6CwhgOgObngABAgQIECBAgAABAgQIECAggHEGCBAgQIAAAQIECBAgQIAAAQKdBQQwnYFNT4AAAQIECBAgQIAAAQIECBAQwDgDBAgQIECAAAECBAgQIECAAIHOAgKYzsCmJ0CAAAECBAgQIECAAAECBAgIYJwBAgQIECBAgAABAgQIECBAgEBnAQFMZ2DTEyBAgAABAgQIECBAgAABAgQEMM4AAQIECBAgQIAAAQIECBAgQKCzgACmM7DpCRAgQIAAAQIECBAgQIAAAQICGGeAAAECBAgQIECAAAECBAgQINBZQADTGdj0BAgQIECAAAECBAgQIECAAAEBjDNAgAABAgQIECBAgAABAgQIEOgsIIDpDGx6AgQIECBAgAABAgQIECBAgIAAxhkgQIAAAQIECBAgQIAAAQIECHQWEMB0BjY9AQIECBAgQIAAAQIECBAgQEAA4wwQIECAAAECBAgQIECAAAECBDoLCGA6A+9s+rcM+7l+Z/uyHQIECBAgQIAAAQIECKxd4MpQoL/j196pc+rTuI02bqGy3xrAXLly8nO/UBWWJUCAAAECBAgQIECAwJEJXH/92/4d3N/xG+29xm20cQuVffXKlStXrl69utDyliVAgAABAgQIECBAgMBxClx33XW5/m9SmOuOU2D7uxbAbL+Hc+5AADOntrUIECBAgAABAgQIECAwCAhgtn8UBDDb7+GcOxDAzKltLQIECBAgQIAAAQIECAhgdnMGBDC7aeUsGxHAzMJsEQIECBAgQIAAAQIECLy9gFfAbP9ECGC238M5dyCAmVPbWgQIECBAgAABAgQIEBgEBDDbPwoCmO33cM4dCGDm1LYWAQIECBAgQIAAAQIEBDC7OQMCmN20cpaNCGBmYbYIAQIECBAgQIAAAQIE3l7AK2C2fyIEMNvv4Zw7EMDMqW0tAgQIECBAgAABAgQIDAICmO0fBQHM9ns45w4EMHNqW4sAAQIECBAgQIAAAQICmN2cAQHMblo5y0YEMLMwW4QAAQIECBAgQIAAAQJvL+AVMNs/EQKY7fdwzh0IYObUthYBAgQIECBAgAABAgQGAQHM9o+CAGb7PZxzBwKYObWtRYAAAQIECBAgQIAAAQHMbs6AAGY3rZxlIwKYWZgtQoAAAQIECBAgQIAAgbcX8AqY7Z8IAUx7Dz8uyV2T3DHJ+yW5ZZLrkrwiyfOSPC7JT16wTOnBfZPcL8kdklxJ8pIkT0nyqCSvrZT44UkekuQTk9x8WPeZw9jfaN/e280ggJkY1HQECBAgsC2B2z30aRcW/NJHlKcEbgQIECBAYHoBAcz0pnPPKIBpF/+RJJ9/aprXJLlRknc+9b89NckXJnnDNcvdMEm57+7D/17uvz7JTYb/fnGSOyX503PKvFeSxw/rlUteleRmw7Vlni9K8qT2Lb5tBgHMhJimIkCAAIHtCQhgttczFRMgQGAvAgKY7XdSANPew69MUoKU/5Lk9069YuW2SR6U5OuGJf5Fkm++ZrmHJ3lYkqtJHjiEKSWEuXOSJyS5dZJnDf99baXl1TLPH14x8+QkX5Pkj5PcKsl3JLnHMG95hcyL2rf51hkEMBNBmoYAAQIEtinQGsBcNN6rZ7Z5JlRNgACBuQQEMHNJ91tHANPP9mTmEqT80yS/n+T9Ty1X3qr00iQ3TvLgJN92TSnlLU3PTlJ6VF7P/DPX3F9eOfO5SX59ePvTG0/dXwKh5yYp4cuPJrnnRNsUwEwEaRoCBAgQ2KaAAGabfVM1AQIE9iAggNl+FwUw/Xv41cMrUv56CFtOViyvnHlMklcPr1p53RmlPCPJJyd5YpLydqOTW3mb0Z8Nr365z/BqmWuH3zvJDw2vgrlFkvLWqNabAKZV0HgCBAgQ2LSAAGbT7VM8AQIENi0ggNl0+95avACmfw9PPiPmhcOH7J6sWF6Z8nlJyqf53e2cMsqH6z5yCFve6/9v706gbdvK+sD/h8BTxF5ArAKDRk0UCZSoMZZB7GKUgEoEEgQVSodYlgq2DCojmoZEwYBi1IqiQAWDdFEjirElJkYRRVFEJDUEsYJ9AwiETmtMax08HM+5c++z1pp7zrV+e4w33rtvrzXnN3/f2vee/b+rObdNOSPm2dOvy5k05Ya/F18ldCkhTXl9SpLnLLBUAcwCiIYgQIAAgXEFBDDj9k7lBAgQGF1AADN6BwUwa3XwnacnIpWzXD5/muShSf7NuQl/JckHJ/m6JI+4opBPPnfpUXnC0R9M250FM+XmvLe7wSLK+yWguewSp+usXQBzHTX7ECBAgMBmBAQwm2mlhRAgQGA4AQHMcC37SwU7A2a5Hr7/dBPeiyO+Psk/TfK1F974wyTvPt2o9/FXlHGX6R4v5e07J3nRtN1jkzw8yS8k+dAbLKG8X+4DU+4vU0KYuS8BzFxB+xMgQIDA0AICmKHbp3gCBAgMLSCAGbp9f168AGa5Ht4xyc9Mw73H9Gjo8kSjr5nu9fLHF6Yqj4kuj6v+vCRPuKKMD0hSHkVdXh+V5Ken//62ab+fSvLRN1hCeb/sV7Y/OxPnRisuT2O60eumm266KW94Q22z5VCNRIAAAQIEehIQwPTUDbUQIEBgXwICmPH7LYBZp4c3S1LCk3Jp0Wcnedn0JKNfPTedAGYde6MSIECAAIHVBAQwq9EamAABAgQqAgKY8Q8RAcz6PXxckocl+fnpcdF/Nk3pEqT17c1AgAABAgQWFRDALMppMAIECBA4QkAAcwRWp5sKYNZvTLk0qZwBU14fNgUx5b/L/VzudM2b8Jb7uTwmiZvwrt8/MxAgQIAAgbcKCGAcDAQIECBwKgEBzKnkl5tXALOc5VUjlfu8lMuNyuv+SZ4+/Xf5932nx0nf64qdz4KW8jjp84+hLo+VLo+vLq/yuOnfv2R/j6Fev7dmIECAAIGdCQhgdtZwyyVAgEBHAgKYjppxzVIEMNeEO2K3D0zya9P29zz3WOnyWOpvTfLq6VHS5WlJF18/kuQTkjw1yQPOvfkuSX4vyU1JHpjkuy7Z9zOTPCVJuWNuCWNec0TNV23qKUgLIBqCAAECBMYVEMCM2zuVEyBAYHQBAczoHfQUpLkdvHmSN1cG+fYknzttd9skfzRtX/775UlumeRLk5R7xZx/3S3J86cnVZ0Pbs62eVaS+yR5QZKPSPKWczuXup43PaL6GUnuN3eh0/4CmIUgDUOAAAECYwoIYMbsm6oJECCwBQEBzPhddAbMvB7edXrEdDmT5ceSvHIa7u2S3CVJuYTo7MyVxyb5sgvTPSrJI6ezVL4wyZOnoObu09krd0jyk0k+5pIyy/1jSvhSzoJ52nSj39+ezqb5hulyp3L2S6nxJfOW+da9BTALQRqGAAECBMYUEMCM2TdVEyBAYAsCApjxuyiAmdfDEm78wrkhymVEr01SLhEqwcjZ6zuSlEuOLp4tU85UKWey3HvasNwr5k1JbjX9+qVT+FKClcteJdx5UpJyn5nydKVXJXm3c2OVR2B/97wlvs3eApgFMQ1FgAABAuMJCGDG65mKCRAgsBUBAcz4nRTAzOthuXzo05N83PSI6dsleY8kJYj5jSQ/neSJ07+vmqn04MFJHpLkQ6YwpTw16ZnTk45KoHOjVwmBvnIKam493ZD3uUkeneSF85b3l/YWwCwMajgCBAgQaCuwZoBSVvLyry1XDV/9utH8tX3bSpmNAAECBHoTEMD01pHj6xHAHG+25z0EMHvuvrUTIEBgAIFawFJbQi0EqY0/Z//avrXavU+AAAEC2xYQwIzfXwHM+D1suQIBTEttcxEgQIDA0QK1gKQ2YC0EqY0/Z//avrXavU+AAAEC2xYQwIzfXwHM+D1suQIBTEttcxEgQIDA0QK1gKQ2YC0EqY0/Z//avrXavU+AAAEC2xYQwIzfXwHM+D1suQIBTEttcxEgQIDA0QK1gKQ2YC0EqY0/Z//avrXavU+AAAEC2xYQwIzfXwHM+D1suQIBTEttcxEgQIDA0QK1gKQ2YC0EqY0/Z//avrXavU+AAAEC2xYQwIzfXwHM+D1suQIBTEttcxEgQIDA0QK1gKQ2YC0EqY0/Z//avrXavU+AAAEC2xYQwIzfXwHM+D1suQIBTEttcxEgQIDA0QK1gKQ2YC0EqY0/Z//avrXavU+AAAEC2xYQwIzfXwHM+D1suQIBTEttcxEgQIDA0QK1gKQ2YC0EqY0/Z//avrXavU+AAAEC2xYQwIzfXwHM+D1suQIBTEttcxEgQIDA0QK1gKQ2YC0EqY0/Z//avrXavU+AAAEC2xYQwIzfXwHM+D1suQIBTEttcxEgQIDA0QK1gKQ2YC0EqY0/Z//avrXavU+AAAEC2xYQwIzfXwHM+D1suQIBTEttcxEgQIDA0QK1gKQ2YC0EqY0/Z//avrXavU+AAAEC2xYQwIzfXwHM+D1suQIBTEttcxEgQIDA0QK1gKQ2YC0EqY0/Z//avrXavU+AAAEC2xYQwIzfXwHM+D1suQIBTEttcxEgQIDA0QK1gKQ2YC0EqY0/Z//avrXavU+AAAEC2xYQwIzfXwHM+D1suQIBTEttcxEgQIDA0QK1gKQ2YC0EqY0/Z//avrXavU+AAAEC2xYQwIzfXwHM+D1suQIBTEttcxEgQIDA0QK1gKQ2YC0EmTv+jeavzV2r3fsECBAgsG0BAcz4/RXAjN/DlisQwLTUNhcBAgQIHC0wNyCphSBzxxfAHN1SOxAgQIDAJCCAGf9QEMCM38OWKxDAtNQ2FwECBAj8JYE1A5AymQDGQUeAAAECvQoIYHrtzOF1CWAOt7JlIoBxFBAgQIDASQUEMCflNzkBAgQInFBAAHNC/IWmFsAsBLmTYQQwO2m0ZRIgQKBXAQFMr51RFwECBAisLSCAWVt4/fEFMOsbb2kGAcyWumktBAgQGFBAADNg05RMgAABAosICGAWYTzpIAKYk/IPN7kAZriWKZgAAQLbElg7gDmlVu3+M7XaajZzx6/N730CBAgQWFdAALOub4vRBTAtlLczhwBmO720EgIECHQpUAsRuix6oaLmBiQ1u7njL7RMwxAgQIDANQUEMNeE62g3AUxHzRigFAHMAE1SIgECBEYWqIUII6+tVvvcgKRmN3f8Wv3eJ0CAAIF1BQQw6/q2GF0A00J5O3MIYLbTSyshQIBAlwK1EKHLohcqqhaQzLWpjb/QMgxDgAABAisJCGBWgm04rACmIfYGphLAbKCJlkCAAIGeBeaGDD2vrVZbLSCZa1Mbv1af9wkQIEDgtAICmNP6LzG7AGYJxf2MIYDZT6+tlAABAicRmBsynKTohSatBSRzbWrjL7QMwxAgQIDASgICmJVgGw4rgGmIvYGpBDAbaKIlECBA4JQCc0OEU9a+9ty1gGSuXW38tddnfAIECBCYJyCAmefXw94CmB66ME4NAphxeqVSAgQIdCkwN0ToclELFVULSOba1cZfaBmGIUCAAIGVBAQwK8E2HFYA0xB7A1MJYDbQREsgQIDA2gJzg4K16+t1/FpAMte1Nn6vLuoiQIAAgf9fQAAz/pEggBm/hy1XIIBpqW0uAgQIDCowNygYdNmzy64FJHNda+PPXoABCBAgQGBVAQHMqrxNBhfANGHezCQCmM200kIIECCwnsDcoGC9yvoeuRaQzHWtjd+3juoIECBAQAAz/jEggBm/hy1XIIBpqW0uAgQIDCowNygYdNmzy64FJHNda+PPXoABCBAgQGBVAQHMqrxNBhfANGHezCQCmM200kIIECCwnsDcoGC9yvoeuRaQzHWtjd+3juoIECBAQAAz/jEggBm/hy1XIIBpqW0uAgQIDCowNygYdNmzy64FJGu71uafvUADECBAgMAsAQHMLL4udhbAdNGGYYoQwAzTKoUSIEDgdAJrBwWnW9m6M9cCkLVda/Ovu3qjEyBAgEBNQABTE+r/fQFM/z3qqUIBTE/dUAsBAgQ6FVg7KOh02bPLqgUga7vW5p+9QAMQIECAwCwBAcwsvi52FsB00YZhihDADNMqhRIgQOB0AmsHBadb2boz1wKQtV1r86+7eqMTIECAQE1AAFMT6v99AUz/PeqpQgFMT91QCwECBDoVWDso6HTZs8uqBSBru9bmn71AAxAgQIDALAEBzCy+LnYWwHTRhmGKEMAM0yqFEiBA4HQCawcFp1vZujPXApC1XWvzr7t6oxMgQIBATUAAUxPq/30BTP896qlCAUxP3VALAQIEVhKofdGvfVGv7b9S2cMPe2rX2vzDA1sAAQIEBhcQwAzewCQCmPF72HIFApiW2uYiQIDAiQRqAUrti3pt/xMtq/tpT+1am797QAUSIEBg4wICmPEbLIAZv4ctVyCAaaltLgIECJxIoBag1L6o1/Y/0bK6n/bUrrX5uwdUIAECBDYuIIAZv8ECmPF72HIFApiW2uYiQIDAiQRqAUrti3pt/xMtq/tpT+1am797QAUSIEBg4wICmPEbLIAZv4ctVyCAaaltLgIECKwkMDcgqX1Rnzv+SsvufthTu9bm7x5QgQQIENi4gABm/AYLYMbvYcsVCGBaapuLAAECKwnMDUhqX9Tnjr/Ssrsf9tSutfm7B1QgAQIENi4ggBm/wQKY8XvYcgUCmJba5iJAgMBKAnMDktoX9bnjr7Ts7oc9tWtt/u4BFUiAAIGNCwhgxm+wAGb8HrZcgQCmpba5CBAgcE2BtQOQ2hf1tee/Jkv3u53atTZ/94AKJECAwMYFBDDjN1gAM34PW65AANNS21wECBC4psDaAUjti/ra81+TpfvdTu1am797QAUSIEBg4wICmPEbLIAZv4ctVyCAaaltLgIECFxTYO0ApPZFfe35r8nS/W6ndq3N3z2gAgkQILBxAQHM+A0WwIzfw5YrEMC01DYXAQIErimwdgBS+6K+9vzXZLFbRaDWV4AECBAgcFoBAcxp/ZeYXQCzhOJ+xhDA7KfXVkqAQMcCpw44al/UT11fx63rurRaX7suXnEECBDYgYAAZvwmC2DG72HLFQhgWmqbiwABAlcInDrgqH1RP3V9DpzrCczta23/61VlLwIECBA4ExDAjH8sCGDG72HLFQhgWmqbiwABAp0GMBqzTYFagFIL1mr7b1PNqggQINBOQADTznqtmQQwa8luc1wBzDb7alUECAwmUPsiPNhylNuJQC1AqR13tf07WaYyCBAgMKyAAGbY1r21cAHM+D1suQIBTEttcxEgQOAKgdoXYXAETiEggDmFujkJENiTgABm/G4LYMbvYcsVCGBaapuLAAECAhjHwEACApiBmqVUAgSGFBDADNm2tylaADN+D1uuQADTUttcBAgQEMA4BgYSEMAM1CylEiAwpIAAZsi2CWDGb9vJViCAORm9iQkQIPAXAi5BcjT0KCCA6bEraiJAYEsCApjxu+kMmPF72HIFApiW2uYiQIDAFQICGIdGjwICmB67oiYCBLYkIIAZv5sCmPF72HIFApiW2uYiQICAAMYxMJCAAGagZimVAIEhBQQwQ7btbYoWwIzfw5YrEMC01DYXAQIEBDCOgYEEBDADNUupBAgMKSCAGbJtApjx23ayFQhgTkZvYgIECPyFgEuQHA09CghgeuyKmggQ2JKAAGb8bjoDZvwetlyBAKaltrkIECBwhYAAxqHRo4AApseuqIkAgS0JCGDG76YAZvwetlyBAKaltrkIECAggHEMDCQggBmoWUolQGBIAQHMkG17m6IFMOP3sOUKBDAttc1FgAABAYxjYCABAcxAzVIqAQJDCghghmybAGb8tp1sBQKYk9GbmACBPQm4xGhP3d7OWgUw2+mllRAg0KeAAKbPvhxTlTNgjtGyrQDGMUCAAIEGAgKYBsimWFxAALM4qQEJECDwNgICmPEPCAHM+D1suQIBTEttcxEgsFsBAcxuWz/0wgUwQ7dP8QQIDCAggBmgSZUSBTDj97DlCgQwLbXNRYDAbgUEMLtt/dALF8AM3T7FEyAwgIAAZoAmCWDGb1JHKxDAdNQMpRAgsF0BAcx2e7vllQlgttxdayNAoAcBAUwPXZhXgzNg5vntbW8BzN46br0ECJxEQABzEnaTzhQQwMwEtDsBAgQqAgKY8Q8RAcz4PWy5AgFMS21zESCwWwEBzG5bP/TCBTBDt0/xBAgMICCAGaBJlRIFMPN7eIck90nycUnukuS9k7wpyW8k+dEk35jk128wTenBg5M8JMmdktyU5GVJnpnkMUleWynxrkm+Isk9ktw6ye8lee607wvnL+9tRhDALAxqOAIECFwmIIBxXIwoIIAZsWtqJkBgJAEBzEjdurxWAcy8HpbwpQQt5x1fneSWSW4xDf36JJ+T5OmXTHXzJM9Kcu/pvRLcvDHJraZfvzTJ3ZP8zhVlPiDJk87N9aok7zptW8b5rCRPm7dEAcyCfoYiQIDAQQICmIOYbNSZgACms4YohwCBzQkIYMZvqQBmXg/vOJ3d8h+TPHk64+X3k5Rg5aOSfFOSvzGdEXO3JL98YbpHJXlkkjck+aIpTCkhzMckeUqS2yf5yenXFystZ8u8YDpjpoQ7D0vyW9MZOOWsm/tO45YzZF4yb5lv3dsZMAtBGoYAAQI3EhDAOD5GFBDAjNg1NRMgMJKAAGakbl1eqwBmXg/L2Sbvm+QXrxjmvabQ5TZJnjhdZnS26W2TvHw6W+bLk/yrC2N8eJLnTWfX3DPJD154v5w5Uy59KnOXbd987v0SAD0/SQlfnpHkfvOWKYBZyM8wBAgQOEhAAHMQk406ExDAdNYQ5RAgsDkBAcz4LRXArN/DconQZyf5pekeMWczfkGSb0lSLlkq94153SWllHvIfHySpyYplxudvUrw87vT2S8Pms6Wubj7A5P82+ksmBIAvWaBpToDZgFEQxAgQKAmIICpCXm/RwEBTI9dURMBAlsSEMCM300BzPo9/PokX5bkxdNNds9mLGemfEaSH0jy964oo9xc99FT2FLOpjl7lTNinj39opxJU268e/FVQpcS0pTXpyR5zgJLFcAsgGgIAgQI1AQEMDUh7/coIIDpsStqIkBgSwICmPG7KYBZv4flUqAPm27Ce/9z0/1Kkg9O8nVJHnFFGZ987tKj8oSjP5i2Owtmys15b3eDJZT3S0Bz2SVO11m5AOY6avYhQIDAkQICmCPBbN6FgACmizYoggCBDQsIYMZvrgBm3R5+WpLvmaYoYcoPnZvuD5O8e5IvSfL4K8ooj7U+u7/MnZO8aNrusUkenuQXknzoDZZQ3i/3gSn3lykhzNyXAGauoP0JECBwgIAA5gAkm3QnIIDpriUKIkBgYwICmPEbKoBZr4fvk+TnkpRLgb4vSQljzr/KY6LLo6o/L8kTrijjA5KUR1GXV3mq0k9P//1t034/leSjb7CE8n7Zr2z/+QcstTyN6Uavm2666U2E5JIAACAASURBVKa84Q21zQ6YySYECBAgcKWAAMbBMaKAAGbErqmZAIGRBAQwI3Xr8loFMOv08N2S/KfpEdS/Pj2lqJzxcv4lgFnH3qgECBAYXkAAM3wLd7kAAcwu227RBAg0FBDANMReaSoBzPKw75TkR5J8ZJJXJvnbSUoIc/HlEqTl7Y1IgACBTQgIYDbRxt0tQgCzu5ZbMAECjQUEMI3BV5hOALMs6jtOTxu6+/Rkoo9J8qtXTFHu53Kna96Et9zP5TFJ3IR32f4ZjQABAl0ICGC6aIMijhQQwBwJZnMCBAgcKSCAORKsw80FMMs15R2mR0p/XJI/SvKxSV54g+GfnuS+0+Ok73XFdmdBS3mc9PnHUJfHSpfHV5dXucfM71+yv8dQL9dbIxEgQKCpgACmKbfJFhKYG8Dc6LifO/ZCSzQMAQIETioggDkp/yKTC2AWYczbTzfa/aQkr07yiUl+tjL0Q5N867R9eZT06y/ZvlzK9AlJnprkAefef5fpDJubkjwwyXddsu9nJnlKknLH3BLGvGaBpXoK0gKIhiBAgEBNQABTE/J+jwJzQxIBTI9dVRMBAj0JCGB66sb1ahHAXM/t/F7lSUbPTHLvJK9NUkKY8vSh2uu2SV6e5JZJvjTJ4y7scLckz09SenTPJD944f1nJblPkhck+Ygkbzn3/s2TPG96RPUzktyvVsyB7wtgDoSyGQECBOYICGDm6Nn3VAICmFPJm5cAgb0ICGDG77QAZl4PbzadnVIuJSpnsJSg5CeOGPJRSR45naXyhUmenOTNSco9ZMrZK3dI8pNJyr1kLr7K/WNK+FLOgnlakocl+e0k5Wyab0hy/2ncuyZ5yRE13WhTAcxCkIYhQIDAjQQEMI6PEQUEMCN2Tc0ECIwkIIAZqVuX1yqAmdfDEpSUx02XV7nU548rw5Vw5PyrnKlSzmQpZ8+UV3k09ZuS3Gr69Uun8KUEK5e9ymVJT0pSzsL5sySvSlIegX021mcn+e55S3ybvQUwC2IaigABAlcJCGAcGyMKCGBG7JqaCRAYSUAAM1K3Lq9VADOvh/c48oyXy7zL/3twkock+ZApTHnZdFlTedJRuazpRq9yhstXTkHNracb8j43yaMrNwG+zsoFMNdRsw8BArsTqAUotS+qtf13B2rBQwjUjuvaItwDpibkfQIE9i4ggBn/CBDAjN/DlisQwLTUNhcBAsMK1AKU2hfV2v7Dwih80wK147q2eAFMTcj7BAjsXUAAM/4RIIAZv4ctVyCAaaltLgIEuhaYE5LUvqjOGbtrNMXtWmDOcV/bd9ewFk+AwG4EBDDjt1oAM34PW65AANNS21wECHQtMCckqX2ZnDN212iKI3BNgdpn5prD2o0AAQJDCQhghmrXpcUKYMbvYcsVCGBaapuLAIGuBeaEJLUvk3PG7hpNcQSuKVD7zFxzWLsRIEBgKAEBzFDtEsCM366Tr0AAc/IWKIAAgV4E5oQktS+Tc8buxUcdBJYUqH1mlpzLWAQIEOhVQADTa2cOr8sZMIdb2TIRwDgKCBDYjcCaIUjty+Sac++mgRa6KYHaZ2ZTi7UYAgQIXCEggBn/0BDAjN/DlisQwLTUNhcBAicVWDMEqX2ZXHPuk6KanMA1BWqfmWsOazcCBAgMJSCAGapdlxYrgBm/hy1XIIBpqW0uAgROKrBmCFL7Mrnm3CdFNTmBawrUPjPXHNZuBAgQGEpAADNUuwQw47fr5CsQwJy8BQogQKCVwJohSO3L5Jpzt/IzD4ElBWqfmSXnMhYBAgR6FRDA9NqZw+tyBszhVrZ0DxjHAAECOxJYMwSpfZlcc+4dtdBSNyRQ+8xsaKmWQoAAgSsFBDDjHxwCmPF72HIFzoBpqW0uAgROKrBmCFL7Mrnm3CdFNTmBawrUPjO1YWufqbnj1+b3PgECBJYQEMAsoXjaMQQwp/UfbXYBzGgdUy8BAtcWqH1hu/bASWpf9tace07d9iVwKoHaZ6ZWV+0zNXf82vzeJ0CAwBICApglFE87hgDmtP6jzS6AGa1j6iVA4NoCtS9s1x5YADOHzr4ELhWoBSi1z3Ntf+wECBDoQUAA00MX5tUggJnnt7e9BTB767j1EtixQO0L2xya2pe9NeeeU7d9CfQqMPczVdu/13WriwCBfQkIYMbvtwBm/B62XIEApqW2uQgQOKmAEOSk/CYncJRALUCpfZ5r+x9VjI0JECCwkoAAZiXYhsMKYBpib2AqAcwGmmgJBAgcJlD7wnbYKLYiQKCFQC1AqX2ea/u3WIM5CBAgUBMQwNSE+n9fANN/j3qqUADTUzfUQoDAqgK1L2yrTm5wAgSOEqgFKLXPc23/o4qxMQECBFYSEMCsBNtwWAFMQ+wNTCWA2UATLYEAgcMEal/YDhvFVgQItBCoBSi1z3Nt/xZrMAcBAgRqAgKYmlD/7wtg+u9RTxUKYHrqhloIEFhVoPaFbdXJDU6AwFECtQCl9nmu7X9UMTYmQIDASgICmJVgGw4rgGmIvYGpBDAbaKIlECBwmEDtC9tho9iKAIEWArUApfZ5ru3fYg3mIECAQE1AAFMT6v99AUz/PeqpQgFMT91QCwECqwrUvrCtOrnBCRA4SqAWoNQ+z7X9jyrGxgQIEFhJQACzEmzDYQUwDbE3MJUAZgNNtAQCBA4TqH1hO2wUWxEg0EKgFqDUPs+1/VuswRwECBCoCQhgakL9vy+A6b9HPVUogOmpG2ohQGBVgdoXtlUnNzgBAkcJ1AKU2ue5tv9RxdiYAAECKwkIYFaCbTisAKYh9gamEsBsoImWQIDAYQK1L2yHjWIrAgRaCNQClNrnubZ/izWYgwABAjUBAUxNqP/3BTD996inCgUwPXVDLQQIrCpQ+8K26uQGJ0DgKIFagFL7PNf2P6oYGxMgQGAlAQHMSrANhxXANMTewFQCmA000RIIEDhMoPaF7bBRbEWAQAuBWoBS+zzX9m+xBnMQIECgJiCAqQn1/74Apv8e9VShAKanbqiFAIFVBWpf2Fad3OAECBwlUAtQap/n2v5HFWNjAgQIrCQggFkJtuGwApiG2BuYSgCzgSZaAgEChwnUvrAdNoqtCBBoIVALUGqf59r+LdZgDgIECNQEBDA1of7fF8D036OeKhTA9NQNtRAgsKpA7QvbqpMbnACBowRqAUrt81zb/6hibEyAAIGVBAQwK8E2HFYA0xB7A1MJYDbQREsgQOAwgdoXtsNGsRUBAi0EagFK7fNc27/FGsxBgACBmoAApibU//sCmP571FOFApieuqEWAgRWFah9YVt1coMTIHCUQC1AqX2ea/sfVYyNCRAgsJKAAGYl2IbDCmAaYm9gKgHMBppoCQQIHCZQ+8J22Ci2IkCghUAtQKl9nmv7t1iDOQgQIFATEMDUhPp/XwDTf496qlAA01M31EKAwKoCtS9sq05ucAIEjhKoBSi1z3Nt/6OKsTEBAgRWEhDArATbcFgBTEPsDUwlgNlAEy2BAIHDBGpf2A4bxVYECLQQqAUotc9zbf8WazAHAQIEagICmJpQ/+8LYPrvUU8VCmB66oZaCBBYVaD2hW3VyQ1OgMBRArUApfZ5ru1/VDE2JkCAwEoCApiVYBsOK4BpiL2BqQQwG2iiJRAgcJhA7QvbYaPYigCBFgK1AKX2ea7t32IN5iBAgEBNQABTE+r/fQFM/z3qqUIBTE/dUAsBAqsK1L6wrTq5wQkQOEqgFqDUPs+1/Y8qxsYECBBYSUAAsxJsw2EFMA2xNzCVAGYDTbQEAgQOE6h9YTtsFFsRINBCoBag1D7Ptf1brMEcBAgQqAkIYGpC/b8vgOm/Rz1VKIDpqRtqIUBgVYHaF7ZVJzc4AQJHCdQClNrnubb/UcXYmAABAisJCGBWgm04rACmIfYGphLAbKCJlkCAwGECtS9sh41iKwIEWgjUApTa57m2f4s1mIMAAQI1AQFMTaj/9wUw/feopwoFMD11Qy0ECKwqUPvCturkBidA4CiBWoBS+zzX9j+qGBsTIEBgJQEBzEqwDYcVwDTE3sBUApgNNNESCBA4TKD2he2wUWxFgEALgVqAUvs81/ZvsQZzECBAoCYggKkJ9f++AKb/HvVUoQCmp26ohQCBVQVqX9hWndzgBAgcJVALUGqf59r+RxVjYwIECKwkIIBZCbbhsAKYhtgbmEoAs4EmWgIBAocJ1L6wHTaKrQgQaCFQC1Bqn+fa/i3WYA4CBAjUBAQwNaH+3xfA9N+jnioUwPTUDbUQILCqQO0L26qTG5wAgaMEagFK7fNc2/+oYmxMgACBlQQEMCvBNhxWANMQewNTCWA20ERLIEDgMIHaF7bDRrEVAQIjCAhgRuiSGgkQEMCMfwwIYMbvYcsVCGBaapuLAIGTCghgTspvcgJNBQQwTblNRoDANQUEMNeE62g3AUxHzRigFAHMAE1SIgECywgIYJZxNAqBEQQEMCN0SY0ECAhgxj8GBDDj97DlCgQwLbXNRYDASQUEMCflNzmBrgQENF21QzEEdisggBm/9QKY8XvYcgUCmJba5iJAYFUBAcuqvAYnsCkBAcym2mkxBIYVEMAM27q3Fi6AGb+HLVcggGmpbS4CBFYVEMCsymtwApsSEMBsqp0WQ2BYAQHMsK0TwIzfupOsQABzEnaTEiCwhoAAZg1VYxLYp4CAZp99t2oCrQUEMK3Fl5/PGTDLm255RAHMlrtrbQR2JiCA2VnDLZfAigICmBVxDU2AwFsFBDDjHwwCmPF72HIFApiW2uYiQGBVAQHMqrwGJ7ArAQHMrtptsQROJiCAORn9YhMLYBaj3MVAAphdtNkiCexDQACzjz5bJYEWAgKYFsrmIEBAADP+MSCAGb+HLVcggGmpbS4CBFYVEMCsymtwArsSEMDsqt0WS+BkAgKYk9EvNrEAZjHKXQwkgNlFmy2SwD4EBDD76LNVEmghIIBpoWwOAgQEMOMfAwKY8XvYcgUCmJba5iJAYFUBAcyqvAYnsCsBAcyu2m2xBE4mIIA5Gf1iEwtgFqPcxUACmF202SIJ7ENAALOPPlslgRYCApgWyuYgQEAAM/4xIIAZv4ctVyCAaaltLgIEVhUQwKzKa3ACuxIQwOyq3RZL4GQCApiT0S82sQBmMcpdDCSA2UWbLZLAPgQEMPvos1USaCEggGmhbA4CBAQw4x8DApjxe9hyBQKYltrmIkBgVQEBzKq8BiewKwEBzK7abbEETiYggDkZ/WITC2AWo9zFQAKYXbTZIglsQ0DAso0+WgWBEQQEMCN0SY0ExhcQwIzfQwHM+D1suQIBTEttcxEgMEtAADOLz84ECBwhIIA5AsumBAhcW0AAc226bnYUwHTTiiEKEcAM0SZFEiBQBAQwjgMCBFoJCGBaSZuHwL4FBDDj918AM34PW65AANNS21wECMwSEMDM4rMzAQJHCAhgjsCyKQEC1xYQwFybrpsdBTDdtGKIQgQwQ7RJkQQIFAEBjOOAAIFWAgKYVtLmIbBvAQHM+P0XwIzfw5YrEMC01DYXAQKzBAQws/jsTIDAEQICmCOwbEqAwLUFBDDXputmRwFMN60YohABzBBtUiQBAkVAAOM4IECglYAAppW0eQjsW0AAM37/BTDj97DlCgQwLbXNRYDALAEBzCw+OxMgcISAAOYILJsSIHBtAQHMtem62VEA000rhihEADNEmxRJgEAREMA4DggQaCUggGklbR4C+xYQwIzffwHM+D1suQIBTEttcxEgMEtAADOLz84ECBwhIIA5AsumBAhcW0AAc226bnYUwHTTiiEKEcAM0SZFEtiHgIBlH322SgJbEBDQbKGL1kDg9AICmNP3YG4FApi5gsk7J7lHkg87989tp2E/NslzK1OUHjw4yUOS3CnJTUleluSZSR6T5LWV/e+a5CumGm6d5PemOcu+L5y/vLcZQQCzMKjhCBC4voAA5vp29iRAoK2AAKatt9kIbFVAADN+ZwUw83v4aUm+54phagHMzZM8K8m9p/3flOSNSW41/fqlSe6e5HeuGP8BSZ6U5BbT+69K8q7Tf5dxPivJ0+Yv8a0jCGAWxDQUAQLzBAQw8/zsTYBAOwEBTDtrMxHYsoAAZvzuCmDm97AEMN+W5OeT/FySFyf5d9OwtQDmUUkemeQNSb5oClNKCPMxSZ6S5PZJfnL69cVKy9kyL5jOmHl6kocl+a0k753kG5Pcdxq3nCHzkvnL/PMRBDALQRqGAIH5AgKY+YZGIECgjYAApo2zWQhsXUAAM36HBTDze3izJG85N8w7JXnNAQFMuUzp5UlumeTLk/yrC6V8eJLnJSk9umeSH7zwfjlz5j5JfjFJ2fbN594vZ9Y8P0kJX56R5H7zlymAWcjQMAQILCQggFkI0jAECKwuIIBZndgEBHYhIIAZv80CmOV7eGgA8wVJviXJq6ezVl53SSk/muTjkzw1Sbnc6OxVLjP63enslwdNZ8tc3P2BSf7tdBbMbc6FQnNW7AyYOXr2JUDgKAEBy1FcNiZAoGMBAUzHzVEagYEEBDADNeuKUgUwy/fw0ACmnJnyGUl+IMnfu6KMcnPdR09hy3ud26acEfPs6dflTJpy492LrxK6lJCmvD4lyXMWWKoAZgFEQxAgcJiAAOYwJ1sRINC/gACm/x6pkMAIAgKYEbp04xoFMMv38NAA5leSfHCSr0vyiCvK+ORzlx6VJxz9wbTdWTBTbs57uxssobxfAprLLnG6zsoFMNdRsw8BAtcSEMBci81OBAh0KCCA6bApSiIwoIAAZsCmXShZALN8Dw8NYP4wybsn+ZIkj7+ijLtM93gpb985yYum7R6b5OFJfiHJh95gCeX9ch+Ycn+ZEsLUXuVmwDd63XTTTTflDW+obVabxvsECBCoCwhg6ka2IEBgDAEBzBh9UiWB3gUEML13qF6fAKZudOwWhwYw5THR5fHRn5fkCVdM8gFJyqOoy+ujkvz09N/lqUtlv59K8tE3KLC8X/Yr23/+AQupJSsCmAMQbUKAwDICAphlHI1CgMDpBQQwp++BCghsQUAAM34XBTDL93DkAKam4RKkmpD3CRBYTEAAsxilgQgQOLGAAObEDTA9gY0ICGDGb6QAZvkeHhrA9HgJUk1DAFMT8j4BAosJCGAWozQQAQInFhDAnLgBpiewEQEBzPiNFMAs38NDA5hyP5c7XfMmvOV+Lo9J4ia8y/fPiAQIdCIggOmkEcogQGC2gABmNqEBCBBIIoAZ/zAQwCzfw0MDmKcnue/0OOl7XVHGWdBSHid9/jHU5bHS5fHV5VUeN/37l+zvMdTL99aIBAg0FBDANMQ2FQECJxUQ0JyU3+QEhhEQwAzTqisLFcAs38NDA5iHJvnWJK+eHiX9+ktK+ZEkn5DkqUkecO79d0nye0luSvLAJN91yb6fmeQpScqNdUsY85oFluoSpAUQDUFgKwK1gGTuF4ra+FtxtA4CBAjM/f2SIAEC+xAQwIzfZwHM8j08NIC5bZKXJ7llki9N8rgLpdwtyfOTlB7dM8kPXnj/WUnuk+QFST4iyVvOvX/zJM+bHlH9jCT3W2iZApiFIA1DYAsCtYBk7heK2vhbMLQGAgQIFIG5v19SJEBgHwICmPH7LIBZpoe3PjfMraZgpfyvT5seFX32drnx7p+e2/ZRSR45naXyhUmenOTNSe4+nb1yhyQ/meRjLimz3D+mhC/lLJinJXlYkt+ezqb5hiT3n8a9a5KXLLPMCGAWgjQMgS0I1AKSuV8oauNvwdAaCBAgIIBxDBAgcKiAAOZQqX63E8As05s/O3CY9z0XzpRdypkq5UyWe0/7vzHJm5KUEKe8XjqFLyVYuexVLkt6UpJbJCk1vCrJu50b67OTfPeBtR2ymQDmECXbENiJQC0gqQUwtf13wmiZBAgQcAaMY4AAgYMEBDAHMXW9kQBmmfZcN4Aps5cePDjJQ5J8yBSmvCzJM6cnHb22UmI5w+Urp6CmnIlTbsj73CSPTvLCZZb31lEEMAuDGo7AyAK1AEUAM3J31U6AQEuB2u+XLWsxFwEC/QoIYPrtzaGVCWAOlbJdERDAOA4IEHirgADGwUCAAIFlBAQwyzgahcDWBQQw43dYADN+D1uuQADTUttcBDoXEMB03iDlESAwjIAAZphWKZTASQUEMCflX2RyAcwijLsZRACzm1ZbKIG6gACmbmQLAgQIHCIggDlEyTYECAhgxj8GBDDj97DlCgQwLbXNRaBzAQFM5w1SHgECwwgIYIZplUIJnFRAAHNS/kUmF8AswribQQQwu2m1hRKoCwhg6ka2IECAwCECcwKYub8XH1KfbQgQ6ENAANNHH+ZUIYCZo7e/fQUw++u5FRO4UmDuD/21/dETIEBgLwICmL102joJzBMQwMzz62FvAUwPXRinBgHMOL1SKYHVBWoBSu0LRW3/1RdgAgIECHQiUPv98kZl1n4vnTN2JzzKIEBgEhDAjH8oCGDG72HLFQhgWmqbi0DnArUf+jsvX3kECBAYRuBGIUrt92IBzDBtViiBqoAApkrU/QYCmO5b1FWBApiu2qEYAqcVqP3Qf9rqzE6AAIHtCAhgttNLKyEwR0AAM0evj30FMH30YZQqBDCjdEqdBBoICGAaIJuCAAECSQQwDgMCBIqAAGb840AAM34PW65AANNS21wEOhcQwHTeIOURILAZAQHMZlppIQRmCQhgZvF1sbMApos2DFOEAGaYVimUwDICQpZlHI1CgACBOQICmDl69iWwHQEBzPi9FMCM38OWKxDAtNQ2F4EOBAQwHTRBCQQI7F5AALP7QwAAgT8XEMCMfyAIYMbvYcsVCGBaapuLQAcCApgOmqAEAgR2LyCA2f0hAICAAGYjx4AAZiONbLQMAUwjaNMQ6EVAANNLJ9RBgACBdQQ8pnodV6MSWEPAGTBrqLYdUwDT1nv02QQwo3dQ/QSOFBDAHAlmcwIECAwmIIAZrGHK3bWAAGb89gtgxu9hyxUIYFpqm4tABwICmA6aoAQCBAisKCCAWRHX0AQWFhDALAx6guEEMCdAH3hKAczAzVM6gesICGCuo2YfAgQIjCMggBmnVyolIIAZ/xgQwIzfw5YrEMC01DYXgQ4EBDAdNEEJBAgQWFFAALMirqEJLCwggFkY9ATDCWBOgD7wlAKYgZundALXERDAXEfNPgQIEBhHQAAzTq9USkAAM/4xIIAZv4ctVyCAaaltLgINBAQsDZBNQYAAgY4FBDAdN0dpBC4ICGDGPyQEMOP3sOUKBDAttc1FoIGAAKYBsikIECDQsYAApuPmKI2AAGZzx4AAZnMtXXVBAphVeQ1OoL2AAKa9uRkJECAwkoCAZqRuqXXrAs6AGb/DApjxe9hyBQKYltrmItBAQADTANkUBAgQGFhAADNw85S+OQEBzPgtFcCM38OWKxDAtNQ2F4EGAgKYBsimIECAwMACApiBm6f0zQkIYMZvqQBm/B62XIEApqW2uQg0EBDANEA2BQECBAYWEMAM3Dylb05AADN+SwUw4/ew5QoEMC21zUWggYAApgGyKQgQIDCwgABm4OYpfXMCApjxWyqAGb+HLVcggGmpbS4CDQQEMA2QTUGAAIGBBQQwAzdP6ZsTEMCM31IBzPg9bLkCAUxLbXMRWEBAwLIAoiEIECCwYwEBzI6bb+ndCQhgumvJ0QUJYI4m2/UOAphdt9/iRxQQwIzYNTUTIECgHwEBTD+9UAkBAcz4x4AAZvwetlyBAKaltrkILCAggFkA0RAECBDYsYAAZsfNt/TuBAQw3bXk6IIEMEeT7XoHAcyu22/xIwoIYEbsmpoJECDQj4AApp9eqISAAGb8Y0AAM34PW65AANNS21wEFhAQwCyAaAgCBAjsWEAAs+PmW3p3AgKY7lpydEECmKPJdr2DAGbX7bf4EQUEMCN2Tc0ECBAYR0BAM06vVDq+gABm/B4KYMbvYcsVCGBaapuLwAICApgFEA1BgAABAlcKCGAcHATaCQhg2lmvNZMAZi3ZbY4rgNlmX61qwwICmA0319IIECDQgYAApoMmKGE3AgKY8VstgBm/hy1XIIBpqW0uAgsICGAWQDQEAQIECFwpIIBxcBBoJyCAaWe91kwCmLVktzmuAGabfbWqDQsIYDbcXEsjQIBABwICmA6aoITdCAhgxm+1AGb8HrZcgQCmpba5CCwgIIBZANEQBAgQIHClgADGwUGgnYAApp31WjMJYNaS3ea4Apht9tWqBhYQsAzcPKUTIEBgAwICmA000RKGERDADNOqKwsVwIzfw5YrEMC01DYXgQMEBDAHINmEAAECBE4mIKA5Gb2JNygggBm/qQKY8XvYcgUCmJba5tqFQC1Aqf3gWtt/F4gWSYAAAQLdCtT+HOu2cIUR6FBAANNhU44sSQBzJNjONxfA7PwAsPzlBWoBSu0H19r+y1dsRAIECBAgcLhA7c+xw0eyJQECApjxjwEBzPg9bLkCAUxLbXPtQqAWoNR+cK3tvwtEiyRAgACBbgVqf451W7jCCHQoIIDpsClHliSAORJs55sLYHZ+AFj+8gK1AKX2g2tt/+UrNiIBAgQIEDhcoPbn2OEj2ZIAAQHM+MeAAGb8HrZcgQCmpba5diEgQNlFmy2SAAECuxUQwOy29Ra+goAAZgXUxkMKYBqDDz6dAGbwBiq/PwEBTH89UREBAgQILCcggFnO0kgEBDDjHwMCmPF72HIFApiW2ubahYAAZhdttkgCBAjsVkAAs9vWW/gKAgKYFVAbDymAaQw++HQCmMEbqPz+BAQw/fVERQQIECCwnEAtgKn9OVjbf7lKjUSgfwEBTP89qlUogKkJef+8gADG8UDggsDcHxxr+wMnQIAAAQIjC9QClNqfg7X9R7ZRO4FjBQQwx4r1t70Apr+e9FyRAKbn7qjtJAJzf3Cs7X+SRZmUAAECBAgsJFALUOb+OVgbf6FlGIZAFwICmC7aocl9jAAAHWtJREFUMKsIAcwsvt3tLIDZXcstuCYw9wfH2vjeJ0CAAAECIwvUApK5f47Wxh/ZTu0ELgoIYMY/JgQw4/ew5QoEMC21zTWEwNwfHIdYpCIJECBAgECnAgKYThujrFUEBDCrsDYdVADTlHv4yQQww7fQApYWEMAsLWo8AgQIECBwuIAA5nArW44vIIAZv4cCmPF72HIFApiW2uYaQkAAM0SbFEmAAAECGxUQwGy0sZZ1qYAAZvwDQwAzfg9brkAA01LbXEMICGCGaJMiCRAgQGCjAgKYjTbWsgQwGz0GBDAbbexKyxLArARr2H4FBCz99kZlBAgQIEBAAOMY2JOAM2DG77YAZvwetlyBAKaltrm6EBDAdNEGRRAgQIAAgUsFBDAOjD0JCGDG77YAZvwetlyBAKaltrm6EBDAdNEGRRAgQIAAgWsFMDf6c1x446AaTUAAM1rH/nK9Apjxe9hyBQKYltrm6kJAANNFGxRBgAABAgQWFxDALE5qwJUFBDArAzcYXgDTAHlDUwhgNtRMSzlMQABzmJOtCBAgQIDAaAICmNE6pl4BzPjHgABm/B62XIEApqW2uboQEMB00QZFECBAgACBxQUEMIuTGnBlAQHMysANhhfANEDe0BQCmA0101IOExDAHOZkKwIECBAgMJqAAGa0jqlXADP+MSCAGb+HLVcggGmpba4uBAQwXbRBEQQIECBAYHEBAczipAZcWUAAszJwg+EFMA2QNzSFAGZDzdzTUuY8AUEAs6cjxVoJECBAgMBfCAhoHA29CQhgeuvI8fUIYI432/MeApg9d3/gtQtgBm6e0gkQIECAwIkEBDAngjftlQICmPEPDgHM+D1suQIBTEttcy0m4CyWxSgNRIAAAQIEdiMggNlNq4dZqABmmFZdWagAZvwetlyBAKaltrkWExDALEZpIAIECBAgQGASENA4FFoLCGBaiy8/nwBmedMtjyiA2XJ3N7w2AcyGm2tpBAgQIEDgRAICmBPB73haAcz4zRfAjN/DlisQwLTU7miuWoCx9g8gc+ev7d8RtVIIECBAgACBQQTW/vlnEAZlNhQQwDTEXmkqAcxKsBsdVgCz0cbWllULMGo/gPS+f2393idAgAABAgQIXBSo/fxzarG5P3+dun7z/2UBAcz4R4UAZvwetlyBAKaldkdzzf0DvPf9O6JWCgECBAgQILARgVMHNHN//tpIGza1DAHM+O0UwIzfw9skeUSSeye5fZLXJnlBkm9J8r0LL08AszDoKMPN/QO8tv8oDuokQIAAAQIECBwqUAtgTv3zUa2+Q9dpu3YCAph21mvNJIBZS7bNuHdK8uNJbjtN95ok75jkZtOvH5/kSxYsRQCzIOZIQ536B4SRrNRKgAABAgQIECgCtYDj1D9f1erTxf4EBDD99eTYigQwx4r1s/3bJ3lxkvdL8qIkD0zywimAeXiSf5ak9PchSZ64UNkCmIUgRxvm1D8gjOalXgIECBAgQIBALeA49c9Xtfp0sD8BAUx/PTm2IgHMsWL9bP9FScoZLq9L8kFJXnGhtH+d5AuTvDLJHZO8aYHSBTALII44xKl/QBjRTM0ECBAgQIAAgZ4FBDA9d+fy2gQw4/XsYsUCmHF7+LwkH5HkO5J87iXLeJ9y5uN0FswnJfnhBZYqgFkAccQhBDAjdk3NBAgQIECAAIHrCQhnrue29l4CmLWF1x9fALO+8RozvFOSV0/hyn2TPPOKSX4lyQcneXSSr1qgEAHMAog9DiFg6bEraiJAgAABAgQInEagFsDUfnas7X+aVY0/qwBm/B4KYMbs4Ycn+dmp9HL50UuuWMbTktwvybOT3GuBpQpgFkA8xRC1PyRPUZM5CRAgQIAAAQIE+hSoBShzf7asjd+nyumrEsCcvgdzKxDAzBU8zf7lkdPfN039rtPZMJdV8rgkD0vy80k+bIFSuw5g/EFwdYfn2ixw7BiCAAECBAgQIECAwEECtYCm9rNtbf+DiuhwIwFMh005siQBzJFgnWz+gCTfNdVyiyRvvqKuRyV5ZJKXJvlrB9T+hso2N5X3b7rpz//V3euNb/nT7mo6pqCbbvZ2N9x89PUdY2FbAgQIECBAgAABAqcSqP1cfqq63vjGN55N7Xv8qZowc16Nmwl4ot1PGsAkeesn/0TrN+3VAmfpmB6NeZTo35h9O6ta/8btn96N27tSuf7p39gCY1fv89e2f2fevse3dV9sNo1bjLLpQKe6BKnpIk12LYGzs5je/lp72+nUAvp36g7Mm1//5vmdcm+9O6X+/Ln1b77hKUfQv1Pqz59b/+YbGmFHAgKYMZtd7ufy/Kn0ljfhHVNrX1X7Q3Dsfuuf/o0tMG71Pnvj9q5Urn/6N7bA2NX7/I3dP9U3FhDANAZfaLrzj6H+jCTPumLcFyW504KPoV6ofMOsKOAPwRVxGwytfw2QV5xC/1bEXXlovVsZeOXh9W9l4JWH17+VgVceXv9WBjb8tgQEMOP282eS/M0kT0jyeZcs4/ZJXpGk9PiTkvzwuEtV+REC/hA8AqvDTfWvw6YcUZL+HYHV2aZ611lDjixH/44E62xz/eusIUeWo39Hgtl83wICmHH7/0VJHp/ktUnKZUi/eWEp5b2yzSuT3DHJm8ZdqsqPEPCH4BFYHW6qfx025YiS9O8IrM421bvOGnJkOfp3JFhnm+tfZw05shz9OxLM5vsWEMCM2/9yk9UXJ3m/JL+U5EHTv2+Z5EuS/Ivp7JeHJHniuMtU+ZEC/hA8EqyzzfWvs4YcWY7+HQnW0eZ611EzrlGK/l0DraNd9K+jZlyjFP27Bppd9isggBm79+X+Lj+e5LbTMl6d5FZJbjb9+puSfPHYS1T9kQL+EDwSrLPN9a+zhhxZjv4dCdbR5nrXUTOuUYr+XQOto130r6NmXKMU/bsGml32KyCAGb/3JXx5RJJ7JbnDdEnSC5J8c5LvHX95VnCkgD8EjwTrbHP966whR5ajf0eCdbS53nXUjGuUon/XQOtoF/3rqBnXKEX/roFml/0KCGD223srJ0CAAAECBAgQIECAAAECBBoJCGAaQZuGAAECBAgQIECAAAECBAgQ2K+AAGa/vbdyAgQIECBAgAABAgQIECBAoJGAAKYRtGkIECBAgAABAgQIECBAgACB/QoIYPbbeysnQIAAAQIECBAgQIAAAQIEGgkIYBpBm4YAAQIECBAgQIAAAQIECBDYr4AAZr+9t3ICBAgQIECAAAECBAgQIECgkYAAphG0aQgQIECAAAECBAgQIECAAIH9Cghg9tt7KydAgAABAgQIECBAgAABAgQaCQhgGkGbhsAJBW6b5DOTfHiSOyd5ryTvnuRPkrwkyfcn+eYkrzphjaa+XOAdknxKkr+b5COS/NUkb5/k95L8bJLvnPrHr1+Bj5x692FJ7pbkryd5uyRPTvI5/Za9m8puk+QRSe6d5PZJXpvkBUm+Jcn37kZhvIW+c5J7JCmfq7N/yp915fWxSZ473pJ2VfEdktwnyccluUuS907ypiS/keRHk3xjkl/flchYi/2oJPecfq58vyTls3f2s8nPJXliku8ba0mqJdBOQADTztpMBE4lUL68P+fc5OWHnNcleddz/++VST4pyYtOVaR5LxX4kSSfcO6dNyZ5Q5Ly5ePs9d1JHpTkzQy7FPjjC5+1syIFMKdv152S/Pj05aFU85ok75jkZlNpj0/yJacvUwWXCHxaku+5QkYA0/chU8KXErSc/w7y6iS3THKLqfTXTwH10/teym6rKz933P/c6svvnaV35S+Nzl7PSvIPp2Btt1AWTuAyAQGM44LA9gXumuQzkvzn6W92fz/Jn01fND41yeOms2JemuSDk7xl+yTDrLD8LW75YfUJSf5DkhdPvSt/U/+Pknz+tJKvm/4Wf5iF7ajQ307yiiQ/n6T8zeBnJbm7M2BOfgSUv60tn6fyt7cleH5gkhdOvy8+PMk/m74gPmT629yTF6yAtxEoAcy3nftclV7+u2kLAUzfB8sdp7Nb/uP0+2A546X8XHLzJOXMim9K8jemL+7lrMFf7ns5u6zuC6Z+lZ8r/9t05mCBeJ8ptP7SSeUfT7+X7hLJoglcJSCAcWwQIFDOsChnWpRX+WJY/kD16kPgf03yMzcIxcpZFOULfTmj6dZJyt8aevUlUM6mOB9qPjPJ3xfAnLxJX5SknOFSPjsfNIVk54v610m+MEk5O7B8YSxnDnr1I3Dxc/VO0xlMpUIBTD99uqyScvbt+yb5xSvKLJdJl9ClXB5YLmUpIajXWAJPmS59L5eRlUunvQgQOCcggHE4ECDwLufu//IPkjwNyTAC5R4IPzFV+6FJfmGYyvdbqACmj94/b7o3z3ck+dxLSip/k/vy6SyYcnnmD/dRtiquEBDAbOvQeFKSz07yS9M9Yra1uu2v5oun+/j8j+nSsu2v2AoJHCEggDkCy6YENipw/h4x5Uavz9/oOre4rA85d3q23o3RYQHM6ftUvqyXe06Un4Hum6T05LLXr0yXZT46yVedvmwV3EBAALOtw+Prk3zZdJlguVeT11gCZ/eIKZcG6t9YvVNtAwEBTANkUxDoUKDcLO12ST45yaOmy1d+err+usNylXSFQLlEolwqUS6PKKdre5JV/4eKAOb0PSpPhCtPESuvcvlReRrcZa9yNuD9kjw7yb1OX7YKBDC7OQbKXwSVp1uVm/Cev9nrbgAGXGh5OEC5p1a5P8zZ/ekemuTfDLgWJRNYVUAAsyqvwQl0J/BfkpT7ilx8lXvAlEdVl8cbe40hUP7G91enR+eWL4rl8jGv/gUEMKfvUXnk9NkjUsv9KMrZMJe9yg3KHzbd6LV8GfTqV8AZMP325tjKzj/hqvwl0Q8dO4Dtmwm8/3QT3osTlvvR/dMkX9usEhMRGEhAADNQs5RKYAGB8qXjb07X5JZ7v5RXeRLBV3jSwAK6bYc4O8W3nPVyl+mxnm0rMNt1BAQw11Fbdp8HJPmuachyNuBVj3AvZwc+Mkl5QtxfW7YEoy0sIIBZGPREw5V7L5WnxZUzOsvPKyWM8epXoNygvDwooLzeY3oUdTkj92uSfEuSP+63dJUROJ2AAOZ09mYmcCOB/316Qsd1lP5Tko8/YMf3nM6a+CdJ3m36m95yOYvXPIEWvSs9K493LI8TL48Y//fzSrb3OYG1+yeAOf3hJoA5fQ+WrkAAs7Ro+/HKzyHl55fyCOry9JxyqeAfti/DjNcUKE8m+4Akj5huoPyyJPecztS95pB2I7BNAQHMNvtqVeML/B9Jvumayyg/wJSn4xz6Kk/PKfdDKL8flNPsPUnnULnLt1u7d1+e5DHT1CUs+NZ55dr7gsDa/RPAnP6QcwnS6XuwdAUCmKVF245X+lcuhf7I6dHvf3sKYdpWYbalBM5fvlmCtPKXRV4ECEwCAhiHAgECReC5ST5muqHrFyHpVuB8OFAuGytPivAaS0AAc/p+laD57GlvbsJ7+n4sUYEAZgnF04zxjkmek+Tu033oys8i5f5mXuMKlEuTyhkw5VV+v/35cZeicgLLCwhgljc1IoERBcr9EMpp+eWHoE8ZcQE7qLk8VeD/mtb51dMN7naw7M0tUQBz+paefwx1uYTvWVeU9KLpEaoeQ336ntUqEMDUhPp8/x2S/ECSj0vyR0k+NskL+yxVVUcIlHtrvXHavjzFqjzNyosAgUlAAONQIECgCPzXJH8ryTOmx65S6UvgwUm+Y7pM7Ouma6z7qlA1hwoIYA6VWne7cuPIckPyJyT5vEumun2SV0yfuU9K8sPrlmP0mQICmJmAJ9j97acb7ZbPV3kS2Seeezz8Ccox5YICH5jk16bxyn1gfnDBsQ1FYHgBAczwLbQAAlWBm9/gKR9l53KtdblvTPn9oFx+5Ea8VdKmG/zDJE9J8nZJvnG6WXLTAky2qIAAZlHOaw9Wfq97fJLXJimXIf3mhZHKe2WbVyYpp9OXJ3t49SsggOm3N5dVVs6QKL8Xlvsxlc9gCWF+aqwl7Lba2s+UBebbk3zu9LPnbaezm3YLZuEELgoIYBwTBLYvUG5s91+SfE+SF58LY2537ilI5ZHU5W9775TkT7ZPMswK75PkaUnKDzzlZrvlprteYwmUL4blNPuz13cmuVeS8hjx8/dbel2S8o9XG4Hyt+/l98P3S/JLSR40/fuWSb4kyb+YQumHJHlim5LMcqTArc9tf6skL59+XR5dfP7LfHmSzp8eObbN1xMoT8t5apL7Jnn99KScn1hvOiMvLHDX6RHT5WeSH5tC6jJF+UuiuyQpDwool7SX12OTfNnC8xuOwPACApjhW2gBBKoCvzj9oVg2fHOSVyW5Kck7n9uznCr6qedOGa0OaoMmAuVRnO87zfS7lScJlC+NJazx6kvgSdMjOWtVlUeLf01tI+8vKlAC5x9PUv6GtrzKZRDli3z5glhe5Ul0X7zojAZbUuDQJ6uU30PPwpkl5zfW9QTKzXbLWbfl9YYkf1wZpvxlkVc/AiWAOf+0zBKilbOYyl/klZ8tz17lsumHVs7A7mdVKiHQUEAA0xDbVAROJFDu7VJurFt+6PkrSd5r+pvd30tSwplyZky5CW/5QcirL4HypaH07JBXuU9M+bLv1ZeAAKavflyspoQvj5jOSrrD9EXiBUm+Ocn39l367qsTwIx5CNwjyTFnvPiu0lefy1mCnz7dOLk8YroEZO8xnc30G0l+ejprsPzbiwCBSwT8puawIECAAAECBAgQIECAAAECBAisLCCAWRnY8AQIECBAgAABAgQIECBAgAABAYxjgAABAgQIECBAgAABAgQIECCwsoAAZmVgwxMgQIAAAQIECBAgQIAAAQIEBDCOAQIECBAgQIAAAQIECBAgQIDAygICmJWBDU+AAAECBAgQIECAAAECBAgQEMA4BggQIECAAAECBAgQIECAAAECKwsIYFYGNjwBAgQIECBAgAABAgQIECBAQADjGCBAgAABAgQIECBAgAABAgQIrCwggFkZ2PAECBAgQIAAAQIECBAgQIAAAQGMY4AAAQIECBAgQIAAAQIECBAgsLKAAGZlYMMTIECAAAECBAgQIECAAAECBAQwjgECBAgQIECAAAECBAgQIECAwMoCApiVgQ1PgAABAgQIECBAgAABAgQIEBDAOAYIECBAgACBPQh8TZKvTvLkJJ+zhwVbIwECBAgQINCXgACmr36ohgABAgQIEFhHQACzjqtRCRAgQIAAgQMFBDAHQtmMAAECBAgQGFpAADN0+xRPgAABAgTGFxDAjN9DKyBAgAABAgTqAgKYupEtCBAgQIAAgRUFBDAr4hqaAAECBAgQ6EZAANNNKxRCgAABAgT2KSCA2WffrZoAAQIECJxK4PZJXpGk/AzyEUmef4NCfi3JByb5siSPTXKzJH8nyacl+bAkZax3T/L7SZ6X5JuS/PgV410VwNwxycumfa76ueiQbd4tyRcn+dQk75/k7ZP89yQ/kuTrk/w/pwI3LwECBAgQINCHgACmjz6oggABAgQI7EngJ5LcI8k3JHn4FQsvAUsJZ/40yR2SvDLJhyT55XPbvzrJ2yV5p3P/75FJ/uUlY64ZwHx4ku9P8l7TvG9KUv55x+nXr0ty/yTP3lOTrZUAAQIECBB4WwEBjCOCAAECBAgQaC3wuUm+PclvTWexlJDl4utxSR6W5MeSfML0Zjkb5quSPC3JzyQpAUx53SZJGfOfTmfJ/K3pjJjzY64VwJSzcH4xyXsmeWKSxyQpZ+6UNf3VqaYHJPmTJHdO8vLW2OYjQIAAAQIE+hAQwPTRB1UQIECAAIE9CZTLdX57ukynhCslZDn/Kme1/L9J3jvJQ6Zg4xCf/zPJP0/ypCQPvrDDWgFMmeuzk3zjFBhdVudzkvzd6RKpcpmSFwECBAgQILBDAQHMDptuyQQIECBAoAOBf5/k05N8Z5L/7UI9JZQp9075H9NlPWdnutTKvmuSX0jy36Z7x5zffo0A5pZJ/ijJTdOZPOUyqcteD0ryf09nxvz12iK8T4AAAQIECGxTQACzzb5aFQECBAgQ6F3g7yd5ZpJXTSHLG84VXEKZcgZLef++FxZSQo+HTje7/eDpJrw3v7DNay/cF6a8vUYA89FJ/nOSP0vyuzcALwFNuVnw68/dF6b3/qiPAAECBAgQWFhAALMwqOEIECBAgACBgwTKU4J+J8m7JilhTDkjprzeYbo8qfz/+yT5nnOjlUuSnnvh7JYStpSb3JZ7rpSnJN162v7izzhrBDAlHHr6Qav9i4387HUkmM0JECBAgMBWBPwQsJVOWgcBAgQIEBhP4AnT5UfPSvIZU/lnZ8b8cZLbJTl/Zky5+e79kvx6kq9IUp6mVC4BOnuVm96ePe65RQDzD5I8NcllZ9yM1w0VEyBAgAABAqsKCGBW5TU4AQIECBAgcAOBj03y4xfu9XJ2b5gSznzeuX3LZTzlXjDlzJnylKPyFKSLr49K8lPT/zw0gClPMfrNaZ9yeVO578zF112mJx2V/39+3LP6y/8vZ978gW4TIECAAAECBK4SEMA4NggQIECAAIFTCZSnHb0iyf883fOlXG5ULksqIUsJN8rlRmev/ynJf59+US5TOn9mzNk2/zjJPzkygLnV9IjostsHnDuD5rzJ2WOzLwYw75TkD5PcYnoSUrnRrhcBAgQIECBA4FIBAYwDgwABAgQIEDilwGOSfHmSH03y3UnKmS/lEdR/Zbqvy1lt7zzdsLf87PLhSX7uQtHl/jC/dI17wJRhyiVN75vkq5I8+sK4Jex5QZIPuiLY+a4kD0jy8iR3mwKZqzzLjXjPXzJ1SndzEyBAgAABAo0FBDCNwU1HgAABAgQIvI3A2aOj35LkRUnK5T4llPnKS5z+63T50S8n+azpsqByFk05W+Zbk7xHkve8Iii56ia8ZfN/meQRU8DzkCTfn+RNUy2PT3Ln6SlGZduLPzvdIcnPJ7nN9PjrUvcPnbuUqQRJn5iknEXz7CT/XP8JECBAgACBfQoIYPbZd6smQIAAAQI9CfxKkvJI6bNXCWVeeEmB5d4v5Z4x5ayU8io3vy0BTLl3S7kUqIQn33uNAKY8cen50yVIZfc3Tv+US4zKfV3KI7H/wxXjlv9d6i3zlrClvEqYVG4iXC5vOqu1/P9/lORRPcGrhQABAgQIEGgnIIBpZ20mAgQIECBA4HKBR54LJl6c5E43gPpfknx1krtPAcdvTWeclGCjPIb6ZdcIYMou5QyWcpbMvZO8V5LfncYt95S50bhnpb7jdNPgT5vOmCmhzuuT/MYU7pSzX8o/JdzxIkCAAAECBHYoIIDZYdMtmQABAgQIECBAgAABAgQIEGgrIIBp6202AgQIECBAgAABAgQIECBAYIcCApgdNt2SCRAgQIAAAQIECBAgQIAAgbYCApi23mYjQIAAAQIECBAgQIAAAQIEdigggNlh0y2ZAAECBAgQIECAAAECBAgQaCsggGnrbTYCBAgQIECAAAECBAgQIEBghwICmB023ZIJECBAgAABAgQIECBAgACBtgICmLbeZiNAgAABAgQIECBAgAABAgR2KCCA2WHTLZkAAQIECBAgQIAAAQIECBBoKyCAaettNgIECBAgQIAAAQIECBAgQGCHAgKYHTbdkgkQIECAAAECBAgQIECAAIG2AgKYtt5mI0CAAAECBAgQIECAAAECBHYoIIDZYdMtmQABAgQIECBAgAABAgQIEGgrIIBp6202AgQIECBAgAABAgQIECBAYIcCApgdNt2SCRAgQIAAAQIECBAgQIAAgbYCApi23mYjQIAAAQIECBAgQIAAAQIEdigggNlh0y2ZAAECBAgQIECAAAECBAgQaCsggGnrbTYCBAgQIECAAAECBAgQIEBghwICmB023ZIJECBAgAABAgQIECBAgACBtgICmLbeZiNAgAABAgQIECBAgAABAgR2KCCA2WHTLZkAAQIECBAgQIAAAQIECBBoKyCAaettNgIECBAgQIAAAQIECBAgQGCHAgKYHTbdkgkQIECAAAECBAgQIECAAIG2Av8fW1NRkcru9SgAAAAASUVORK5CYII=\" width=\"640\">"
      ],
      "text/plain": [
       "<IPython.core.display.HTML object>"
      ]
     },
     "metadata": {},
     "output_type": "display_data"
    },
    {
     "data": {
      "text/plain": [
       "<matplotlib.text.Text at 0x11f2d94e0>"
      ]
     },
     "execution_count": 19,
     "metadata": {},
     "output_type": "execute_result"
    }
   ],
   "source": [
    "import matplotlib.pyplot as pl\n",
    "pl.style.use('default')\n",
    "%matplotlib notebook\n",
    "\n",
    "fig,axs = pl.subplots(2,1)\n",
    "axs[0].hist(my_rand, bins=100)\n",
    "axs[1].hist(my_normal, bins=100)\n",
    "\n",
    "axs[1].set_xlabel('value')"
   ]
  },
  {
   "cell_type": "markdown",
   "metadata": {},
   "source": [
    "Because `numpy` is a math package, lots of important mathematical functions are implemented:"
   ]
  },
  {
   "cell_type": "code",
   "execution_count": 20,
   "metadata": {
    "collapsed": false
   },
   "outputs": [
    {
     "name": "stdout",
     "output_type": "stream",
     "text": [
      "Mean is 0.499795554422\n",
      "Standard deviation is 0.291517513224\n",
      "Variance is 0.0849824605163\n"
     ]
    }
   ],
   "source": [
    "mean = np.mean(my_rand)\n",
    "print('Mean is', mean)\n",
    "\n",
    "std = np.std(my_rand)\n",
    "print('Standard deviation is', std)\n",
    "\n",
    "var = np.var(my_rand)\n",
    "print('Variance is', var)"
   ]
  },
  {
   "cell_type": "markdown",
   "metadata": {},
   "source": [
    "Arrays are not limited to one dimension; in fact, they can be any number of dimensions. It is common to represent matrices of data using a 2D `numpy` array:"
   ]
  },
  {
   "cell_type": "code",
   "execution_count": 21,
   "metadata": {
    "collapsed": false
   },
   "outputs": [
    {
     "name": "stdout",
     "output_type": "stream",
     "text": [
      "The shape of this matrix is:  (8, 12)\n",
      "[[ 1.  1.  1.  1.  1.  1.  1.  1.  1.  1.  1.  1.]\n",
      " [ 1.  1.  1.  1.  1.  1.  1.  1.  1.  1.  1.  1.]\n",
      " [ 1.  1.  1.  1.  1.  1.  1.  1.  1.  1.  1.  1.]\n",
      " [ 1.  1.  1.  1.  1.  1.  1.  1.  1.  1.  1.  1.]\n",
      " [ 1.  1.  1.  1.  1.  1.  1.  1.  1.  1.  1.  1.]\n",
      " [ 1.  1.  1.  1.  1.  1.  1.  1.  1.  1.  1.  1.]\n",
      " [ 1.  1.  1.  1.  1.  1.  1.  1.  1.  1.  1.  1.]\n",
      " [ 1.  1.  1.  1.  1.  1.  1.  1.  1.  1.  1.  1.]]\n"
     ]
    }
   ],
   "source": [
    "my_matrix = np.ones([8,12])\n",
    "\n",
    "print('The shape of this matrix is: ', my_matrix.shape)\n",
    "print(my_matrix)"
   ]
  },
  {
   "cell_type": "markdown",
   "metadata": {},
   "source": [
    "As we learned, when you index lists, you can retrieve or set the n'th element using:\n",
    "\n",
    "`my_list[n]`\n",
    "\n",
    "For 2-dimensional arrays, that convention is extended as follows:\n",
    "\n",
    "`my_array[row_index, column_index]`\n",
    "\n",
    "In other words, the rows of a 2D matrix are the first **axis**, and the columns are the second **axis**."
   ]
  },
  {
   "cell_type": "code",
   "execution_count": null,
   "metadata": {
    "collapsed": true
   },
   "outputs": [],
   "source": [
    "top_left_element = my_matrix[0,0]\n",
    "\n",
    "first_row = my_matrix[0,:]\n",
    "\n",
    "first_column = my_matrix[:,0]"
   ]
  },
  {
   "cell_type": "markdown",
   "metadata": {},
   "source": [
    "<font color='green'>   \n",
    "**Exercise**: create a 2D array in which the values of all elements are 42. Then, set just the diagonal elements to be 0.\n",
    "</font>"
   ]
  },
  {
   "cell_type": "code",
   "execution_count": null,
   "metadata": {
    "collapsed": true
   },
   "outputs": [],
   "source": [
    "# (one possible) solution:\n",
    "\n"
   ]
  },
  {
   "cell_type": "markdown",
   "metadata": {},
   "source": [
    "When an array has more than 1 dimension, the default behavior for functions like `np.mean` is to compute it over all the data. But, one of the optional parameters to those functions is `axis`. This allows you to compute a statistic, like mean, for all rows, or columns of your data:"
   ]
  },
  {
   "cell_type": "code",
   "execution_count": null,
   "metadata": {
    "collapsed": false
   },
   "outputs": [],
   "source": [
    "mean_of_rows = np.mean(my_matrix, axis=1)\n",
    "\n",
    "print(mean_of_rows.shape)"
   ]
  },
  {
   "cell_type": "code",
   "execution_count": null,
   "metadata": {
    "collapsed": false
   },
   "outputs": [],
   "source": [
    "mean_of_columns = np.mean(my_matrix, axis=0)\n",
    "\n",
    "print(mean_of_columns.shape)"
   ]
  },
  {
   "cell_type": "markdown",
   "metadata": {},
   "source": [
    "`numpy` arrays can be saved to files and loaded back into Python."
   ]
  },
  {
   "cell_type": "code",
   "execution_count": null,
   "metadata": {
    "collapsed": true
   },
   "outputs": [],
   "source": [
    "np.save('my_array_file.npy', my_matrix)"
   ]
  },
  {
   "cell_type": "code",
   "execution_count": null,
   "metadata": {
    "collapsed": true
   },
   "outputs": [],
   "source": [
    "my_loaded_data = np.load('my_array_file.npy')"
   ]
  },
  {
   "cell_type": "markdown",
   "metadata": {},
   "source": [
    "Furthermore, `numpy` arrays can be saved to and loaded from CSV files too:"
   ]
  },
  {
   "cell_type": "code",
   "execution_count": null,
   "metadata": {
    "collapsed": true
   },
   "outputs": [],
   "source": [
    "np.savetxt(\"my_data.csv\", my_matrix, delimiter=\",\")"
   ]
  },
  {
   "cell_type": "code",
   "execution_count": null,
   "metadata": {
    "collapsed": false
   },
   "outputs": [],
   "source": [
    "my_data = np.genfromtxt('my_data.csv', delimiter=',')"
   ]
  },
  {
   "cell_type": "markdown",
   "metadata": {},
   "source": [
    "<font color='green'>   \n",
    "**Exercise**: \n",
    "\n",
    "The file \"temperature_anomalies.npy\" contains a `numpy` array. The rows represent years, from 1880 through 2016. The columns represent months, January through December. The values represent the temperature anomaly in the given month and year, gathered from <a href=\"https://www.ncdc.noaa.gov/cag/data-info/global\">this source</a>.  \n",
    " \n",
    "<ul>\n",
    "\n",
    "<li>Load the temperature data into Python\n",
    "<li>Compute the mean and standard deviation of the temperature anomaly for each year\n",
    "<li>Compute the mean and standard deviation of the temperature anomaly by month, averaged over years \n",
    "<li>Bonus: plot these trends and comment on the meaning of the finding\n",
    "\n",
    "</ul>\n",
    "</font>"
   ]
  },
  {
   "cell_type": "markdown",
   "metadata": {},
   "source": [
    "### Pandas\n",
    "\n",
    "Whereas `numpy` is the go-to package for math in Python, `pandas` is another popular package used for analyzing timeseries and tabular data.\n",
    "\n",
    "To be clear, `pandas` is built *on top* of `numpy`, so if you have a `pandas` object, it usually has all the available functions that a `numpy` array would. That is one of the reasons that knowing `numpy` is so important."
   ]
  },
  {
   "cell_type": "markdown",
   "metadata": {},
   "source": [
    "For our purposes, the `pandas` DataFrame is the most important object with which to be familiar. It is basically a 2D numpy array, but it has some special properties, like names for the columns."
   ]
  },
  {
   "cell_type": "code",
   "execution_count": 30,
   "metadata": {
    "collapsed": false
   },
   "outputs": [
    {
     "data": {
      "text/html": [
       "<div>\n",
       "<table border=\"1\" class=\"dataframe\">\n",
       "  <thead>\n",
       "    <tr style=\"text-align: right;\">\n",
       "      <th></th>\n",
       "      <th>name</th>\n",
       "      <th>age</th>\n",
       "      <th>is_female</th>\n",
       "      <th>height</th>\n",
       "    </tr>\n",
       "  </thead>\n",
       "  <tbody>\n",
       "    <tr>\n",
       "      <th>0</th>\n",
       "      <td>Adam</td>\n",
       "      <td>22</td>\n",
       "      <td>False</td>\n",
       "      <td>5.8</td>\n",
       "    </tr>\n",
       "    <tr>\n",
       "      <th>1</th>\n",
       "      <td>Bart</td>\n",
       "      <td>21</td>\n",
       "      <td>False</td>\n",
       "      <td>5.9</td>\n",
       "    </tr>\n",
       "    <tr>\n",
       "      <th>2</th>\n",
       "      <td>Cynthia</td>\n",
       "      <td>22</td>\n",
       "      <td>True</td>\n",
       "      <td>5.8</td>\n",
       "    </tr>\n",
       "    <tr>\n",
       "      <th>3</th>\n",
       "      <td>Dolores</td>\n",
       "      <td>22</td>\n",
       "      <td>True</td>\n",
       "      <td>5.7</td>\n",
       "    </tr>\n",
       "    <tr>\n",
       "      <th>4</th>\n",
       "      <td>Edwin</td>\n",
       "      <td>20</td>\n",
       "      <td>False</td>\n",
       "      <td>6.0</td>\n",
       "    </tr>\n",
       "    <tr>\n",
       "      <th>5</th>\n",
       "      <td>Frances</td>\n",
       "      <td>21</td>\n",
       "      <td>True</td>\n",
       "      <td>5.5</td>\n",
       "    </tr>\n",
       "  </tbody>\n",
       "</table>\n",
       "</div>"
      ],
      "text/plain": [
       "      name  age is_female  height\n",
       "0     Adam   22     False     5.8\n",
       "1     Bart   21     False     5.9\n",
       "2  Cynthia   22      True     5.8\n",
       "3  Dolores   22      True     5.7\n",
       "4    Edwin   20     False     6.0\n",
       "5  Frances   21      True     5.5"
      ]
     },
     "execution_count": 30,
     "metadata": {},
     "output_type": "execute_result"
    }
   ],
   "source": [
    "import pandas as pd\n",
    "\n",
    "people = pd.DataFrame(columns=['name', 'age', 'is_female', 'height'])\n",
    "\n",
    "people.loc[:,'name'] = ['Adam','Bart','Cynthia', 'Dolores', 'Edwin', 'Frances']\n",
    "people.loc[:,'age'] = [22, 21, 22, 22, 20, 21]\n",
    "people.loc[:,'is_female'] = [False, False, True, True, False, True]\n",
    "people.loc[:,'height'] = [5.8, 5.9, 5.8, 5.7, 6., 5.5]\n",
    "\n",
    "people"
   ]
  },
  {
   "cell_type": "code",
   "execution_count": 31,
   "metadata": {
    "collapsed": false
   },
   "outputs": [
    {
     "data": {
      "text/html": [
       "<div>\n",
       "<table border=\"1\" class=\"dataframe\">\n",
       "  <thead>\n",
       "    <tr style=\"text-align: right;\">\n",
       "      <th></th>\n",
       "      <th>name</th>\n",
       "      <th>age</th>\n",
       "      <th>is_female</th>\n",
       "      <th>height</th>\n",
       "    </tr>\n",
       "  </thead>\n",
       "  <tbody>\n",
       "    <tr>\n",
       "      <th>0</th>\n",
       "      <td>Adam</td>\n",
       "      <td>22</td>\n",
       "      <td>False</td>\n",
       "      <td>5.8</td>\n",
       "    </tr>\n",
       "    <tr>\n",
       "      <th>1</th>\n",
       "      <td>Bart</td>\n",
       "      <td>21</td>\n",
       "      <td>False</td>\n",
       "      <td>5.9</td>\n",
       "    </tr>\n",
       "    <tr>\n",
       "      <th>2</th>\n",
       "      <td>Zorba</td>\n",
       "      <td>22</td>\n",
       "      <td>True</td>\n",
       "      <td>5.8</td>\n",
       "    </tr>\n",
       "    <tr>\n",
       "      <th>3</th>\n",
       "      <td>Dolores</td>\n",
       "      <td>22</td>\n",
       "      <td>True</td>\n",
       "      <td>5.7</td>\n",
       "    </tr>\n",
       "    <tr>\n",
       "      <th>4</th>\n",
       "      <td>Edwin</td>\n",
       "      <td>20</td>\n",
       "      <td>False</td>\n",
       "      <td>6.0</td>\n",
       "    </tr>\n",
       "    <tr>\n",
       "      <th>5</th>\n",
       "      <td>Frances</td>\n",
       "      <td>21</td>\n",
       "      <td>True</td>\n",
       "      <td>5.5</td>\n",
       "    </tr>\n",
       "  </tbody>\n",
       "</table>\n",
       "</div>"
      ],
      "text/plain": [
       "      name  age is_female  height\n",
       "0     Adam   22     False     5.8\n",
       "1     Bart   21     False     5.9\n",
       "2    Zorba   22      True     5.8\n",
       "3  Dolores   22      True     5.7\n",
       "4    Edwin   20     False     6.0\n",
       "5  Frances   21      True     5.5"
      ]
     },
     "execution_count": 31,
     "metadata": {},
     "output_type": "execute_result"
    }
   ],
   "source": [
    "people.loc[2,'name'] = 'Zorba'\n",
    "\n",
    "people"
   ]
  },
  {
   "cell_type": "markdown",
   "metadata": {},
   "source": [
    "Because DataFrames are basically just fancy arrays, we can always retrieve their raw values:"
   ]
  },
  {
   "cell_type": "code",
   "execution_count": 32,
   "metadata": {
    "collapsed": false
   },
   "outputs": [
    {
     "name": "stdout",
     "output_type": "stream",
     "text": [
      "[['Adam' 22 False 5.8]\n",
      " ['Bart' 21 False 5.9]\n",
      " ['Zorba' 22 True 5.8]\n",
      " ['Dolores' 22 True 5.7]\n",
      " ['Edwin' 20 False 6.0]\n",
      " ['Frances' 21 True 5.5]]\n"
     ]
    }
   ],
   "source": [
    "print(people.values)"
   ]
  },
  {
   "cell_type": "markdown",
   "metadata": {},
   "source": [
    "`pandas` offers a suite of very useful features, such as the ability to group your table by a property, and compute statistics over the other properties for each group."
   ]
  },
  {
   "cell_type": "code",
   "execution_count": 33,
   "metadata": {
    "collapsed": false
   },
   "outputs": [
    {
     "data": {
      "text/html": [
       "<div>\n",
       "<table border=\"1\" class=\"dataframe\">\n",
       "  <thead>\n",
       "    <tr style=\"text-align: right;\">\n",
       "      <th></th>\n",
       "      <th>is_female</th>\n",
       "      <th>height</th>\n",
       "    </tr>\n",
       "    <tr>\n",
       "      <th>age</th>\n",
       "      <th></th>\n",
       "      <th></th>\n",
       "    </tr>\n",
       "  </thead>\n",
       "  <tbody>\n",
       "    <tr>\n",
       "      <th>20</th>\n",
       "      <td>0.000000</td>\n",
       "      <td>6.000000</td>\n",
       "    </tr>\n",
       "    <tr>\n",
       "      <th>21</th>\n",
       "      <td>0.500000</td>\n",
       "      <td>5.700000</td>\n",
       "    </tr>\n",
       "    <tr>\n",
       "      <th>22</th>\n",
       "      <td>0.666667</td>\n",
       "      <td>5.766667</td>\n",
       "    </tr>\n",
       "  </tbody>\n",
       "</table>\n",
       "</div>"
      ],
      "text/plain": [
       "     is_female    height\n",
       "age                     \n",
       "20    0.000000  6.000000\n",
       "21    0.500000  5.700000\n",
       "22    0.666667  5.766667"
      ]
     },
     "execution_count": 33,
     "metadata": {},
     "output_type": "execute_result"
    }
   ],
   "source": [
    "people.groupby('age').mean()"
   ]
  },
  {
   "cell_type": "markdown",
   "metadata": {},
   "source": [
    "DataFrames can also be saved and read to and from csv files:"
   ]
  },
  {
   "cell_type": "code",
   "execution_count": null,
   "metadata": {
    "collapsed": true
   },
   "outputs": [],
   "source": [
    "people.to_csv('people.csv')"
   ]
  },
  {
   "cell_type": "markdown",
   "metadata": {},
   "source": [
    "In fact, pandas even offers functions to save and read Excel files:"
   ]
  },
  {
   "cell_type": "code",
   "execution_count": null,
   "metadata": {
    "collapsed": true
   },
   "outputs": [],
   "source": [
    "people.to_excel('people.xls')"
   ]
  },
  {
   "cell_type": "markdown",
   "metadata": {},
   "source": [
    "<font color='green'>   \n",
    "**Exercise**: the file `2016_donations.csv` contains approximately one million records of campaign donations from individuals in the 2015 and 2016 election cycles (they are real data from <a href=\"http://www.fec.gov/finance/disclosure/ftpdet.shtml#a2015_2016\">this source</a>).\n",
    "\n",
    "* Load the data into a pandas DataFrame\n",
    "* Print the number of individual unique donors in the list\n",
    "* Print the average donation amount\n",
    "* Create a new table in which there is one row per state, and the columns are the mean, standard deviation, minimum, and maximum donations for that state\n",
    "* Save your new table to an Excel spreadsheet or CSV file\n"
   ]
  },
  {
   "cell_type": "markdown",
   "metadata": {},
   "source": [
    "### tweepy\n",
    "\n",
    "Many companies and services offer API's: Application Program Interfaces. These are basically a set of standard commands you can use to query the company's database and retrieve information that you want.\n",
    "\n",
    "Twitter has an excellent API, and developers have built Python-accessible bindings for it, such that we can use Python to retrieve publicly available tweets.\n",
    "\n",
    "All that's required in order to do this is a set of keys provided by Twitter to anyone who requests them.\n",
    "\n",
    "<br/>\n",
    "<font color='green'> \n",
    "    **Exercise**: \n",
    "\n",
    "    <ul>\n",
    "    <li> in a terminal window, run `pip install tweepy`\n",
    "    <li> go to https://apps.twitter.com </li>\n",
    "    <li> Create New App, with content of your choosing </li>\n",
    "    <li> Go to Keys and Access Tokens, Create My Access Token</li>\n",
    "    <li> In the next code cell, define 4 variables for your:\n",
    "        <ul>\n",
    "        <li> API Key </li>\n",
    "        <li> API Secret </li>\n",
    "        <li> Access Token </li>\n",
    "        <li> Access Token Secret </li>\n",
    "        </ul>\n",
    "    </li>\n",
    "    </ul>\n",
    "\n",
    "</font>\n"
   ]
  },
  {
   "cell_type": "code",
   "execution_count": 22,
   "metadata": {
    "collapsed": true
   },
   "outputs": [],
   "source": [
    "api_key = 'kIrE1akPytCbN6dtfZoxmCmU3'\n",
    "api_secret = 'EnztGXvO3QDRWGAJZVV6UGrb0pT9EY3D9R9uSmtp1BuZFoMFZQ'\n",
    "access_token = '96322197-bzzWFgpdpQD4cFFdqLEEhfhl2t3zhlYhqYFUWf70x'\n",
    "access_token_secret = 'vF1nsbQzJeHOdDaFTNy0EREk7UVaDupehPaAZ5vNx5ZBn'\n",
    "\n",
    "import tweepy as tw\n",
    "\n",
    "auth = tw.OAuthHandler(api_key, api_secret)\n",
    "auth.set_access_token(access_token, access_token_secret)\n",
    "api = tw.API(auth)"
   ]
  },
  {
   "cell_type": "code",
   "execution_count": 23,
   "metadata": {
    "collapsed": true
   },
   "outputs": [],
   "source": []
  },
  {
   "cell_type": "code",
   "execution_count": 24,
   "metadata": {
    "collapsed": false
   },
   "outputs": [
    {
     "name": "stdout",
     "output_type": "stream",
     "text": [
      "The Economist (@TheEconomist)\n",
      "Virginia: a rights battleground https://t.co/EfFN49vrOc\n",
      "\n",
      "The Economist (@TheEconomist)\n",
      "David Friedman is a controversial pick for a position as sensitive as America's ambassador to Israel https://t.co/yyB3CWNZ01\n",
      "\n",
      "The Globe and Mail (@globeandmail)\n",
      "Fraser Institute challenges revenue-neutral claim of B.C.’s carbon tax https://t.co/BBGgBsFHjZ From @GlobeBC\n",
      "\n",
      "BBC Breaking News (@BBCBreaking)\n",
      "BBC Exclusive: Facebook chief Mark Zuckerberg tells @BBCKamal of his concerns the tide is turning on globalisation\n",
      "\n",
      "https://t.co/8aUVu3is9V\n",
      "\n",
      "Neuroscience News (@NeuroscienceNew)\n",
      "Social Exclusion Leads to Conspiratorial Thinking https://t.co/ciRtiOn0g3 #conspiracytheories #conspiracy #psychology #neuroscience #science\n",
      "\n",
      "NPR (@NPR)\n",
      "3,000-Pound Rooster Statue Stolen From North Carolina Farm https://t.co/Fi2SIzzZce\n",
      "\n",
      "New Scientist (@newscientist)\n",
      "Turn satellites into sparkling fireworks to burn up space junk https://t.co/8SEisN8nXA https://t.co/pCqBp2M5aa\n",
      "\n",
      "The Atlantic (@TheAtlantic)\n",
      "Readers debate: Does grammar pedantry perpetuate ignorance about language? https://t.co/4xn2mtXuyI https://t.co/Q5vmgMV2IX\n",
      "\n",
      "TorontoStar (@TorontoStar)\n",
      "$10,000 fine for Toronto homeowner who used agencies like Airbnb to find tenants https://t.co/0LhSNtCMzJ https://t.co/5rmABonaHP\n",
      "\n",
      "The New Yorker (@NewYorker)\n",
      "The timing for Claudia Rankine's Racial Imaginary Institute could not be more auspicious: https://t.co/mhwlDyonE6 https://t.co/O8ZDgpb6QE\n",
      "\n",
      "The Economist (@TheEconomist)\n",
      ".@LeoShane of the Military Times discusses the relationship between a new Commander-in-Chief and the armed forces… https://t.co/gcDg399fFY\n",
      "\n",
      "The Economist (@TheEconomist)\n",
      "Why “late style” has become an accepted critical concept among playwrights, composers and visual artists https://t.co/B1DBKHFy9y\n",
      "\n",
      "JAMA (@JAMA_current)\n",
      "Decision to select a NOAC or more trad'l medicine should involve a discussion w pts of risks &amp; benefits of both https://t.co/PeZwy9IXr6\n",
      "\n",
      "CNN (@CNN)\n",
      "\"It was unhinged. It was wild.\" @jaketapper reacts to President Trump's press conference https://t.co/EjpKWx4wgO https://t.co/XETiVuvO9v\n",
      "\n",
      "Neuroscience News (@NeuroscienceNew)\n",
      "Solving the Puzzle of Alzheimer's Disease https://t.co/eWgDkpzfmu #alzheimers #neurology #neuroscience #science\n",
      "\n"
     ]
    }
   ],
   "source": [
    "n_posts = 15\n",
    "\n",
    "for tweet in tw.Cursor(api.home_timeline).items(n_posts):\n",
    "    author = tweet.author.name\n",
    "    sname = tweet.author.screen_name\n",
    "    text = tweet.text\n",
    "    \n",
    "    print('{} (@{})\\n{}\\n'.format(author, sname, text))"
   ]
  },
  {
   "cell_type": "markdown",
   "metadata": {},
   "source": [
    "The API gives us the ability to search Twitter, just like the search bar on the website itself."
   ]
  },
  {
   "cell_type": "code",
   "execution_count": 26,
   "metadata": {
    "collapsed": false
   },
   "outputs": [
    {
     "name": "stdout",
     "output_type": "stream",
     "text": [
      "RT @rodemmerson: Cadbury meltdown - in today's @nzherald #bushfire @Cadbury_NZ #jobs https://t.co/pcWSILVRhS \n",
      "\n",
      "RT @TransferRelated: Arsenal Fan TV went into meltdown last night 🔥 https://t.co/aHwkyKvnub \n",
      "\n",
      "@realDonaldTrump U had a meltdown in front of the entire nation and world. They watched a little child have a tantrum in front of a podium!! \n",
      "\n",
      "@sir_mycroft @tim_tlyons @thatgayhipster Borrowing money is what helped get us out of an economic meltdown. \n",
      "\n",
      "Meltdown https://t.co/cq3LWzywJM \n",
      "\n",
      "Tyrese Trump Meltdown - Fast &amp; Furious Actor Begs Patriots to Skip White... https://t.co/TKxysgoqjh via @YouTube #liberallunacy \n",
      "\n",
      "RT @froomkin: Nothing on the NYT homepage even hints at the fact that the President of the United States had a total meltdown. https://t.co… \n",
      "\n",
      "The Trump meltdown... \n",
      "\n",
      "@jahimes @kasie @MSNBC @realDonaldTrump meltdown \n",
      "\n",
      "@chucktodd is currently in meltdown mode https://t.co/ysijRmaMVu \n",
      "\n"
     ]
    }
   ],
   "source": [
    "for tweet in tw.Cursor(api.search, q='meltdown', lang='en').items(10):\n",
    "    print(tweet.text, '\\n')"
   ]
  },
  {
   "cell_type": "code",
   "execution_count": 29,
   "metadata": {
    "collapsed": false
   },
   "outputs": [
    {
     "name": "stdout",
     "output_type": "stream",
     "text": [
      "RT @michaelianblack: \"Comparatively speaking, Sean Spicer is actually pretty good at his job,\" me watching Trump's press conference. \n",
      "\n",
      "RT @mrwalsh8: Here's Spicer and Conway when Trump tells Jim Acosta that CNN is not just \"fake news,\" they are \"very fake news.\" https://t.c… \n",
      "\n",
      "RT @JOE_co_uk: President Trump and Sean Spicer have an important announcement about #FAKENEWS.... https://t.co/Gkzhe4pqP0 \n",
      "\n",
      "RT @mrwalsh8: Here's Spicer and Conway when Trump tells Jim Acosta that CNN is not just \"fake news,\" they are \"very fake news.\" https://t.c… \n",
      "\n",
      "Trump has raised the sass bar so high, Sean Spicer's next press briefing will be outdoors. https://t.co/QLIsxBMIBq \n",
      "\n",
      "RT @mrwalsh8: Here's Spicer and Conway when Trump tells Jim Acosta that CNN is not just \"fake news,\" they are \"very fake news.\" https://t.c… \n",
      "\n",
      "RT @michaelianblack: \"Comparatively speaking, Sean Spicer is actually pretty good at his job,\" me watching Trump's press conference. \n",
      "\n",
      "RT @bennyjohnson: Look at Spicer and Kellyanne when Trump tells CNN that they are not just 'Fake News' they are 'Very Fake News' https://t.… \n",
      "\n",
      "RT @EWDolan: ‘Now Spicer seems like an adult’: Internet reels at Trump’s rambling, incoherent press conference https://t.co/yXvHlR6wF5 \n",
      "\n",
      "RT @maggieNYT: It's interesting that Trump says we never reach out for comment - I don't get my emails returned from Spicer or Sanders, but… \n",
      "\n"
     ]
    }
   ],
   "source": [
    "# note that the query can be a list of terms\n",
    "\n",
    "for tweet in tw.Cursor(api.search, q=['spicer', 'trump'], lang='en').items(10):\n",
    "    print(tweet.text, '\\n')"
   ]
  },
  {
   "cell_type": "code",
   "execution_count": null,
   "metadata": {
    "collapsed": false
   },
   "outputs": [],
   "source": [
    "tweet."
   ]
  },
  {
   "cell_type": "markdown",
   "metadata": {},
   "source": [
    "The available options for the Twitter API's search functionality is documented <a href=\"https://dev.twitter.com/rest/public/search\">here</a>."
   ]
  },
  {
   "cell_type": "markdown",
   "metadata": {
    "collapsed": true
   },
   "source": [
    "An important limitation to know is that the Twitter search API does not let you search arbitrarily far back in time on all of Twitter (because it is not feasible on their end). It does, however, let you scroll through a given user's timeline without limit, and it does allow you to search all of Twitter from ~1 week ago until the present moment.\n",
    "\n",
    "Also note that Twitter <a href=\"https://dev.twitter.com/rest/public/rate-limiting\">imposes a limit</a> on the rate at which you can query the API, set at 15 queries within a given 15-minute window. When you do the following exercise, you'll want to first ensure that you have a reliable way to store the tweets you retrieve, so that you don't waste your API calls.  \n",
    "  \n",
    "<font color='green'>   \n",
    "**Exercise**: \n",
    "\n",
    "Consider this list of 10 keywords:\n",
    "<ul>\n",
    "<li> trump\n",
    "<li> spicer\n",
    "<li> conway\n",
    "<li> russia\n",
    "<li> alzheimer\n",
    "<li> neuron\n",
    "<li> memory\n",
    "<li> superbowl\n",
    "<li> beatles\n",
    "</ul>\n",
    "\n",
    "<ol>\n",
    "<li>For each keyword, retrieve 1000 unique tweets that contain the keyword. \n",
    "<li> Save those tweets into a `pandas` DataFrame, and save that DataFrame to a file.\n",
    "<li> For each pairwise comparison of the 10 keywords (100 comparisons), compute the proportion of tweets containing keyword A that also contain keyword B. \n",
    "<li>Store the results in a 2D `numpy` matrix or a `pandas` DataFrame, and save the data to a file.\n",
    "\n",
    "<li> Bonus: display and save a pseudocolor plot to visualize this co-occurence data.\n",
    "\n",
    "</ol>\n",
    "\n",
    "</font>\n"
   ]
  }
 ],
 "metadata": {
  "anaconda-cloud": {},
  "kernelspec": {
   "display_name": "Python [conda root]",
   "language": "python",
   "name": "conda-root-py"
  },
  "language_info": {
   "codemirror_mode": {
    "name": "ipython",
    "version": 3
   },
   "file_extension": ".py",
   "mimetype": "text/x-python",
   "name": "python",
   "nbconvert_exporter": "python",
   "pygments_lexer": "ipython3",
   "version": "3.5.2"
  }
 },
 "nbformat": 4,
 "nbformat_minor": 1
}
