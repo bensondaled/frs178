{
 "cells": [
  {
   "cell_type": "markdown",
   "metadata": {},
   "source": [
    "<center>*TA contact info*</center>\n",
    "\n",
    "<center>\n",
    "I am available for all programming and math-related questions throughout the course. The best way to contact me is by email:</center>\n",
    "\n",
    "<center>**deverett@princeton.edu**</center>\n",
    "\n",
    "---\n",
    "\n",
    "# Lab #2\n",
    "\n",
    "Last class, we learned about the basics of Python programming, including variables, lists, loops, and if statements. \n",
    "\n",
    "Today, we will build on that knowledge, jumping forward to look at functions, Python packages, and then at the Twitter API.\n",
    "\n",
    "*Note: if you didn't manage to attend the Intro to Plotting session, <a href=\"https://drive.google.com/open?id=0B2N8L8DcfG0NMHFoaXBjZERTY28\">here is the notebook</a>.*"
   ]
  },
  {
   "cell_type": "code",
   "execution_count": null,
   "metadata": {
    "collapsed": false
   },
   "outputs": [],
   "source": [
    "# a couple of useful tricks:\n",
    "\n",
    "print( 5 in [1, 2, 3] )\n",
    "print( 5 in [1, 2, 5] )\n",
    "\n",
    "sentence = 'hello,this,is,a,sentence'\n",
    "\n",
    "split_sentence = sentence.split(',')\n",
    "print ( split_sentence )\n",
    "\n",
    "joined_sentence = 'X'.join(split_sentence)\n",
    "print ( joined_sentence )\n",
    "\n",
    "print( 'There are', sentence.count(','), 'commas in the sentence' )\n",
    "print( 'There are', split_sentence.count(','), 'commas in the list of words' )"
   ]
  },
  {
   "cell_type": "markdown",
   "metadata": {},
   "source": [
    "---\n",
    "\n",
    "## Functions\n",
    "\n",
    "A function is simply a block of general-purpose code that can be run by calling its name.\n",
    "\n",
    "In most cases, this block of code can take some inputs, do its job on them, and then return some outputs.\n",
    "\n",
    "Let's look at a simple function:"
   ]
  },
  {
   "cell_type": "code",
   "execution_count": null,
   "metadata": {
    "collapsed": true
   },
   "outputs": [],
   "source": [
    "def add(x, y):\n",
    "    result = x + y\n",
    "    return result"
   ]
  },
  {
   "cell_type": "code",
   "execution_count": null,
   "metadata": {
    "collapsed": false
   },
   "outputs": [],
   "source": [
    "a = 3\n",
    "b = 4\n",
    "\n",
    "z = add(a, b)\n",
    "\n",
    "print(z)"
   ]
  },
  {
   "cell_type": "markdown",
   "metadata": {},
   "source": [
    "In the previous example, `x` and `y` are **parameters** (also known as **arguments**) to the `add` function.\n",
    "\n",
    "Two other important concepts about functions:\n",
    "* default values for parameters\n",
    "* returning multiple objects"
   ]
  },
  {
   "cell_type": "code",
   "execution_count": null,
   "metadata": {
    "collapsed": true
   },
   "outputs": [],
   "source": [
    "def split_string(string, n=2):\n",
    "    \"\"\"Split a string into n chunks\n",
    "    \n",
    "    Parameters\n",
    "    ----------\n",
    "    string : str\n",
    "        the string to be split\n",
    "    n : int\n",
    "        the number of chunks into which to split the string\n",
    "        \n",
    "    Returns\n",
    "    -------\n",
    "    chunks : a list of individual chunks made by splitting string\n",
    "    \"\"\"\n",
    "    if len(string) % n != 0:\n",
    "        print('Length of string is not divisible by n; expect some letters to be cut off.')\n",
    "    \n",
    "    chunk_size = len(string)//n\n",
    "    chunks = []\n",
    "    for i in range(n):\n",
    "        chunk = string[i*chunk_size : i*chunk_size + chunk_size]\n",
    "        chunks.append(chunk)\n",
    "    return chunks"
   ]
  },
  {
   "cell_type": "code",
   "execution_count": null,
   "metadata": {
    "collapsed": false
   },
   "outputs": [],
   "source": [
    "print( split_string('hello world!', 4) )"
   ]
  },
  {
   "cell_type": "markdown",
   "metadata": {},
   "source": [
    "  <font color='green'>   \n",
    "**Exercise**: Write a function that takes as parameters 3 strings and returns the answer to the question: \"are the lowercase versions of these 3 strings all the same?\"\n",
    " </font>"
   ]
  },
  {
   "cell_type": "markdown",
   "metadata": {},
   "source": [
    "---\n",
    "\n",
    "## Python packages\n",
    "\n",
    "Technically, it is possible for you to do almost any analysis using just what we have learned already in Python. But as you can imagine, some complex tasks would take years to achieve, including millions of lines of code.\n",
    "\n",
    "Fortunately, many generous developers have wrriten general-purpose code in the form of \"packages.\" Many such packages are free, widely available, and strictly maintained, so that we can use them and rely on them.\n",
    "\n",
    "Today we will look briefly at 2 such packages that are very popular in scientific computing: `numpy` and `pandas`.\n",
    "\n",
    "At the end, we will learn about a relatively new and useful package called `tweepy`, which will allow us to interact with Twitter."
   ]
  },
  {
   "cell_type": "markdown",
   "metadata": {},
   "source": [
    "### NumPy\n",
    "\n",
    "`numpy` is the numerical computing package for numpy. One of the most confusing topics for beginner Python programmers comes with the introduction of `numpy`. In this course, we will only make limited use of `numpy`, but it is very important to know.\n",
    "\n",
    "To import numpy (or any package), we use this syntax:"
   ]
  },
  {
   "cell_type": "code",
   "execution_count": null,
   "metadata": {
    "collapsed": false
   },
   "outputs": [],
   "source": [
    "import numpy as np"
   ]
  },
  {
   "cell_type": "markdown",
   "metadata": {},
   "source": [
    "This command makes all of the `numpy` functionality available to us under the shortcut name `np`.\n",
    "\n",
    "The primary concept to understand with `numpy` is the `array`. Arrays act very much like Python lists, which we learned last week. But, arrays are specialized for math.\n",
    "\n",
    "A `numpy` array can be created from any list, like this:"
   ]
  },
  {
   "cell_type": "code",
   "execution_count": null,
   "metadata": {
    "collapsed": true
   },
   "outputs": [],
   "source": [
    "my_list = [5, 10, 11, 32]\n",
    "my_array = np.array(my_list)\n",
    "\n",
    "# or, equivalently:\n",
    "\n",
    "my_array = np.array([5, 10, 11, 32])"
   ]
  },
  {
   "cell_type": "markdown",
   "metadata": {},
   "source": [
    "To understand the difference between lists and arrays, consider the following cells:"
   ]
  },
  {
   "cell_type": "code",
   "execution_count": null,
   "metadata": {
    "collapsed": false
   },
   "outputs": [],
   "source": [
    "print( my_list * 2 )"
   ]
  },
  {
   "cell_type": "code",
   "execution_count": null,
   "metadata": {
    "collapsed": false
   },
   "outputs": [],
   "source": [
    "print( my_array * 2 )"
   ]
  },
  {
   "cell_type": "code",
   "execution_count": null,
   "metadata": {
    "collapsed": false
   },
   "outputs": [],
   "source": [
    "print( my_list + 2 )"
   ]
  },
  {
   "cell_type": "code",
   "execution_count": null,
   "metadata": {
    "collapsed": false
   },
   "outputs": [],
   "source": [
    "print( my_array + 2 )"
   ]
  },
  {
   "cell_type": "markdown",
   "metadata": {},
   "source": [
    "You now understand the claim that `numpy` arrays are specialized for math.\n",
    "\n",
    "You can always check the size and dimensions of an array using the `shape` attribute."
   ]
  },
  {
   "cell_type": "code",
   "execution_count": null,
   "metadata": {
    "collapsed": false
   },
   "outputs": [],
   "source": [
    "print( my_array.shape )"
   ]
  },
  {
   "cell_type": "markdown",
   "metadata": {},
   "source": [
    "`numpy` offers a function similar to `range`, but that handles decimal numbers:"
   ]
  },
  {
   "cell_type": "code",
   "execution_count": null,
   "metadata": {
    "collapsed": false
   },
   "outputs": [],
   "source": [
    "my_range = np.arange(0, 1000, 0.1)\n",
    "\n",
    "print(my_range)"
   ]
  },
  {
   "cell_type": "markdown",
   "metadata": {},
   "source": [
    "`numpy` also has functions for producing arrays of random numbers:"
   ]
  },
  {
   "cell_type": "code",
   "execution_count": null,
   "metadata": {
    "collapsed": false
   },
   "outputs": [],
   "source": [
    "my_rand = np.random.random(10000)\n",
    "\n",
    "my_normal = np.random.normal(0, 1., size=10000)"
   ]
  },
  {
   "cell_type": "code",
   "execution_count": null,
   "metadata": {
    "collapsed": false
   },
   "outputs": [],
   "source": [
    "import matplotlib.pyplot as pl\n",
    "pl.style.use('default')\n",
    "%matplotlib notebook\n",
    "\n",
    "fig,axs = pl.subplots(2,1)\n",
    "axs[0].hist(my_rand, bins=100)\n",
    "axs[1].hist(my_normal, bins=100)"
   ]
  },
  {
   "cell_type": "markdown",
   "metadata": {},
   "source": [
    "Because `numpy` is a math package, lots of important mathematical functions are implemented:"
   ]
  },
  {
   "cell_type": "code",
   "execution_count": null,
   "metadata": {
    "collapsed": false
   },
   "outputs": [],
   "source": [
    "mean = np.mean(my_rand)\n",
    "print('Mean is', mean)\n",
    "\n",
    "std = np.std(my_rand)\n",
    "print('Standard deviation is', std)\n",
    "\n",
    "var = np.var(my_rand)\n",
    "print('Variance is', var)"
   ]
  },
  {
   "cell_type": "markdown",
   "metadata": {},
   "source": [
    "Arrays are not limited to one dimension; in fact, they can be any number of dimensions. It is common to represent matrices of data using a 2D `numpy` array:"
   ]
  },
  {
   "cell_type": "code",
   "execution_count": null,
   "metadata": {
    "collapsed": false
   },
   "outputs": [],
   "source": [
    "my_matrix = np.ones([8,12])\n",
    "\n",
    "print('The shape of this matrix is: ', my_matrix.shape)\n",
    "print(my_matrix)"
   ]
  },
  {
   "cell_type": "markdown",
   "metadata": {},
   "source": [
    "As we learned, when you index lists, you can retrieve or set the n'th element using:\n",
    "\n",
    "`my_list[n]`\n",
    "\n",
    "For 2-dimensional arrays, that convention is extended as follows:\n",
    "\n",
    "`my_array[row_index, column_index]`\n",
    "\n",
    "In other words, the rows of a 2D matrix are the first **axis**, and the columns are the second **axis**."
   ]
  },
  {
   "cell_type": "code",
   "execution_count": null,
   "metadata": {
    "collapsed": true
   },
   "outputs": [],
   "source": [
    "top_left_element = my_matrix[0,0]\n",
    "\n",
    "first_row = my_matrix[0,:]\n",
    "\n",
    "first_column = my_matrix[:,0]"
   ]
  },
  {
   "cell_type": "markdown",
   "metadata": {},
   "source": [
    "<font color='green'>   \n",
    "**Exercise**: create a 2D array in which the values of all elements are 42. Then, set just the diagonal elements to be 0.\n",
    "</font>"
   ]
  },
  {
   "cell_type": "markdown",
   "metadata": {},
   "source": [
    "When an array has more than 1 dimension, the default behavior for functions like `np.mean` is to compute it over all the data. But, one of the optional parameters to those functions is `axis`. This allows you to compute a statistic, like mean, for all rows, or columns of your data:"
   ]
  },
  {
   "cell_type": "code",
   "execution_count": null,
   "metadata": {
    "collapsed": false
   },
   "outputs": [],
   "source": [
    "mean_of_rows = np.mean(my_matrix, axis=1)\n",
    "\n",
    "print(mean_of_rows.shape)"
   ]
  },
  {
   "cell_type": "code",
   "execution_count": null,
   "metadata": {
    "collapsed": false
   },
   "outputs": [],
   "source": [
    "mean_of_columns = np.mean(my_matrix, axis=0)\n",
    "\n",
    "print(mean_of_columns.shape)"
   ]
  },
  {
   "cell_type": "markdown",
   "metadata": {},
   "source": [
    "`numpy` arrays can be saved to files and loaded back into Python."
   ]
  },
  {
   "cell_type": "code",
   "execution_count": null,
   "metadata": {
    "collapsed": true
   },
   "outputs": [],
   "source": [
    "np.save('my_array_file.npy', my_matrix)"
   ]
  },
  {
   "cell_type": "code",
   "execution_count": null,
   "metadata": {
    "collapsed": true
   },
   "outputs": [],
   "source": [
    "my_loaded_data = np.load('my_array_file.npy')"
   ]
  },
  {
   "cell_type": "markdown",
   "metadata": {},
   "source": [
    "Furthermore, `numpy` arrays can be saved to and loaded from CSV files too:"
   ]
  },
  {
   "cell_type": "code",
   "execution_count": null,
   "metadata": {
    "collapsed": true
   },
   "outputs": [],
   "source": [
    "np.savetxt(\"my_data.csv\", my_matrix, delimiter=\",\")"
   ]
  },
  {
   "cell_type": "code",
   "execution_count": null,
   "metadata": {
    "collapsed": false
   },
   "outputs": [],
   "source": [
    "my_data = np.genfromtxt('my_data.csv', delimiter=',')"
   ]
  },
  {
   "cell_type": "markdown",
   "metadata": {},
   "source": [
    "<font color='green'>   \n",
    "**Exercise**: \n",
    "\n",
    "The file \"temperature_anomalies.npy\" contains a `numpy` array. The rows represent years, from 1880 through 2016. The columns represent months, January through December. The values represent the temperature anomaly in the given month and year, gathered from <a href=\"https://www.ncdc.noaa.gov/cag/data-info/global\">this source</a>.  \n",
    " \n",
    "<ul>\n",
    "\n",
    "<li>Load the temperature data into Python\n",
    "<li>Compute the mean and standard deviation of the temperature anomaly for each year\n",
    "<li>Compute the mean and standard deviation of the temperature anomaly by month, averaged over years \n",
    "<li>Bonus: plot these trends and comment on the meaning of the finding\n",
    "\n",
    "</ul>\n",
    "</font>"
   ]
  },
  {
   "cell_type": "markdown",
   "metadata": {},
   "source": [
    "### Pandas\n",
    "\n",
    "Whereas `numpy` is the go-to package for math in Python, `pandas` is another popular package used for analyzing timeseries and tabular data.\n",
    "\n",
    "To be clear, `pandas` is built *on top* of `numpy`, so if you have a `pandas` object, it usually has all the available functions that a `numpy` array would. That is one of the reasons that knowing `numpy` is so important."
   ]
  },
  {
   "cell_type": "markdown",
   "metadata": {},
   "source": [
    "For our purposes, the `pandas` DataFrame is the most important object with which to be familiar. It is basically a 2D numpy array, but it has some special properties, like names for the columns."
   ]
  },
  {
   "cell_type": "code",
   "execution_count": null,
   "metadata": {
    "collapsed": false
   },
   "outputs": [],
   "source": [
    "import pandas as pd\n",
    "\n",
    "people = pd.DataFrame(columns=['name', 'age', 'is_female', 'height'])\n",
    "\n",
    "people.loc[:,'name'] = ['Adam','Bart','Cynthia', 'Dolores', 'Edwin', 'Frances']\n",
    "people.loc[:,'age'] = [22, 21, 22, 22, 20, 21]\n",
    "people.loc[:,'is_female'] = [False, False, True, True, False, True]\n",
    "people.loc[:,'height'] = [5.8, 5.9, 5.8, 5.7, 6., 5.5]\n",
    "\n",
    "people"
   ]
  },
  {
   "cell_type": "code",
   "execution_count": null,
   "metadata": {
    "collapsed": false
   },
   "outputs": [],
   "source": [
    "people.loc[2,'name'] = 'Zorba'\n",
    "\n",
    "people"
   ]
  },
  {
   "cell_type": "markdown",
   "metadata": {},
   "source": [
    "Because DataFrames are basically just fancy arrays, we can always retrieve their raw values:"
   ]
  },
  {
   "cell_type": "code",
   "execution_count": null,
   "metadata": {
    "collapsed": false
   },
   "outputs": [],
   "source": [
    "print(people.values)"
   ]
  },
  {
   "cell_type": "markdown",
   "metadata": {},
   "source": [
    "`pandas` offers a suite of very useful features, such as the ability to group your table by a property, and compute statistics over the other properties for each group."
   ]
  },
  {
   "cell_type": "code",
   "execution_count": null,
   "metadata": {
    "collapsed": false
   },
   "outputs": [],
   "source": [
    "people.groupby('age').mean()"
   ]
  },
  {
   "cell_type": "markdown",
   "metadata": {},
   "source": [
    "DataFrames can also be saved and read to and from csv files:"
   ]
  },
  {
   "cell_type": "code",
   "execution_count": null,
   "metadata": {
    "collapsed": true
   },
   "outputs": [],
   "source": [
    "people.to_csv('people.csv')"
   ]
  },
  {
   "cell_type": "markdown",
   "metadata": {},
   "source": [
    "In fact, pandas even offers functions to save and read Excel files:"
   ]
  },
  {
   "cell_type": "code",
   "execution_count": null,
   "metadata": {
    "collapsed": true
   },
   "outputs": [],
   "source": [
    "people.to_excel('people.xls')"
   ]
  },
  {
   "cell_type": "markdown",
   "metadata": {},
   "source": [
    "<font color='green'>   \n",
    "**Exercise**: the file `2016_donations.csv` contains approximately one million records of campaign donations from individuals in the 2015 and 2016 election cycles (they are real data from <a href=\"http://www.fec.gov/finance/disclosure/ftpdet.shtml#a2015_2016\">this source</a>).\n",
    "\n",
    "* Load the data into a pandas DataFrame\n",
    "* Print the number of individual unique donors in the list\n",
    "* Print the average donation amount\n",
    "* Create a new table in which there is one row per state, and the columns are the mean, standard deviation, minimum, and maximum donations for that state\n",
    "* Save your new table to an Excel spreadsheet or CSV file\n"
   ]
  },
  {
   "cell_type": "markdown",
   "metadata": {},
   "source": [
    "### tweepy\n",
    "\n",
    "Many companies and services offer API's: Application Program Interfaces. These are basically a set of standard commands you can use to query the company's database and retrieve information that you want.\n",
    "\n",
    "Twitter has an excellent API, and developers have built Python-accessible bindings for it, such that we can use Python to retrieve publicly available tweets.\n",
    "\n",
    "All that's required in order to do this is a set of keys provided by Twitter to anyone who requests them.\n",
    "\n",
    "<br/>\n",
    "<font color='green'> \n",
    "    **Exercise**: \n",
    "\n",
    "    <ul>\n",
    "    <li> in a terminal window, run `pip install tweepy`\n",
    "    <li> go to https://apps.twitter.com </li>\n",
    "    <li> Create New App, with content of your choosing </li>\n",
    "    <li> Go to Keys and Access Tokens, Create My Access Token</li>\n",
    "    <li> In the next code cell, define 4 variables for your:\n",
    "        <ul>\n",
    "        <li> API Key </li>\n",
    "        <li> API Secret </li>\n",
    "        <li> Access Token </li>\n",
    "        <li> Access Token Secret </li>\n",
    "        </ul>\n",
    "    </li>\n",
    "    </ul>\n",
    "\n",
    "</font>\n"
   ]
  },
  {
   "cell_type": "code",
   "execution_count": null,
   "metadata": {
    "collapsed": false
   },
   "outputs": [],
   "source": [
    "n_posts = 15\n",
    "\n",
    "for tweet in tw.Cursor(api.home_timeline).items(n_posts):\n",
    "    author = tweet.author.name\n",
    "    sname = tweet.author.screen_name\n",
    "    text = tweet.text\n",
    "    \n",
    "    print('{} (@{})\\n{}\\n'.format(author, sname, text))"
   ]
  },
  {
   "cell_type": "markdown",
   "metadata": {},
   "source": [
    "The API gives us the ability to search Twitter, just like the search bar on the website itself."
   ]
  },
  {
   "cell_type": "code",
   "execution_count": null,
   "metadata": {
    "collapsed": false
   },
   "outputs": [],
   "source": [
    "for tweet in tw.Cursor(api.search, q='obama', lang='en').items(10):\n",
    "    print(tweet.text, '\\n')"
   ]
  },
  {
   "cell_type": "code",
   "execution_count": null,
   "metadata": {
    "collapsed": false
   },
   "outputs": [],
   "source": [
    "# note that the query can be a list of terms\n",
    "\n",
    "for tweet in tw.Cursor(api.search, q=['ukraine', 'madonna', 'joe trudeau'], lang='en').items(10):\n",
    "    print(tweet.text, '\\n')"
   ]
  },
  {
   "cell_type": "code",
   "execution_count": null,
   "metadata": {
    "collapsed": false
   },
   "outputs": [],
   "source": [
    "tweet."
   ]
  },
  {
   "cell_type": "markdown",
   "metadata": {},
   "source": [
    "The available options for the Twitter API's search functionality is documented <a href=\"https://dev.twitter.com/rest/public/search\">here</a>."
   ]
  },
  {
   "cell_type": "markdown",
   "metadata": {
    "collapsed": true
   },
   "source": [
    "An important limitation to know is that the Twitter search API does not let you search arbitrarily far back in time on all of Twitter (because it is not feasible on their end). It does, however, let you scroll through a given user's timeline without limit, and it does allow you to search all of Twitter from ~1 week ago until the present moment.\n",
    "\n",
    "Also note that Twitter <a href=\"https://dev.twitter.com/rest/public/rate-limiting\">imposes a limit</a> on the rate at which you can query the API, set at 15 queries within a given 15-minute window. When you do the following exercise, you'll want to first ensure that you have a reliable way to store the tweets you retrieve, so that you don't waste your API calls.  \n",
    "  \n",
    "<font color='green'>   \n",
    "**Exercise**: \n",
    "\n",
    "Consider this list of 10 keywords:\n",
    "<ul>\n",
    "<li> trump\n",
    "<li> spicer\n",
    "<li> conway\n",
    "<li> russia\n",
    "<li> alzheimer\n",
    "<li> neuron\n",
    "<li> memory\n",
    "<li> superbowl\n",
    "<li> beatles\n",
    "</ul>\n",
    "\n",
    "<ol>\n",
    "<li>For each keyword, retrieve 1000 unique tweets that contain the keyword. \n",
    "<li> Save those tweets into a `pandas` DataFrame, and save that DataFrame to a file.\n",
    "<li> For each pairwise comparison of the 10 keywords (100 comparisons), compute the proportion of tweets containing keyword A that also contain keyword B. \n",
    "<li>Store the results in a 2D `numpy` matrix or a `pandas` DataFrame, and save the data to a file.\n",
    "\n",
    "<li> Bonus: display and save a pseudocolor plot to visualize this co-occurence data.\n",
    "\n",
    "</ol>\n",
    "\n",
    "</font>\n"
   ]
  }
 ],
 "metadata": {
  "anaconda-cloud": {},
  "kernelspec": {
   "display_name": "Python [conda root]",
   "language": "python",
   "name": "conda-root-py"
  },
  "language_info": {
   "codemirror_mode": {
    "name": "ipython",
    "version": 3
   },
   "file_extension": ".py",
   "mimetype": "text/x-python",
   "name": "python",
   "nbconvert_exporter": "python",
   "pygments_lexer": "ipython3",
   "version": "3.5.2"
  }
 },
 "nbformat": 4,
 "nbformat_minor": 1
}
