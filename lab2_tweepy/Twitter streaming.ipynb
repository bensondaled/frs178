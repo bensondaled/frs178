{
 "cells": [
  {
   "cell_type": "code",
   "execution_count": null,
   "metadata": {
    "collapsed": false
   },
   "outputs": [],
   "source": [
    "import tweepy as tw\n",
    "\n",
    "api_key = 'INSERT YOUR API KEY'\n",
    "api_secret = 'INSERT YOUR API SECRET'\n",
    "access_token = 'INSERT YOUR TOKEN'\n",
    "access_token_secret = 'INSERT YOUR TOKEN SECRET'\n",
    "\n",
    "auth = tw.OAuthHandler(api_key, api_secret)\n",
    "auth.set_access_token(access_token, access_token_secret)\n",
    "api = tw.API(auth)"
   ]
  },
  {
   "cell_type": "code",
   "execution_count": null,
   "metadata": {
    "collapsed": false
   },
   "outputs": [],
   "source": [
    "import csv, time\n",
    "\n",
    "class KeywordListener(tw.StreamListener):\n",
    "    \"\"\"\n",
    "    A class for reading and saving live tweets using the twitter streaming API through tweepy\n",
    "    \n",
    "    Parameters\n",
    "    ----------\n",
    "    api : tweepy API object\n",
    "        generated using the appropriate keys and tokens\n",
    "    filename : string \n",
    "        name of file into which to write tweets\n",
    "    keywords : list\n",
    "        list of keywords to filter for\n",
    "    rule : 'or' / 'and'\n",
    "        rule by which to filter which tweets are written to file\n",
    "        \n",
    "    To use: make an instance of the object. \n",
    "    Call begin() to start streaming, and end() to stop streaming. \n",
    "    Results will be saved into the specified file.\n",
    "    \"\"\"\n",
    "    \n",
    "    def __init__(self, api, filename, keywords=[], rule='or'):\n",
    "        super(KeywordListener, self).__init__()\n",
    "        \n",
    "        # open a file to save tweets\n",
    "        self.f = open(filename, 'a')\n",
    "        self.writer = csv.DictWriter(self.f, fieldnames=['timestamp', 'text', 'user'])\n",
    "        self.writer.writeheader()\n",
    "        self.f.flush()\n",
    "        \n",
    "        # set keywords of interest\n",
    "        self.keywords = keywords\n",
    "        \n",
    "        # set the rule: AND or OR\n",
    "        self.rule = rule\n",
    "        \n",
    "        self.stream = tw.Stream(auth = api.auth, listener=self)\n",
    "    \n",
    "    def begin(self):\n",
    "        self.stream.filter(track=self.keywords, async=True)\n",
    "    \n",
    "    def on_status(self, status):\n",
    "        timestamp = time.time()\n",
    "        text = status.text.lower()\n",
    "        user = status.author.screen_name\n",
    "        \n",
    "        if self.rule == 'or':\n",
    "            pass # this is by default\n",
    "        elif self.rule == 'and':\n",
    "            if not all([kw in text for kw in self.keywords]):\n",
    "                return # skip the writing step if not all the keywords were present\n",
    "        \n",
    "        tweet_dict = dict(timestamp=timestamp, text=text, user=user)\n",
    "        \n",
    "        self.writer.writerow(tweet_dict)\n",
    "        self.f.flush()\n",
    "    \n",
    "    def on_error(self, code):\n",
    "        print('Error {}'.format(code))\n",
    "        \n",
    "    def end(self):\n",
    "        self.stream.disconnect()"
   ]
  },
  {
   "cell_type": "code",
   "execution_count": null,
   "metadata": {
    "collapsed": false
   },
   "outputs": [],
   "source": [
    "listener = KeywordListener(api=api, filename='mytweets.csv', keywords=['moonlight','land'], rule='and')\n",
    "listener.begin()"
   ]
  },
  {
   "cell_type": "code",
   "execution_count": null,
   "metadata": {
    "collapsed": false
   },
   "outputs": [],
   "source": [
    "listener.end()"
   ]
  }
 ],
 "metadata": {
  "kernelspec": {
   "display_name": "Python [default]",
   "language": "python",
   "name": "python3"
  },
  "language_info": {
   "codemirror_mode": {
    "name": "ipython",
    "version": 3
   },
   "file_extension": ".py",
   "mimetype": "text/x-python",
   "name": "python",
   "nbconvert_exporter": "python",
   "pygments_lexer": "ipython3",
   "version": "3.5.2"
  }
 },
 "nbformat": 4,
 "nbformat_minor": 2
}
