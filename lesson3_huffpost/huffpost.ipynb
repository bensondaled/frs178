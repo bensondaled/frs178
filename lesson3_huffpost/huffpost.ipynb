{
 "cells": [
  {
   "cell_type": "markdown",
   "metadata": {},
   "source": [
    "<center>*TA contact info*</center>\n",
    "I am available for all programming and math-related questions throughout the course. The best way to contact me is by email: \n",
    "\n",
    "<center>**deverett@princeton.edu**</center>\n",
    "\n",
    "---\n",
    "\n",
    "# The Huffington Post API\n",
    "\n",
    "Today we will learn about blah blah.\n",
    "\n",
    "pip install pollster\n",
    "\n",
    "---"
   ]
  },
  {
   "cell_type": "code",
   "execution_count": 1,
   "metadata": {
    "collapsed": false
   },
   "outputs": [],
   "source": [
    "import pollster\n",
    "api = pollster.Api()\n",
    "qs = api.questions_get()"
   ]
  },
  {
   "cell_type": "code",
   "execution_count": 2,
   "metadata": {
    "collapsed": false
   },
   "outputs": [],
   "source": [
    "# exercise: plot trump's approval numbers"
   ]
  },
  {
   "cell_type": "code",
   "execution_count": null,
   "metadata": {
    "collapsed": true
   },
   "outputs": [],
   "source": []
  }
 ],
 "metadata": {
  "anaconda-cloud": {},
  "kernelspec": {
   "display_name": "Python [conda root]",
   "language": "python",
   "name": "conda-root-py"
  },
  "language_info": {
   "codemirror_mode": {
    "name": "ipython",
    "version": 3
   },
   "file_extension": ".py",
   "mimetype": "text/x-python",
   "name": "python",
   "nbconvert_exporter": "python",
   "pygments_lexer": "ipython3",
   "version": "3.5.2"
  }
 },
 "nbformat": 4,
 "nbformat_minor": 1
}
