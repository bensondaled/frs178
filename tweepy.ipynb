{
 "cells": [
  {
   "cell_type": "markdown",
   "metadata": {},
   "source": [
    "<center>*TA contact info*</center>\n",
    "I am available for all programming and math-related questions throughout the course. The best way to contact me is by email: \n",
    "\n",
    "<center>**deverett@princeton.edu**</center>\n",
    "\n",
    "---\n",
    "\n",
    "# Python and Twitter\n",
    "\n",
    "Today we will learn about blah blah.\n",
    "\n",
    "---"
   ]
  },
  {
   "cell_type": "code",
   "execution_count": 5,
   "metadata": {
    "collapsed": false
   },
   "outputs": [
    {
     "name": "stdout",
     "output_type": "stream",
     "text": [
      "Fox News (@FoxNews)\n",
      "Court: 'K-19: The Widowmaker' sub must be removed from river  https://t.co/GsK5bExXnx https://t.co/AluIYQSKnS\n",
      "\n",
      "The New York Times (@nytimes)\n",
      "Mike Connors, Glass-Jawed Star of ‘Mannix,’ Dies at 91 https://t.co/kqHPtUSt88\n",
      "\n",
      "New Scientist (@newscientist)\n",
      "Three ways to find your purpose in life and reap the benefits https://t.co/zmV9yyUybm https://t.co/zr9fw4YFVU\n",
      "\n",
      "The Economist (@TheEconomist)\n",
      "Border-adjustment tax reform would change the way firms calculate their profits for tax purposes https://t.co/3rbG3IlloP\n",
      "\n",
      "The New York Times (@nytimes)\n",
      "\"CNN could once again be the place Ted Turner envisioned and built years ago,\" @JessicaYellin writes in @nytopinion https://t.co/pPMiyIwy80\n",
      "\n",
      "The Globe and Mail (@globeandmail)\n",
      "First Nations family takes Ottawa to court over denied dental coverage https://t.co/J1iNJDjq2u @GlobePolitics #cdnpoli\n",
      "\n",
      "CNN (@CNN)\n",
      "AI and robots are on a course to transform industries and replace human contact. But what happens when they fail?… https://t.co/oijAzMK0pW\n",
      "\n",
      "The Economist (@TheEconomist)\n",
      "Could we soon be able to print organs to put into human bodies? Our healthcare correspondent @natashaloder discusses https://t.co/xbkd2lQrYO\n",
      "\n",
      "Fox News (@FoxNews)\n",
      "Ahead of Trump meeting, British PM calls for US-UK to 'renew their special relationship'  https://t.co/mS70eP4VRw https://t.co/FESfZA8dcy\n",
      "\n",
      "J. Craig Venter (@JCVenter)\n",
      "RT @scifri: Tomorrow, we're talking to California's @JerryBrownGov about how states can take the lead on science issues – with or without W…\n",
      "\n"
     ]
    }
   ],
   "source": [
    "import tweepy as tw\n",
    "import pandas as pd\n",
    "\n",
    "# keys and tokens\n",
    "api_key = 'DEdm30gHSEZvDxqDs1vsjXV39'\n",
    "api_secret = 'pd2wCRoy17NihX1wPScQm8qwj0FR8cyXEwMeQWAvixk3SihPCr'\n",
    "access_token = '96322197-OagHjgItORlAuTBLFJ9XEjia3pxagbvRPXAyQfAMS'\n",
    "access_token_secret = '387os63xxvV05NcWvVeL3HaRKiyaE0xWCbkMZcmOvrpog'\n",
    " \n",
    "# authorize api\n",
    "auth = tw.OAuthHandler(api_key, api_secret)\n",
    "auth.set_access_token(access_token, access_token_secret)\n",
    "api = tw.API(auth)\n",
    "  \n",
    "for tweet in tw.Cursor(api.home_timeline).items(10):\n",
    "    author = tweet.author.name\n",
    "    sname = tweet.author.screen_name\n",
    "    text = tweet.text\n",
    "    \n",
    "    print('{} (@{})\\n{}'.format(author, sname, text))\n",
    "    print()\n"
   ]
  },
  {
   "cell_type": "code",
   "execution_count": null,
   "metadata": {
    "collapsed": true
   },
   "outputs": [],
   "source": []
  }
 ],
 "metadata": {
  "kernelspec": {
   "display_name": "Python [conda root]",
   "language": "python",
   "name": "conda-root-py"
  },
  "language_info": {
   "codemirror_mode": {
    "name": "ipython",
    "version": 3
   },
   "file_extension": ".py",
   "mimetype": "text/x-python",
   "name": "python",
   "nbconvert_exporter": "python",
   "pygments_lexer": "ipython3",
   "version": "3.5.2"
  }
 },
 "nbformat": 4,
 "nbformat_minor": 1
}
