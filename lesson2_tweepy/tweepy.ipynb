{
 "cells": [
  {
   "cell_type": "markdown",
   "metadata": {},
   "source": [
    "<center>*TA contact info*</center>\n",
    "I am available for all programming and math-related questions throughout the course. The best way to contact me is by email: \n",
    "\n",
    "<center>**deverett@princeton.edu**</center>\n",
    "\n",
    "---\n",
    "\n",
    "# Python and Twitter\n",
    "\n",
    "Today we will learn about blah blah.\n",
    "\n",
    "---\n",
    "\n",
    "<font color='green'> \n",
    "    **Exercise**: \n",
    "\n",
    "    <ul>\n",
    "    <li> go to https://apps.twitter.com </li>\n",
    "    <li> Create New App, with content of your choosing </li>\n",
    "    <li> Go to Keys and Access Tokens, Create My Access Token</li>\n",
    "    <li> In the next code cell, define 4 variables for your:\n",
    "        <ul>\n",
    "        <li> API Key </li>\n",
    "        <li> API Secret </li>\n",
    "        <li> Access Token </li>\n",
    "        <li> Access Token Secret </li>\n",
    "        </ul>\n",
    "    </li>\n",
    "    </ul>\n",
    "\n",
    "</font>\n"
   ]
  },
  {
   "cell_type": "code",
   "execution_count": 12,
   "metadata": {
    "collapsed": true
   },
   "outputs": [],
   "source": [
    "# define variables for your access keys\n",
    "api_key = '' # API Key\n",
    "api_secret = '' # API Secret -- you normally would not keep this secret in your code!\n",
    "access_token = '' # Access Token\n",
    "access_token_secret = '' # Access Token Secret -- you normally would not keep this secret in your code!"
   ]
  },
  {
   "cell_type": "code",
   "execution_count": 1,
   "metadata": {
    "collapsed": true
   },
   "outputs": [],
   "source": [
    "## DEBUG CELL\n",
    "api_key = 'kIrE1akPytCbN6dtfZoxmCmU3'\n",
    "api_secret = 'EnztGXvO3QDRWGAJZVV6UGrb0pT9EY3D9R9uSmtp1BuZFoMFZQ'\n",
    "access_token = '96322197-bzzWFgpdpQD4cFFdqLEEhfhl2t3zhlYhqYFUWf70x'\n",
    "access_token_secret = 'vF1nsbQzJeHOdDaFTNy0EREk7UVaDupehPaAZ5vNx5ZBn'"
   ]
  },
  {
   "cell_type": "markdown",
   "metadata": {},
   "source": [
    "\n",
    "\n",
    "<font color='green'> \n",
    "    **Exercise**: Using your keys and access tokens, use the tweepy package to authorize the Twitter API from within Python. (I have given you the code, so just run the cell.)\n",
    "\n",
    "</font>\n"
   ]
  },
  {
   "cell_type": "code",
   "execution_count": 2,
   "metadata": {
    "collapsed": false
   },
   "outputs": [],
   "source": [
    "import tweepy as tw\n",
    " \n",
    "# authorize the api\n",
    "auth = tw.OAuthHandler(api_key, api_secret)\n",
    "auth.set_access_token(access_token, access_token_secret)\n",
    "api = tw.API(auth)"
   ]
  },
  {
   "cell_type": "markdown",
   "metadata": {},
   "source": [
    "<font color='green'> \n",
    "    **Exercise**: Use your api object to retrieve the 10 most recent posts on your twitter feed.\n",
    "\n",
    "</font>"
   ]
  },
  {
   "cell_type": "code",
   "execution_count": 12,
   "metadata": {
    "collapsed": false
   },
   "outputs": [
    {
     "name": "stdout",
     "output_type": "stream",
     "text": [
      "It bothers him that a woman 🙌🏻 played Spicer? Then with all due respect to Alec Baldwin, let's have women play them… https://t.co/sJCsEVQXXc\n",
      "\n",
      "\n",
      "RT @SeanGugerty: Sean Gugerty tries again to extort Jason Watson to remove Sean Gugerty and Lenrissa Spicer from the website https://t.co/5…\n",
      "\n",
      "\n",
      "RT @MMFlint: I believe Melissa McCarthy has ended the career of Sean Spicer.\n",
      "\n",
      "\n",
      ".@CNN Trump Upset That a Woman Played Sean Spicer on SNL: Report https://t.co/8M7lACe40h via @intelligencer if Rosie does Bannon, 😂😂 #nodapl\n",
      "\n",
      "\n",
      "RT @ResistanceParty: RT this if u want to see @Rosie play Bannon on @nbcsnl. Reports that @melissamccarthy as Spicer drove him nuts. #Doubl…\n",
      "\n",
      "\n",
      "RT @MMFlint: I believe Melissa McCarthy has ended the career of Sean Spicer.\n",
      "\n",
      "\n",
      "RT @RoguePOTUSStaff: Spicer unhappy that he's been \"set up for failure.\" POTUS furious that one of his \"men\" portrayed by woman. Says it lo…\n",
      "\n",
      "\n",
      "RT @paulkrugman: When Spicer claims anti-Trump demonstrators are hired goons -- it's projection https://t.co/dYIrO7hyre\n",
      "\n",
      "\n",
      "RT @RealMuckmaker: Like I said yesterday,I don't know how Sean Spicer will separate himself from Melissa McCarthy's performance on SNL like…\n",
      "\n",
      "\n",
      "RT @MMFlint: I believe Melissa McCarthy has ended the career of Sean Spicer.\n",
      "\n",
      "\n"
     ]
    }
   ],
   "source": [
    "n_posts = 10\n",
    "\n",
    "\"\"\"\n",
    "for tweet in tw.Cursor(api.home_timeline).items(n_posts):\n",
    "    author = tweet.author.name\n",
    "    sname = tweet.author.screen_name\n",
    "    text = tweet.text\n",
    "    \n",
    "    print('{} (@{})\\n{}'.format(author, sname, text))\n",
    "    print()\n",
    "\"\"\"\n",
    "    \n",
    "for tweet in tw.Cursor(api.search, q='spicer').items(10):\n",
    "    print(tweet.text)"
   ]
  },
  {
   "cell_type": "markdown",
   "metadata": {
    "collapsed": true
   },
   "source": [
    "-get another person's tweets\n",
    "-put tweets into a pandas object or something\n",
    "-then count frequencies of words"
   ]
  },
  {
   "cell_type": "code",
   "execution_count": 21,
   "metadata": {
    "collapsed": false
   },
   "outputs": [],
   "source": []
  },
  {
   "cell_type": "code",
   "execution_count": null,
   "metadata": {
    "collapsed": true
   },
   "outputs": [],
   "source": []
  }
 ],
 "metadata": {
  "anaconda-cloud": {},
  "kernelspec": {
   "display_name": "Python [conda root]",
   "language": "python",
   "name": "conda-root-py"
  },
  "language_info": {
   "codemirror_mode": {
    "name": "ipython",
    "version": 3
   },
   "file_extension": ".py",
   "mimetype": "text/x-python",
   "name": "python",
   "nbconvert_exporter": "python",
   "pygments_lexer": "ipython3",
   "version": "3.5.2"
  }
 },
 "nbformat": 4,
 "nbformat_minor": 1
}
