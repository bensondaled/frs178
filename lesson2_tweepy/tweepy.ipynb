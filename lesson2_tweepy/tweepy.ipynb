{
 "cells": [
  {
   "cell_type": "markdown",
   "metadata": {},
   "source": [
    "<center>*TA contact info*</center>\n",
    "I am available for all programming and math-related questions throughout the course. The best way to contact me is by email: \n",
    "\n",
    "<center>**deverett@princeton.edu**</center>\n",
    "\n",
    "---\n",
    "\n",
    "# Python and Twitter\n",
    "\n",
    "Today we will learn about blah blah.\n",
    "\n",
    "---\n",
    "\n",
    "<font color='green'> \n",
    "    **Exercise**: \n",
    "\n",
    "    <ul>\n",
    "    <li> go to https://apps.twitter.com </li>\n",
    "    <li> Create New App, with content of your choosing </li>\n",
    "    <li> Go to Keys and Access Tokens, Create My Access Token</li>\n",
    "    <li> In the next code cell, define 4 variables for your:\n",
    "        <ul>\n",
    "        <li> API Key </li>\n",
    "        <li> API Secret </li>\n",
    "        <li> Access Token </li>\n",
    "        <li> Access Token Secret </li>\n",
    "        </ul>\n",
    "    </li>\n",
    "    </ul>\n",
    "\n",
    "</font>\n"
   ]
  },
  {
   "cell_type": "code",
   "execution_count": 12,
   "metadata": {
    "collapsed": true
   },
   "outputs": [],
   "source": [
    "# define variables for your access keys\n",
    "api_key = '' # API Key\n",
    "api_secret = '' # API Secret -- you normally would not keep this secret in your code!\n",
    "access_token = '' # Access Token\n",
    "access_token_secret = '' # Access Token Secret -- you normally would not keep this secret in your code!"
   ]
  },
  {
   "cell_type": "code",
   "execution_count": 13,
   "metadata": {
    "collapsed": true
   },
   "outputs": [],
   "source": [
    "## DEBUG CELL\n",
    "api_key = 'kIrE1akPytCbN6dtfZoxmCmU3'\n",
    "api_secret = 'EnztGXvO3QDRWGAJZVV6UGrb0pT9EY3D9R9uSmtp1BuZFoMFZQ'\n",
    "access_token = '96322197-bzzWFgpdpQD4cFFdqLEEhfhl2t3zhlYhqYFUWf70x'\n",
    "access_token_secret = 'vF1nsbQzJeHOdDaFTNy0EREk7UVaDupehPaAZ5vNx5ZBn'"
   ]
  },
  {
   "cell_type": "markdown",
   "metadata": {},
   "source": [
    "\n",
    "\n",
    "<font color='green'> \n",
    "    **Exercise**: Using your keys and access tokens, use the tweepy package to authorize the Twitter API from within Python. (I have given you the code, so just run the cell.)\n",
    "\n",
    "</font>\n"
   ]
  },
  {
   "cell_type": "code",
   "execution_count": 10,
   "metadata": {
    "collapsed": false
   },
   "outputs": [],
   "source": [
    "import tweepy as tw\n",
    " \n",
    "# authorize the api\n",
    "auth = tw.OAuthHandler(api_key, api_secret)\n",
    "auth.set_access_token(access_token, access_token_secret)\n",
    "api = tw.API(auth)"
   ]
  },
  {
   "cell_type": "markdown",
   "metadata": {},
   "source": [
    "<font color='green'> \n",
    "    **Exercise**: Use your api object to retrieve the 10 most recent posts on your twitter feed.\n",
    "\n",
    "</font>"
   ]
  },
  {
   "cell_type": "code",
   "execution_count": 11,
   "metadata": {
    "collapsed": false
   },
   "outputs": [
    {
     "name": "stdout",
     "output_type": "stream",
     "text": [
      "CNN (@CNN)\n",
      "Some of the people directly affected by President Trump's travel ban have told us their stories:… https://t.co/JUy5TRiyaC\n",
      "\n",
      "The New York Times (@nytimes)\n",
      "Senator John McCain said parts of President Trump's immigration ban \"will give ISIS some more propaganda\" https://t.co/LYBYJW1hVH\n",
      "\n",
      "CBC News (@CBCNews)\n",
      "Shkreli strikes back and new concerns about paid plasma: CBC's health newsletter https://t.co/Zrrtx9Ua0U https://t.co/XadrX9GV61\n",
      "\n",
      "Fox News (@FoxNews)\n",
      ".@JudgeJeanine on Illegal Immigration: 'Law &amp; Order is Back in the West' https://t.co/oEKUgrRNlQ https://t.co/ZO5NoY0nU5\n",
      "\n",
      "CBC News (@CBCNews)\n",
      "RT @CBCAlerts: US Senator John McCain calls Trump's immigration order confusing, saying it 'will probably, in some areas, give ISIS some mo…\n",
      "\n",
      "CBC News (@CBCNews)\n",
      "RT @CBCAlerts: Chilean firefighters still fighting raging forest fires, which have so far spread to affect 480,000 hectares.\n",
      "\n",
      "Fox News (@FoxNews)\n",
      "Swamp: Drained - @POTUS signs lobbying ban for officials. https://t.co/wksfzSwS1s\n",
      "\n",
      "The Economist (@TheEconomist)\n",
      "Why are the wings of some American cliff swallows getting longer? From the archive https://t.co/spV693HLbV\n",
      "\n",
      "The New Yorker (@NewYorker)\n",
      "A cartoon by Roz Chast. Follow our cartoon Instagram to see more: https://t.co/99J6osy5qB https://t.co/bBGJ8cgXhc\n",
      "\n",
      "Alex Piet (@alexpiet)\n",
      "RT @wbialek: Previously avoided politics in this venue.  No longer.  Among other stimuli, a young Iranian colleague at Princeton likely tra…\n",
      "\n"
     ]
    }
   ],
   "source": [
    "n_posts = 10\n",
    "\n",
    "for tweet in tw.Cursor(api.home_timeline).items(n_posts):\n",
    "    author = tweet.author.name\n",
    "    sname = tweet.author.screen_name\n",
    "    text = tweet.text\n",
    "    \n",
    "    print('{} (@{})\\n{}'.format(author, sname, text))\n",
    "    print()\n"
   ]
  },
  {
   "cell_type": "markdown",
   "metadata": {
    "collapsed": true
   },
   "source": [
    "-get another person's tweets\n",
    "-put tweets into a pandas object or something\n",
    "-then count frequencies of words"
   ]
  },
  {
   "cell_type": "code",
   "execution_count": null,
   "metadata": {
    "collapsed": true
   },
   "outputs": [],
   "source": []
  }
 ],
 "metadata": {
  "anaconda-cloud": {},
  "kernelspec": {
   "display_name": "Python [conda root]",
   "language": "python",
   "name": "conda-root-py"
  },
  "language_info": {
   "codemirror_mode": {
    "name": "ipython",
    "version": 3
   },
   "file_extension": ".py",
   "mimetype": "text/x-python",
   "name": "python",
   "nbconvert_exporter": "python",
   "pygments_lexer": "ipython3",
   "version": "3.5.2"
  }
 },
 "nbformat": 4,
 "nbformat_minor": 1
}
