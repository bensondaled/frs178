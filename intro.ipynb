{
 "cells": [
  {
   "cell_type": "markdown",
   "metadata": {},
   "source": [
    "<center>*TA contact info*</center>\n",
    "I am available for all programming and math-related questions throughout the course. The best way to contact me is by email: \n",
    "\n",
    "<center>**deverett@princeton.edu**</center>\n",
    "\n",
    "---\n",
    "\n",
    "# Intro to Python\n",
    "\n",
    "Welcome to FRS178. As part of this course, you will learn to use programming as a tool for collecting and analyzing data.\n",
    "\n",
    "We will do most of our programming in **Python**, which is a multi-purpose programming language used by scientists, software developers, web designers, and more.\n",
    "\n",
    "To start, let's go over the basics of programming to get you moving with Python.\n",
    "But before beginning the tutorial, I leave you with the one and only rule of Python programming:\n",
    "\n",
    "<br/><center>*If you have a question, Google it. 99.9% of your questions have already been answered online.*</center><br/>\n",
    "\n",
    "\n",
    "(Side note: Learning the Python programming language is a large task that could constitute multiple courses in itself. However, this is not a programming course, but rather our goal will be to use programming as a tool for data exploration. Therefore, this overview is highly selective and fast-paced. I strongly encourage you to explore programming on your own to become familiar with it in more depth.)\n",
    "\n",
    "---"
   ]
  },
  {
   "cell_type": "markdown",
   "metadata": {},
   "source": [
    "You are currently looking at a Jupyter notebook. This is simply a program designed to edit and run text and code in a pretty way. The notebook is split into blocks called \"cells.\" A cell can contain text, like this one you are reading, or code, as you'll see soon.\n",
    "\n",
    "There are many keyboard commands available in notebooks, and you can find them by clicking the keyboard icon along the top menu. The most important command to know is:\n",
    "\n",
    "**command + Enter**\n",
    "\n",
    "This command runs a cell. \n",
    "\n",
    "In the case of text cells, it simply formats the text. \n",
    "\n",
    "In the case of code cells, it executes the commands you have written, and displays an output if there is one.\n",
    "\n",
    "---\n",
    "\n",
    "<font color='green'> \n",
    "**Exercise**: in the next cell, write out the following, replacing \"Jen\" for your own name. Then, run the cell and see how the formatting turns out.  \n",
    "<br/><center>\n",
    "My name is Jen.  \n",
    "\\* My name is Jen. \\*  \n",
    "\\*\\* My name is Jen. \\*\\*  \n",
    "\\# My name is Jen.  \n",
    "\\#\\# My name is Jen.\n",
    "</center>\n",
    "\n",
    "<br/>\n",
    "*Hint*: to move to a new line, include 2 spaces at the end of the current line.  \n",
    "\n",
    "<br/>\n",
    "Play around with formatting to get a feel for text editing in notebook cells. If you want to learn more about this, you can visit:\n",
    "\n",
    "http://jupyter-notebook.readthedocs.io/en/latest/examples/Notebook/Working%20With%20Markdown%20Cells.html  \n",
    "\n",
    "</font>"
   ]
  },
  {
   "cell_type": "markdown",
   "metadata": {},
   "source": [
    "(replace this cell with your own text)"
   ]
  },
  {
   "cell_type": "markdown",
   "metadata": {},
   "source": [
    "---\n",
    "\n",
    "Now that you can run a notebook cell, let's dive into Python. Our first exercise will teach us how to do some basic manipulations of words and numbers.\n",
    "\n",
    "<font color='green'> \n",
    "**Exercise**: convert the next cell to a code cell, then run it and see what happens. To do this:\n",
    "* select the cell by clicking on it\n",
    "* at the top menu, select Cell → Cell Type → Code\n",
    "* run the cell\n",
    "<br/><center>"
   ]
  },
  {
   "cell_type": "markdown",
   "metadata": {},
   "source": [
    "print('hello and welcome to FRS178!')"
   ]
  },
  {
   "cell_type": "markdown",
   "metadata": {},
   "source": [
    "Congrats, you ran a line of Python code. Now, explore the following cell of Python code, edit it as you please, and re-run it each time you make an edit. The goal here is to get comfortable with editing and running cells of Python code."
   ]
  },
  {
   "cell_type": "code",
   "execution_count": 12,
   "metadata": {
    "collapsed": false
   },
   "outputs": [
    {
     "name": "stdout",
     "output_type": "stream",
     "text": [
      "Today is Thursday.\n",
      "4\n",
      "I have 63 apples.\n",
      "hello hello hello hello hello \n"
     ]
    }
   ],
   "source": [
    "# this line is a comment; Python completely ignores it\n",
    "\n",
    "print('Today is Thursday.')\n",
    "\n",
    "print(2+2)\n",
    "\n",
    "print('I have', 9*7, 'apples.')\n",
    "\n",
    "print(5*'hello ')"
   ]
  },
  {
   "cell_type": "markdown",
   "metadata": {},
   "source": [
    "Now let's learn about **variables**. Blah blah..."
   ]
  },
  {
   "cell_type": "code",
   "execution_count": 15,
   "metadata": {
    "collapsed": false
   },
   "outputs": [
    {
     "name": "stdout",
     "output_type": "stream",
     "text": [
      "Hello my name is Ben and I am 15 years old.\n"
     ]
    }
   ],
   "source": [
    "my_name = 'Ben'\n",
    "my_age = 15\n",
    "\n",
    "print('Hello my name is', my_name, 'and I am', my_age, 'years old.')"
   ]
  },
  {
   "cell_type": "code",
   "execution_count": null,
   "metadata": {
    "collapsed": true
   },
   "outputs": [],
   "source": []
  }
 ],
 "metadata": {
  "anaconda-cloud": {},
  "kernelspec": {
   "display_name": "Python [conda root]",
   "language": "python",
   "name": "conda-root-py"
  },
  "language_info": {
   "codemirror_mode": {
    "name": "ipython",
    "version": 3
   },
   "file_extension": ".py",
   "mimetype": "text/x-python",
   "name": "python",
   "nbconvert_exporter": "python",
   "pygments_lexer": "ipython3",
   "version": "3.5.2"
  }
 },
 "nbformat": 4,
 "nbformat_minor": 1
}
